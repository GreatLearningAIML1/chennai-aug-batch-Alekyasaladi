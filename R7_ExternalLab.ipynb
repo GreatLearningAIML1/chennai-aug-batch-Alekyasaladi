{
  "nbformat": 4,
  "nbformat_minor": 0,
  "metadata": {
    "colab": {
      "name": "R7_ExternalLab_Questions.ipynb",
      "version": "0.3.2",
      "provenance": [],
      "collapsed_sections": []
    },
    "kernelspec": {
      "name": "python3",
      "display_name": "Python 3"
    },
    "accelerator": "GPU"
  },
  "cells": [
    {
      "metadata": {
        "id": "4WH1Pr4KQlCh",
        "colab_type": "text"
      },
      "cell_type": "markdown",
      "source": [
        "### Build a DNN using Keras with `RELU` and `ADAM`"
      ]
    },
    {
      "metadata": {
        "slideshow": {
          "slide_type": "slide"
        },
        "id": "TbvI8LqlQlCl",
        "colab_type": "text"
      },
      "cell_type": "markdown",
      "source": [
        "#### Load tensorflow"
      ]
    },
    {
      "metadata": {
        "id": "SPW-a-qYQlCp",
        "colab_type": "code",
        "colab": {}
      },
      "cell_type": "code",
      "source": [
        "import tensorflow as tf\n",
        "tf.reset_default_graph()\n",
        "tf.set_random_seed(42)"
      ],
      "execution_count": 0,
      "outputs": []
    },
    {
      "metadata": {
        "slideshow": {
          "slide_type": "slide"
        },
        "id": "74cQBsi5QlCw",
        "colab_type": "text"
      },
      "cell_type": "markdown",
      "source": [
        "#### Collect Fashion mnist data from tf.keras.datasets "
      ]
    },
    {
      "metadata": {
        "id": "8H4gOaeJQlCx",
        "colab_type": "code",
        "outputId": "b17f7e33-f934-485f-913f-68da96bfc154",
        "colab": {
          "base_uri": "https://localhost:8080/",
          "height": 34
        }
      },
      "cell_type": "code",
      "source": [
        "from keras.datasets import fashion_mnist\n",
        "(x_train, y_train), (x_test, y_test) = fashion_mnist.load_data()"
      ],
      "execution_count": 2,
      "outputs": [
        {
          "output_type": "stream",
          "text": [
            "Using TensorFlow backend.\n"
          ],
          "name": "stderr"
        }
      ]
    },
    {
      "metadata": {
        "slideshow": {
          "slide_type": "slide"
        },
        "id": "no7aWYZyQlC1",
        "colab_type": "text"
      },
      "cell_type": "markdown",
      "source": [
        "#### Change train and test labels into one-hot vectors"
      ]
    },
    {
      "metadata": {
        "id": "UX6otc4wQlC2",
        "colab_type": "code",
        "colab": {}
      },
      "cell_type": "code",
      "source": [
        "trainY = tf.keras.utils.to_categorical(y_train, num_classes=10)\n",
        "testY = tf.keras.utils.to_categorical(y_test, num_classes=10)"
      ],
      "execution_count": 0,
      "outputs": []
    },
    {
      "metadata": {
        "id": "nwxjGJYWJKdO",
        "colab_type": "code",
        "colab": {}
      },
      "cell_type": "code",
      "source": [
        ""
      ],
      "execution_count": 0,
      "outputs": []
    },
    {
      "metadata": {
        "id": "6Uo2uVQ3JO1K",
        "colab_type": "code",
        "colab": {}
      },
      "cell_type": "code",
      "source": [
        ""
      ],
      "execution_count": 0,
      "outputs": []
    },
    {
      "metadata": {
        "slideshow": {
          "slide_type": "slide"
        },
        "id": "QjNrRTdoQlC5",
        "colab_type": "text"
      },
      "cell_type": "markdown",
      "source": [
        "#### Build the Graph"
      ]
    },
    {
      "metadata": {
        "id": "CDJ9DHVNQlC7",
        "colab_type": "text"
      },
      "cell_type": "markdown",
      "source": [
        "#### Initialize model, reshape & normalize data"
      ]
    },
    {
      "metadata": {
        "id": "EvwFVYBQJq-y",
        "colab_type": "code",
        "outputId": "2aec7f8a-c363-4ab4-f4b9-c2a68ac36a80",
        "colab": {
          "base_uri": "https://localhost:8080/",
          "height": 88
        }
      },
      "cell_type": "code",
      "source": [
        " #Initialize Sequential model\n",
        "model = tf.keras.models.Sequential()\n",
        "model.add(tf.keras.layers.Reshape((784,),input_shape=(28,28,)))\n",
        "#Normalize the data\n",
        "model.add(tf.keras.layers.BatchNormalization())"
      ],
      "execution_count": 4,
      "outputs": [
        {
          "output_type": "stream",
          "text": [
            "WARNING:tensorflow:From /usr/local/lib/python3.6/dist-packages/tensorflow/python/ops/resource_variable_ops.py:435: colocate_with (from tensorflow.python.framework.ops) is deprecated and will be removed in a future version.\n",
            "Instructions for updating:\n",
            "Colocations handled automatically by placer.\n"
          ],
          "name": "stdout"
        }
      ]
    },
    {
      "metadata": {
        "slideshow": {
          "slide_type": "slide"
        },
        "id": "kBGwTTilQlDD",
        "colab_type": "text"
      },
      "cell_type": "markdown",
      "source": [
        "#### Add two fully connected layers with 200 and 100 neurons respectively with `relu` activations. Add a dropout layer with `p=0.25`"
      ]
    },
    {
      "metadata": {
        "id": "IXbfpfOzQlDF",
        "colab_type": "code",
        "colab": {}
      },
      "cell_type": "code",
      "source": [
        "#Add Dense Layer which provides 10 Outputs after applying softmax\n",
        "model.add(tf.keras.layers.Dense(200, activation='relu'))\n",
        "\n",
        "#Add Dense Layer which provides 10 Outputs after applying softmax\n",
        "model.add(tf.keras.layers.Dense(100, activation='relu'))"
      ],
      "execution_count": 0,
      "outputs": []
    },
    {
      "metadata": {
        "id": "5I8f5otcQlDJ",
        "colab_type": "text"
      },
      "cell_type": "markdown",
      "source": [
        "### Add the output layer with a fully connected layer with 10 neurons with `softmax` activation. Use `categorical_crossentropy` loss and `adam` optimizer and train the network. And, report the final validation."
      ]
    },
    {
      "metadata": {
        "id": "E25kuP_NQlDM",
        "colab_type": "code",
        "colab": {}
      },
      "cell_type": "code",
      "source": [
        "\n",
        "\n",
        "\n",
        "#Add Dense Layer which provides 10 Outputs after applying softmax\n",
        "model.add(tf.keras.layers.Dense(10, activation='softmax'))\n",
        "\n",
        "#Comile the model\n",
        "model.compile(optimizer='adam', loss='categorical_crossentropy', metrics=['accuracy'])\n",
        "\n",
        "    "
      ],
      "execution_count": 0,
      "outputs": []
    },
    {
      "metadata": {
        "id": "MUxHwmIHzXIT",
        "colab_type": "code",
        "outputId": "63128459-cfa1-4044-d448-7bff740963cd",
        "colab": {
          "base_uri": "https://localhost:8080/",
          "height": 462
        }
      },
      "cell_type": "code",
      "source": [
        "   \n",
        "# Train the model\n",
        "model.fit(x_train, trainY, batch_size=32, epochs=10, \n",
        "              validation_data=(x_test, testY))"
      ],
      "execution_count": 7,
      "outputs": [
        {
          "output_type": "stream",
          "text": [
            "Train on 60000 samples, validate on 10000 samples\n",
            "WARNING:tensorflow:From /usr/local/lib/python3.6/dist-packages/tensorflow/python/ops/math_ops.py:3066: to_int32 (from tensorflow.python.ops.math_ops) is deprecated and will be removed in a future version.\n",
            "Instructions for updating:\n",
            "Use tf.cast instead.\n",
            "Epoch 1/10\n",
            "60000/60000 [==============================] - 11s 178us/sample - loss: 0.4658 - acc: 0.8304 - val_loss: 0.3925 - val_acc: 0.8574\n",
            "Epoch 2/10\n",
            "60000/60000 [==============================] - 10s 171us/sample - loss: 0.3567 - acc: 0.8682 - val_loss: 0.3771 - val_acc: 0.8646\n",
            "Epoch 3/10\n",
            "60000/60000 [==============================] - 10s 171us/sample - loss: 0.3182 - acc: 0.8821 - val_loss: 0.3445 - val_acc: 0.8752\n",
            "Epoch 4/10\n",
            "60000/60000 [==============================] - 10s 171us/sample - loss: 0.2957 - acc: 0.8893 - val_loss: 0.3551 - val_acc: 0.8737\n",
            "Epoch 5/10\n",
            "60000/60000 [==============================] - 11s 177us/sample - loss: 0.2778 - acc: 0.8965 - val_loss: 0.3540 - val_acc: 0.8790\n",
            "Epoch 6/10\n",
            "60000/60000 [==============================] - 10s 171us/sample - loss: 0.2609 - acc: 0.9018 - val_loss: 0.3392 - val_acc: 0.8832\n",
            "Epoch 7/10\n",
            "60000/60000 [==============================] - 10s 170us/sample - loss: 0.2480 - acc: 0.9070 - val_loss: 0.3610 - val_acc: 0.8792\n",
            "Epoch 8/10\n",
            "60000/60000 [==============================] - 10s 170us/sample - loss: 0.2337 - acc: 0.9113 - val_loss: 0.3685 - val_acc: 0.8857\n",
            "Epoch 9/10\n",
            "60000/60000 [==============================] - 10s 171us/sample - loss: 0.2225 - acc: 0.9153 - val_loss: 0.3343 - val_acc: 0.8884\n",
            "Epoch 10/10\n",
            "60000/60000 [==============================] - 10s 171us/sample - loss: 0.2144 - acc: 0.9189 - val_loss: 0.3626 - val_acc: 0.8934\n"
          ],
          "name": "stdout"
        },
        {
          "output_type": "execute_result",
          "data": {
            "text/plain": [
              "<tensorflow.python.keras.callbacks.History at 0x7f214e1c3ba8>"
            ]
          },
          "metadata": {
            "tags": []
          },
          "execution_count": 7
        }
      ]
    },
    {
      "metadata": {
        "id": "vJl2GM7QQvs7",
        "colab_type": "text"
      },
      "cell_type": "markdown",
      "source": [
        "## Word Embeddings in Python with Gensim"
      ]
    },
    {
      "metadata": {
        "id": "9QoSmK_yQydL",
        "colab_type": "text"
      },
      "cell_type": "markdown",
      "source": [
        "In this, you will practice how to train and load word embedding models for natural language processing applications in Python using Gensim.\n"
      ]
    },
    {
      "metadata": {
        "id": "lqHUk1kBQ2Pl",
        "colab_type": "text"
      },
      "cell_type": "markdown",
      "source": [
        "1. How to train your own word2vec word embedding model on text data.\n",
        "2. How to visualize a trained word embedding model using Principal Component Analysis.\n",
        "3. How to load pre-trained word2vec word embedding models."
      ]
    },
    {
      "metadata": {
        "id": "x3EEkH5mQ6F0",
        "colab_type": "text"
      },
      "cell_type": "markdown",
      "source": [
        "### Run the below two commands to install gensim and the wiki dataset"
      ]
    },
    {
      "metadata": {
        "id": "Z_dPUh8YQ6Yi",
        "colab_type": "code",
        "outputId": "5fe20b3e-7241-4016-d202-8d8a17c19c04",
        "colab": {
          "base_uri": "https://localhost:8080/",
          "height": 343
        }
      },
      "cell_type": "code",
      "source": [
        "!pip install --upgrade gensim --user"
      ],
      "execution_count": 8,
      "outputs": [
        {
          "output_type": "stream",
          "text": [
            "Requirement already up-to-date: gensim in /root/.local/lib/python3.6/site-packages (3.7.1)\n",
            "Requirement already satisfied, skipping upgrade: scipy>=0.18.1 in /usr/local/lib/python3.6/dist-packages (from gensim) (1.1.0)\n",
            "Requirement already satisfied, skipping upgrade: smart-open>=1.7.0 in /usr/local/lib/python3.6/dist-packages (from gensim) (1.8.0)\n",
            "Requirement already satisfied, skipping upgrade: six>=1.5.0 in /usr/local/lib/python3.6/dist-packages (from gensim) (1.11.0)\n",
            "Requirement already satisfied, skipping upgrade: numpy>=1.11.3 in /usr/local/lib/python3.6/dist-packages (from gensim) (1.14.6)\n",
            "Requirement already satisfied, skipping upgrade: boto>=2.32 in /usr/local/lib/python3.6/dist-packages (from smart-open>=1.7.0->gensim) (2.49.0)\n",
            "Requirement already satisfied, skipping upgrade: bz2file in /usr/local/lib/python3.6/dist-packages (from smart-open>=1.7.0->gensim) (0.98)\n",
            "Requirement already satisfied, skipping upgrade: requests in /usr/local/lib/python3.6/dist-packages (from smart-open>=1.7.0->gensim) (2.18.4)\n",
            "Requirement already satisfied, skipping upgrade: boto3 in /usr/local/lib/python3.6/dist-packages (from smart-open>=1.7.0->gensim) (1.9.95)\n",
            "Requirement already satisfied, skipping upgrade: certifi>=2017.4.17 in /usr/local/lib/python3.6/dist-packages (from requests->smart-open>=1.7.0->gensim) (2018.11.29)\n",
            "Requirement already satisfied, skipping upgrade: chardet<3.1.0,>=3.0.2 in /usr/local/lib/python3.6/dist-packages (from requests->smart-open>=1.7.0->gensim) (3.0.4)\n",
            "Requirement already satisfied, skipping upgrade: idna<2.7,>=2.5 in /usr/local/lib/python3.6/dist-packages (from requests->smart-open>=1.7.0->gensim) (2.6)\n",
            "Requirement already satisfied, skipping upgrade: urllib3<1.23,>=1.21.1 in /usr/local/lib/python3.6/dist-packages (from requests->smart-open>=1.7.0->gensim) (1.22)\n",
            "Requirement already satisfied, skipping upgrade: botocore<1.13.0,>=1.12.95 in /usr/local/lib/python3.6/dist-packages (from boto3->smart-open>=1.7.0->gensim) (1.12.95)\n",
            "Requirement already satisfied, skipping upgrade: s3transfer<0.3.0,>=0.2.0 in /usr/local/lib/python3.6/dist-packages (from boto3->smart-open>=1.7.0->gensim) (0.2.0)\n",
            "Requirement already satisfied, skipping upgrade: jmespath<1.0.0,>=0.7.1 in /usr/local/lib/python3.6/dist-packages (from boto3->smart-open>=1.7.0->gensim) (0.9.3)\n",
            "Requirement already satisfied, skipping upgrade: python-dateutil<3.0.0,>=2.1; python_version >= \"2.7\" in /usr/local/lib/python3.6/dist-packages (from botocore<1.13.0,>=1.12.95->boto3->smart-open>=1.7.0->gensim) (2.5.3)\n",
            "Requirement already satisfied, skipping upgrade: docutils>=0.10 in /usr/local/lib/python3.6/dist-packages (from botocore<1.13.0,>=1.12.95->boto3->smart-open>=1.7.0->gensim) (0.14)\n"
          ],
          "name": "stdout"
        }
      ]
    },
    {
      "metadata": {
        "id": "-9-xPiuTQ-nD",
        "colab_type": "code",
        "outputId": "64d26f6e-9479-4b57-b018-336072685b07",
        "colab": {
          "base_uri": "https://localhost:8080/",
          "height": 136
        }
      },
      "cell_type": "code",
      "source": [
        "!pip install wikipedia --user"
      ],
      "execution_count": 9,
      "outputs": [
        {
          "output_type": "stream",
          "text": [
            "Requirement already satisfied: wikipedia in /root/.local/lib/python3.6/site-packages (1.4.0)\n",
            "Requirement already satisfied: beautifulsoup4 in /usr/local/lib/python3.6/dist-packages (from wikipedia) (4.6.3)\n",
            "Requirement already satisfied: requests<3.0.0,>=2.0.0 in /usr/local/lib/python3.6/dist-packages (from wikipedia) (2.18.4)\n",
            "Requirement already satisfied: chardet<3.1.0,>=3.0.2 in /usr/local/lib/python3.6/dist-packages (from requests<3.0.0,>=2.0.0->wikipedia) (3.0.4)\n",
            "Requirement already satisfied: urllib3<1.23,>=1.21.1 in /usr/local/lib/python3.6/dist-packages (from requests<3.0.0,>=2.0.0->wikipedia) (1.22)\n",
            "Requirement already satisfied: idna<2.7,>=2.5 in /usr/local/lib/python3.6/dist-packages (from requests<3.0.0,>=2.0.0->wikipedia) (2.6)\n",
            "Requirement already satisfied: certifi>=2017.4.17 in /usr/local/lib/python3.6/dist-packages (from requests<3.0.0,>=2.0.0->wikipedia) (2018.11.29)\n"
          ],
          "name": "stdout"
        }
      ]
    },
    {
      "metadata": {
        "id": "Te2mI1FHQ_I1",
        "colab_type": "text"
      },
      "cell_type": "markdown",
      "source": [
        "### Import gensim"
      ]
    },
    {
      "metadata": {
        "id": "qQQwRUJ0RAlJ",
        "colab_type": "code",
        "colab": {}
      },
      "cell_type": "code",
      "source": [
        "import gensim"
      ],
      "execution_count": 0,
      "outputs": []
    },
    {
      "metadata": {
        "id": "5dXgBNlORBGP",
        "colab_type": "text"
      },
      "cell_type": "markdown",
      "source": [
        "### Obtain Text"
      ]
    },
    {
      "metadata": {
        "id": "xdnvuDLCRDO4",
        "colab_type": "text"
      },
      "cell_type": "markdown",
      "source": [
        "Import search and page functions from wikipedia module\n",
        "search(/key word/): search function takes keyword as argument and gives top 10 article titles matching the given keyword.\n",
        "\n",
        "page(/title of article/): page function takes page title as argument and gives content in the output."
      ]
    },
    {
      "metadata": {
        "id": "VgB7SX-TRHNT",
        "colab_type": "code",
        "colab": {}
      },
      "cell_type": "code",
      "source": [
        "## Usage:\n",
        "from wikipedia import search, page\n",
        "## titles = search(\"<Key word goes here>\")\n",
        "## wikipage = page(titles[0])\n",
        "## print wikipage.content"
      ],
      "execution_count": 0,
      "outputs": []
    },
    {
      "metadata": {
        "id": "q54h4vNaRJXe",
        "colab_type": "text"
      },
      "cell_type": "markdown",
      "source": [
        "### Print the top 10 titles for the keyword `Machine Learning`"
      ]
    },
    {
      "metadata": {
        "id": "yuyLmsnsRK6f",
        "colab_type": "code",
        "colab": {
          "base_uri": "https://localhost:8080/",
          "height": 187
        },
        "outputId": "94e13016-4109-4250-d380-8a25d7d8697f"
      },
      "cell_type": "code",
      "source": [
        "titles = search(\"Machine Learning\")\n",
        "titles[0:10]"
      ],
      "execution_count": 12,
      "outputs": [
        {
          "output_type": "execute_result",
          "data": {
            "text/plain": [
              "['Machine learning',\n",
              " 'Active learning (machine learning)',\n",
              " 'Deep learning',\n",
              " 'Boosting (machine learning)',\n",
              " 'List of datasets for machine learning research',\n",
              " 'Support-vector machine',\n",
              " 'Adversarial machine learning',\n",
              " 'Learning',\n",
              " 'Outline of machine learning',\n",
              " 'Weka (machine learning)']"
            ]
          },
          "metadata": {
            "tags": []
          },
          "execution_count": 12
        }
      ]
    },
    {
      "metadata": {
        "id": "a3faXGqLRQx1",
        "colab_type": "text"
      },
      "cell_type": "markdown",
      "source": [
        "### Get the content from the first title from the above obtained 10 titles."
      ]
    },
    {
      "metadata": {
        "id": "HOqiYzrqRQ-M",
        "colab_type": "code",
        "colab": {
          "base_uri": "https://localhost:8080/",
          "height": 3845
        },
        "outputId": "5d667697-6d8d-417b-c1a6-e88f07ee188c"
      },
      "cell_type": "code",
      "source": [
        "wikipage = page(titles[0])\n",
        "print(wikipage.content)"
      ],
      "execution_count": 15,
      "outputs": [
        {
          "output_type": "stream",
          "text": [
            "Machine learning (ML) is the scientific study of algorithms and statistical models that computer systems use to effectively perform a specific task without using explicit instructions, relying on patterns and inference instead. It is seen as a subset of artificial intelligence. Machine learning algorithms build a mathematical model of sample data, known as \"training data\", in order to make predictions or decisions without being explicitly programmed to perform the task. Machine learning algorithms are used in the applications of email filtering, detection of network intruders, and computer vision, where it is infeasible to develop an algorithm of specific instructions for performing the task. Machine learning is closely related to computational statistics, which focuses on making predictions using computers. The study of mathematical optimization delivers methods, theory and application domains to the field of machine learning. Data mining is a field of study within machine learning, and focuses on exploratory data analysis through unsupervised learning. In its application across business problems, machine learning is also referred to as predictive analytics.\n",
            "\n",
            "\n",
            "== Overview of Machine Learning ==\n",
            "The name machine learning was coined in 1959 by Arthur Samuel. Tom M. Mitchell provided a widely quoted, more formal definition of the algorithms studied in the machine learning field: \"A computer program is said to learn from experience E with respect to some class of tasks T and performance measure P if its performance at tasks in T, as measured by P,  improves with experience E.\" This definition of the tasks in which machine learning is concerned offers a fundamentally operational definition rather than defining the field in cognitive terms. This follows Alan Turing's proposal in his paper \"Computing Machinery and Intelligence\", in which the question \"Can machines think?\" is replaced with the question \"Can machines do what we (as thinking entities) can do?\". In Turing's proposal the various characteristics that could be possessed by a thinking machine and the various implications in constructing one are exposed.\n",
            "\n",
            "\n",
            "=== Machine learning tasks ===\n",
            "\n",
            "Machine learning tasks are classified into several broad categories. In supervised learning, the algorithm builds a mathematical model from a set of data that contains both the inputs and the desired outputs. For example, if the task were determining whether an image contained a certain object, the training data for a supervised learning algorithm would include images with and without that object (the input), and each image would have a label (the output) designating whether it contained the object. In special cases, the input may be only partially available, or restricted to special feedback. Semi-supervised learning algorithms develop mathematical models from incomplete training data, where a portion of the sample input doesn't have labels.\n",
            "Classification algorithms and regression algorithms are types of supervised learning. Classification algorithms are used when the outputs are restricted to a limited set of values. For a classification algorithm that filters emails, the input would be an incoming email, and the output would be the name of the folder in which to file the email. For an algorithm that identifies spam emails, the output would be the prediction of either \"spam\" or \"not spam\", represented by the Boolean values true and false. Regression algorithms are named for their continuous outputs, meaning they may have any value within a range. Examples of a continuous value are the temperature, length, or price of an object.\n",
            "In unsupervised learning, the algorithm builds a mathematical model from a set of data which contains only inputs and no desired output labels. Unsupervised learning algorithms are used to find structure in the data, like grouping or clustering of data points. Unsupervised learning can discover patterns in the data, and can group the inputs into categories, as in feature learning. Dimensionality reduction is the process of reducing the number of \"features\", or inputs, in a set of data. \n",
            "Active learning algorithms access the desired outputs (training labels) for a limited set of inputs based on a budget, and optimize the choice of inputs for which it will acquire training labels. When used interactively, these can be presented to a human user for labeling. Reinforcement learning algorithms are given feedback in the form of positive or negative reinforcement in a dynamic environment, and are used in autonomous vehicles or in learning to play a game against a human opponent. Other specialized algorithms in machine learning include topic modeling, where the computer program is given a set of natural language documents and finds other documents that cover similar topics. Machine learning algorithms can be used to find the unobservable probability density function in density estimation problems. Meta learning algorithms learn their own inductive bias based on previous experience. In developmental robotics, robot learning algorithms generate their own sequences of learning experiences, also known as a curriculum, to cumulatively acquire new skills through self-guided exploration and social interaction with humans. These robots use guidance mechanisms such as active learning, maturation, motor synergies, and imitation.\n",
            "\n",
            "\n",
            "== History and relationships to other fields ==\n",
            "\n",
            "Arthur Samuel, an American pioneer in the field of computer gaming and artificial intelligence, coined the term \"Machine Learning\" in 1959 while at IBM. \n",
            "As a scientific endeavour, machine learning grew out of the quest for artificial intelligence. Already in the early days of AI as an academic discipline, some researchers were interested in having machines learn from data. They attempted to approach the problem with various symbolic methods, as well as what were then termed \"neural networks\"; these were mostly perceptrons and other models that were later found to be reinventions of the generalized linear models of statistics. Probabilistic reasoning was also employed, especially in automated medical diagnosis.However, an increasing emphasis on the logical, knowledge-based approach caused a rift between AI and machine learning. Probabilistic systems were plagued by theoretical and practical problems of data acquisition and representation. By 1980, expert systems had come to dominate AI, and statistics was out of favor. Work on symbolic/knowledge-based learning did continue within AI, leading to inductive logic programming, but the more statistical line of research was now outside the field of AI proper, in pattern recognition and information retrieval. Neural networks research had been abandoned by AI and computer science around the same time. This line, too, was continued outside the AI/CS field, as \"connectionism\", by researchers from other disciplines including Hopfield, Rumelhart and Hinton. Their main success came in the mid-1980s with the reinvention of backpropagation.Machine learning, reorganized as a separate field, started to flourish in the 1990s. The field changed its goal from achieving artificial intelligence to tackling solvable problems of a practical nature. It shifted focus away from the symbolic approaches it had inherited from AI, and toward methods and models borrowed from statistics and probability theory. It also benefited from the increasing availability of digitized information, and the ability to distribute it via the Internet.\n",
            "\n",
            "\n",
            "=== Relation to data mining ===\n",
            "Machine learning and data mining often employ the same methods and overlap significantly, but while machine learning focuses on prediction, based on known properties learned from the training data, data mining focuses on the discovery of (previously) unknown properties in the data (this is the analysis step of knowledge discovery in databases). Data mining uses many machine learning methods, but with different goals; on the other hand, machine learning also employs data mining methods as \"unsupervised learning\" or as a preprocessing step to improve learner accuracy. Much of the confusion between these two research communities (which do often have separate conferences and separate journals, ECML PKDD being a major exception) comes from the basic assumptions they work with: in machine learning, performance is usually evaluated with respect to the ability to reproduce known knowledge, while in knowledge discovery and data mining (KDD) the key task is the discovery of previously unknown knowledge. Evaluated with respect to known knowledge, an uninformed (unsupervised) method will easily be outperformed by other supervised methods, while in a typical KDD task, supervised methods cannot be used due to the unavailability of training data.\n",
            "\n",
            "\n",
            "=== Relation to optimization ===\n",
            "Machine learning also has intimate ties to optimization: many learning problems are formulated as minimization of some loss function on a training set of examples. Loss functions express the discrepancy between the predictions of the model being trained and the actual problem instances (for example, in classification, one wants to assign a label to instances, and models are trained to correctly predict the pre-assigned labels of a set of examples). The difference between the two fields arises from the goal of generalization: while optimization algorithms can minimize the loss on a training set, machine learning is concerned with minimizing the loss on unseen samples.\n",
            "\n",
            "\n",
            "=== Relation to statistics ===\n",
            "Machine learning and statistics are closely related fields. According to Michael I. Jordan, the ideas of machine learning, from methodological principles to theoretical tools, have had a long pre-history in statistics. He also suggested the term data science as a placeholder to call the overall field.Leo Breiman distinguished two statistical modelling paradigms: data model and algorithmic model, wherein \"algorithmic model\" means more or less the machine learning algorithms like Random forest.\n",
            "Some statisticians have adopted methods from machine learning, leading to a combined field that they call statistical learning.\n",
            "\n",
            "\n",
            "== Theory ==\n",
            "\n",
            "A core objective of a learner is to generalize from its experience. Generalization in this context is the ability of a learning machine to perform accurately on new, unseen examples/tasks after having experienced a learning data set. The training examples come from some generally unknown probability distribution (considered representative of the space of occurrences) and the learner has to build a general model about this space that enables it to produce sufficiently accurate predictions in new cases.\n",
            "The computational analysis of machine learning algorithms and their performance is a branch of theoretical computer science known as computational learning theory. Because training sets are finite and the future is uncertain, learning theory usually does not yield guarantees of the performance of algorithms. Instead, probabilistic bounds on the performance are quite common. The bias–variance decomposition is one way to quantify generalization error.\n",
            "For the best performance in the context of generalization, the complexity of the hypothesis should match the complexity of the function underlying the data. If the hypothesis is less complex than the function, then the model has underfit the data. If the complexity of the model is increased in response, then the training error decreases. But if the hypothesis is too complex, then the model is subject to overfitting and generalization will be poorer.In addition to performance bounds, computational learning theorists study the time complexity and feasibility of learning. In computational learning theory, a computation is considered feasible if it can be done in polynomial time. There are two kinds of time complexity results. Positive results show that a certain class of functions can be learned in polynomial time. Negative results show that certain classes cannot be learned in polynomial time.\n",
            "\n",
            "\n",
            "== Approaches ==\n",
            "\n",
            "\n",
            "=== Types of learning algorithms ===\n",
            "The types of machine learning algorithms differ in their approach, the type of data they input and output, and the type of task or problem that they are intended to solve.\n",
            "\n",
            "\n",
            "==== Supervised and semi-supervised learning ====\n",
            "\n",
            "Supervised learning algorithms build a mathematical model of a set of data that contains both the inputs and the desired outputs. The data is known as training data, and consists of a set of training examples. Each training example has one or more inputs and a desired output, also known as a supervisory signal. In the case of semi-supervised learning algorithms, some of the training examples are missing the desired output. In the mathematical model, each training example is represented by an array or vector, and the training data by a matrix. Through iterative optimization of an objective function, supervised learning algorithms learn a function that can be used to predict the output associated with new inputs. An optimal function will allow the algorithm to correctly determine the output for inputs that were not a part of the training data. An algorithm that improves the accuracy of its outputs or predictions over time is said to have learned to perform that task.Supervised learning algorithms include classification and regression. Classification algorithms are used when the outputs are restricted to a limited set of values, and regression algorithms are used when the outputs may have any numerical value within a range. Similarity learning is an area of supervised machine learning closely related to regression and classification, but the goal is to learn from examples using a similarity function that measures how similar or related two objects are. It has applications in ranking, recommendation systems, visual identity tracking, face verification, and speaker verification.\n",
            "\n",
            "\n",
            "==== Unsupervised learning ====\n",
            "\n",
            "Unsupervised learning algorithms take a set of data that contains only inputs, and find structure in the data, like grouping or clustering of data points. The algorithms therefore learn from test data that has not been labeled, classified or categorized. Instead of responding to feedback, unsupervised learning algorithms identify commonalities in the data and react based on the presence or absence of such commonalities in each new piece of data. A central application of unsupervised learning is in the field of density estimation in statistics, though unsupervised learning encompasses other domains involving summarizing and explaining data features.\n",
            "Cluster analysis is the assignment of a set of observations into subsets (called clusters) so that observations within the same cluster are similar according to one or more predesignated criteria, while observations drawn from different clusters are dissimilar. Different clustering techniques make different assumptions on the structure of the data, often defined by some similarity metric and evaluated, for example, by internal compactness, or the similarity between members of the same cluster, and separation, the difference between clusters. Other methods are based on estimated density and graph connectivity.\n",
            "\n",
            "\n",
            "==== Reinforcement learning ====\n",
            "\n",
            "Reinforcement learning is an area of machine learning concerned with how software agents ought to take actions in an environment so as to maximize some notion of cumulative reward. Due to its generality, the field is studied in many other disciplines, such as game theory, control theory, operations research, information theory, simulation-based optimization, multi-agent systems, swarm intelligence, statistics and genetic algorithms. In machine learning, the environment is typically represented as a Markov Decision Process (MDP). Many reinforcement learning algorithms use dynamic programming techniques. Reinforcement learning algorithms do not assume knowledge of an exact mathematical model of the MDP, and are used when exact models are infeasible. Reinforcement learning algorithms are used in autonomous vehicles or in learning to play a game against a human opponent.\n",
            "\n",
            "\n",
            "=== Processes and techniques ===\n",
            "Various processes, techniques and methods can be applied to one or more types of machine learning algorithms to enhance their performance.\n",
            "\n",
            "\n",
            "==== Feature learning ====\n",
            "\n",
            "Several learning algorithms aim at discovering better representations of the inputs provided during training. Classic examples include principal components analysis and cluster analysis. Feature learning algorithms, also called representation learning algorithms, often attempt to preserve the information in their input but also transform it in a way that makes it useful, often as a pre-processing step before performing classification or predictions. This technique allows reconstruction of the inputs coming from the unknown data-generating distribution, while not being necessarily faithful to configurations that are implausible under that distribution. This replaces manual feature engineering, and allows a machine to both learn the features and use them to perform a specific task.\n",
            "Feature learning can be either supervised or unsupervised. In supervised feature learning, features are learned using labeled input data. Examples include artificial neural networks, multilayer perceptrons, and supervised dictionary learning. In unsupervised feature learning, features are learned with unlabeled input data.  Examples include dictionary learning, independent component analysis, autoencoders, matrix factorization and various forms of clustering.Manifold learning algorithms attempt to do so under the constraint that the learned representation is low-dimensional. Sparse coding algorithms attempt to do so under the constraint that the learned representation is sparse, meaning that the mathematical model has many zeros. Multilinear subspace learning algorithms aim to learn low-dimensional representations directly from tensor representations for multidimensional data, without reshaping them into higher-dimensional vectors. Deep learning algorithms discover multiple levels of representation, or a hierarchy of features, with higher-level, more abstract features defined in terms of (or generating) lower-level features. It has been argued that an intelligent machine is one that learns a representation that disentangles the underlying factors of variation that explain the observed data.Feature learning is motivated by the fact that machine learning tasks such as classification often require input that is mathematically and computationally convenient to process. However, real-world data such as images, video, and sensory data has not yielded to attempts to algorithmically define specific features. An alternative is to discover such features or representations through examination, without relying on explicit algorithms.\n",
            "\n",
            "\n",
            "==== Sparse dictionary learning ====\n",
            "\n",
            "Sparse dictionary learning is a feature learning method where a training example is represented as a linear combination of basis functions, and is assumed to be a sparse matrix. The method is strongly NP-hard and difficult to solve approximately. A popular heuristic method for sparse dictionary learning is the K-SVD algorithm. Sparse dictionary learning has been applied in several contexts. In classification, the problem is to determine to which classes a previously unseen training example belongs. For a dictionary where each class has already been built, a new training example is associated with the class that is best sparsely represented by the corresponding dictionary. Sparse dictionary learning has also been applied in image de-noising. The key idea is that a clean image patch can be sparsely represented by an image dictionary, but the noise cannot.\n",
            "\n",
            "\n",
            "==== Anomaly detection ====\n",
            "\n",
            "In data mining, anomaly detection, also known as outlier detection, is the identification of rare items, events or observations which raise suspicions by differing significantly from the majority of the data. Typically, the anomalous items represent an issue such as bank fraud, a structural defect, medical problems or errors in a text. Anomalies are referred to as outliers, novelties, noise, deviations and exceptions.In particular, in the context of abuse and network intrusion detection, the interesting objects are often not rare objects, but unexpected bursts in activity. This pattern does not adhere to the common statistical definition of an outlier as a rare object, and many outlier detection methods (in particular, unsupervised algorithms) will fail on such data, unless it has been aggregated appropriately. Instead, a cluster analysis algorithm may be able to detect the micro-clusters formed by these patterns.Three broad categories of anomaly detection techniques exist. Unsupervised anomaly detection techniques detect anomalies in an unlabeled test data set under the assumption that the majority of the instances in the data set are normal, by looking for instances that seem to fit least to the remainder of the data set. Supervised anomaly detection techniques require a data set that has been labeled as \"normal\" and \"abnormal\" and involves training a classifier (the key difference to many other statistical classification problems is the inherent unbalanced nature of outlier detection). Semi-supervised anomaly detection techniques construct a model representing normal behavior from a given normal training data set, and then test the likelihood of a test instance to be generated by the model.\n",
            "\n",
            "\n",
            "==== Decision trees ====\n",
            "\n",
            "Decision tree learning uses a decision tree as a predictive model to go from observations about an item (represented in the branches) to conclusions about the item's target value (represented in the leaves). It is one of the predictive modeling approaches used in statistics, data mining and machine learning. Tree models where the target variable can take a discrete set of values are called classification trees; in these tree structures, leaves represent class labels and branches represent conjunctions of features that lead to those class labels. Decision trees where the target variable can take continuous values (typically real numbers) are called regression trees. In decision analysis, a decision tree can be used to visually and explicitly represent decisions and decision making. In data mining, a decision tree describes data, but the resulting classification tree can be an input for decision making.\n",
            "\n",
            "\n",
            "==== Association rules ====\n",
            "\n",
            "Association rule learning is a rule-based machine learning method for discovering relationships between variables in large databases. It is intended to identify strong rules discovered in databases using some measure of \"interestingness\". This rule-based approach generates new rules as it analyzes more data. The ultimate goal, assuming the set of data is large enough, is to help a machine mimic the human brain’s feature extraction and abstract association capabilities for data that has not been categorized.Rule-based machine learning is a general term for any machine learning method that identifies, learns, or evolves \"rules\" to store, manipulate or apply knowledge. The defining characteristic of a rule-based machine learning algorithm is the identification and utilization of a set of relational rules that collectively represent the knowledge captured by the system. This is in contrast to other machine learning algorithms that commonly identify a singular model that can be universally applied to any instance in order to make a prediction. Rule-based machine learning approaches include learning classifier systems, association rule learning, and artificial immune systems.\n",
            "Based on the concept of strong rules, Rakesh Agrawal, Tomasz Imieliński and Arun Swami introduced association rules for discovering regularities between products in large-scale transaction data recorded by point-of-sale (POS) systems in supermarkets. For example, the rule \n",
            "  \n",
            "    \n",
            "      \n",
            "        {\n",
            "        \n",
            "          o\n",
            "          n\n",
            "          i\n",
            "          o\n",
            "          n\n",
            "          s\n",
            "          ,\n",
            "          p\n",
            "          o\n",
            "          t\n",
            "          a\n",
            "          t\n",
            "          o\n",
            "          e\n",
            "          s\n",
            "        \n",
            "        }\n",
            "        ⇒\n",
            "        {\n",
            "        \n",
            "          b\n",
            "          u\n",
            "          r\n",
            "          g\n",
            "          e\n",
            "          r\n",
            "        \n",
            "        }\n",
            "      \n",
            "    \n",
            "    {\\displaystyle \\{\\mathrm {onions,potatoes} \\}\\Rightarrow \\{\\mathrm {burger} \\}}\n",
            "   found in the sales data of a supermarket would indicate that if a customer buys onions and potatoes together, they are likely to also buy hamburger meat. Such information can be used as the basis for decisions about marketing activities such as promotional pricing or product placements. In addition to market basket analysis, association rules are employed today in application areas including Web usage mining, intrusion detection, continuous production, and bioinformatics. In contrast with sequence mining, association rule learning typically does not consider the order of items either within a transaction or across transactions.\n",
            "Learning classifier systems (LCS) are a family of rule-based machine learning algorithms that combine a discovery component, typically a genetic algorithm, with a learning component, performing either supervised learning, reinforcement learning, or unsupervised learning. They seek to identify a set of context-dependent rules that collectively store and apply knowledge in a piecewise manner in order to make predictions.Inductive logic programming (ILP) is an approach to rule-learning using logic programming as a uniform representation for input examples, background knowledge, and hypotheses. Given an encoding of the known background knowledge and a set of examples represented as a logical database of facts, an ILP system will derive a hypothesized logic program that entails all positive and no negative examples. Inductive programming is a related field that considers any kind of programming languages for representing hypotheses (and not only logic programming), such as functional programs.\n",
            "Inductive logic programming is particularly useful in bioinformatics and natural language processing. Gordon Plotkin and Ehud Shapiro laid the initial theoretical foundation for inductive machine learning in a logical setting. Shapiro built their first implementation (Model Inference System) in 1981: a Prolog program that inductively inferred logic programs from positive and negative examples. The term inductive here refers to philosophical induction, suggesting a theory to explain observed facts, rather than mathematical induction, proving a property for all members of a well-ordered set.\n",
            "\n",
            "\n",
            "=== Models ===\n",
            "\n",
            "\n",
            "==== Artificial neural networks ====\n",
            "\n",
            "Artificial neural networks (ANNs), or connectionist systems, are computing systems vaguely inspired by the biological neural networks that constitute animal brains. The neural network itself is not an algorithm, but rather a framework for many different machine learning algorithms to work together and process complex data inputs. Such systems \"learn\" to perform tasks by considering examples, generally without being programmed with any task-specific rules.\n",
            "An ANN is a model based on a collection of connected units or nodes called \"artificial neurons\", which loosely model the neurons in a biological brain. Each connection, like the synapses in a biological brain, can transmit information, a \"signal\", from one artificial neuron to another. An artificial neuron that receives a signal can process it and then signal additional artificial neurons connected to it. In common ANN implementations, the signal at a connection between artificial neurons is a real number, and the output of each artificial neuron is computed by some non-linear function of the sum of its inputs. The connections between artificial neurons are called \"edges\". Artificial neurons and edges typically have a weight that adjusts as learning proceeds. The weight increases or decreases the strength of the signal at a connection. Artificial neurons may have a threshold such that the signal is only sent if the aggregate signal crosses that threshold. Typically, artificial neurons are aggregated into layers. Different layers may perform different kinds of transformations on their inputs. Signals travel from the first layer (the input layer), to the last layer (the output layer), possibly after traversing the layers multiple times.\n",
            "The original goal of the ANN approach was to solve problems in the same way that a human brain would. However, over time, attention moved to performing specific tasks, leading to deviations from biology. Artificial neural networks have been used on a variety of tasks, including computer vision, speech recognition, machine translation, social network filtering, playing board and video games and medical diagnosis.\n",
            "Deep learning consists of multiple hidden layers in an artificial neural network. This approach tries to model the way the human brain processes light and sound into vision and hearing. Some successful applications of deep learning are computer vision and speech recognition.\n",
            "\n",
            "\n",
            "==== Support vector machines ====\n",
            "\n",
            "Support vector machines (SVMs), also known as support vector networks, are a set of related supervised learning methods used for classification and regression. Given a set of training examples, each marked as belonging to one of two categories, an SVM training algorithm builds a model that predicts whether a new example falls into one category or the other.  An SVM training algorithm is a non-probabilistic, binary, linear classifier, although methods such as Platt scaling exist to use SVM in a probabilistic classification setting. In addition to performing linear classification, SVMs can efficiently perform a non-linear classification using what is called the kernel trick, implicitly mapping their inputs into high-dimensional feature spaces.\n",
            "\n",
            "\n",
            "==== Bayesian networks ====\n",
            "\n",
            "A Bayesian network, belief network or directed acyclic graphical model is a probabilistic graphical model that represents a set of random variables and their conditional independence with a directed acyclic graph (DAG). For example, a Bayesian network could represent the probabilistic relationships between diseases and symptoms. Given symptoms, the network can be used to compute the probabilities of the presence of various diseases. Efficient algorithms exist that perform inference and learning. Bayesian networks that model sequences of variables, like speech signals or protein sequences, are called dynamic Bayesian networks. Generalizations of Bayesian networks that can represent and solve decision problems under uncertainty are called influence diagrams.\n",
            "\n",
            "\n",
            "==== Genetic algorithms ====\n",
            "\n",
            "A genetic algorithm (GA) is a search algorithm and heuristic technique that mimics the process of natural selection, using methods such as mutation and crossover to generate new genotypes in the hope of finding good solutions to a given problem. In machine learning, genetic algorithms were used in the 1980s and 1990s. Conversely, machine learning techniques have been used to improve the performance of genetic and evolutionary algorithms.\n",
            "\n",
            "\n",
            "== Applications ==\n",
            "Applications for machine learning include:\n",
            "\n",
            "In 2006, the online movie company Netflix held the first \"Netflix Prize\" competition to find a program to better predict user preferences and improve the accuracy on its existing Cinematch movie recommendation algorithm by at least 10%.  A joint team made up of researchers from AT&T Labs-Research in collaboration with the teams Big Chaos and Pragmatic Theory built an ensemble model to win the Grand Prize in 2009 for $1 million. Shortly after the prize was awarded, Netflix realized that viewers' ratings were not the best indicators of their viewing patterns (\"everything is a recommendation\") and they changed their recommendation engine accordingly. In 2010 The Wall Street Journal wrote about the firm Rebellion Research and their use of machine learning to predict the financial crisis. In 2012, co-founder of Sun Microsystems, Vinod Khosla, predicted that 80% of medical doctors jobs would be lost in the next two decades to automated machine learning medical diagnostic software. In 2014, it was reported that a machine learning algorithm had been applied in the field of art history to study fine art paintings, and that it may have revealed previously unrecognized influences between artists.\n",
            "\n",
            "\n",
            "== Limitations ==\n",
            "Although machine learning has been transformative in some fields, machine-learning programs often fail to deliver expected results. Reasons for this are numerous: lack of (suitable) data, lack of access to the data, data bias, privacy problems, badly chosen tasks and algorithms, wrong tools and people, lack of resources, and evaluation problems.In 2018, a self-driving car from Uber failed to detect a pedestrian, who was killed after a collision. Attempts to use machine learning in healthcare with the IBM Watson system failed to deliver even after years of time and billions of investment.\n",
            "\n",
            "\n",
            "=== Bias ===\n",
            "\n",
            "Machine learning approaches in particular can suffer from different data biases. A machine learning system trained on current customers only may not be able to predict the needs of new customer groups that are not represented in the training data. When trained on man-made data, machine learning is likely to pick up the same constitutional and unconscious biases already present in society. Language models learned from data have been shown to contain human-like biases. Machine learning systems used for criminal risk assessment have been found to be biased against black people. In 2015, Google photos would often tag black people as gorillas, and in 2018 this still was not well resolved, but Google reportedly was still using the workaround to remove all gorilla from the training data, and thus was not able to recognize real gorillas at all. Similar issues with recognizing non-white people have been found in many other systems. In 2016, Microsoft tested a chatbot that learned from Twitter, and it quickly picked up racist and sexist language. Because of such challenges, the effective use of machine learning may take longer to be adopted in other domains. Concern for reducing bias in machine learning and propelling its use for human good is increasingly expressed by artificial intelligence scientists, including Fei-Fei Li, who reminds engineers that \"There’s nothing artificial about AI...It’s inspired by people, it’s created by people, and—most importantly—it impacts people. It is a powerful tool we are only just beginning to understand, and that is a profound responsibility.”\n",
            "\n",
            "\n",
            "== Model assessments ==\n",
            "Classification machine learning models can be validated by accuracy estimation techniques like the Holdout method, which splits the data in a training and test set (conventionally 2/3 training set and 1/3 test set designation) and evaluates the performance of the training model on the test set. In comparison, the N-fold-cross-validation method randomly splits the data in k subsets where the k-1 instances of the data are used to train the model while the kth instance is used to test the predictive ability of the training model. In addition to the holdout and cross-validation methods, bootstrap, which samples n instances with replacement from the dataset, can be used to assess model accuracy.In addition to overall accuracy, investigators frequently report sensitivity and specificity meaning True Positive Rate (TPR) and True Negative Rate (TNR) respectively. Similarly, investigators sometimes report the False Positive Rate (FPR) as well as the False Negative Rate (FNR). However, these rates are ratios that fail to reveal their numerators and denominators. The Total Operating Characteristic (TOC) is an effective method to express a model's diagnostic ability. TOC shows the numerators and denominators of the previously mentioned rates, thus TOC provides more information than the commonly used Receiver Operating Characteristic (ROC) and ROC's associated Area Under the Curve (AUC).\n",
            "\n",
            "\n",
            "== Ethics ==\n",
            "Machine learning poses a host of ethical questions. Systems which are trained on datasets collected with biases may exhibit these biases upon use (algorithmic bias), thus digitizing cultural prejudices. For example, using job hiring data from a firm with racist hiring policies may lead to a machine learning system duplicating the bias by scoring job applicants against similarity to previous successful applicants. Responsible collection of data and documentation of algorithmic rules used by a system thus is a critical part of machine learning.\n",
            "Because language contains biases, machines trained on language corpora will necessarily also learn bias.Other forms of ethical challenges, not related to personal biases, are more seen in health care. There are concerns among health care professionals that these systems might not be designed in the public's interest, but as income generating machines. This is especially true in the United States where there is a perpetual ethical dilemma of improving health care, but also increasing profits. For example, the algorithms could be designed to provide patients with unnecessary tests or medication in which the algorithm's proprietary owners hold stakes in. There is huge potential for machine learning in health care to provide professionals a great tool to diagnose, medicate, and even plan recovery paths for patients, but this will not happen until the personal biases mentioned previously, and these \"greed\" biases are addressed.\n",
            "\n",
            "\n",
            "== Software ==\n",
            "Software suites containing a variety of machine learning algorithms include the following :\n",
            "\n",
            "\n",
            "=== Free and open-source software ===\n",
            "\n",
            "\n",
            "=== Proprietary software with free and open-source editions ===\n",
            "\n",
            "\n",
            "=== Proprietary software ===\n",
            "\n",
            "\n",
            "== Journals ==\n",
            "Journal of Machine Learning Research\n",
            "Machine Learning\n",
            "Neural Computation\n",
            "Nature Machine Intelligence\n",
            "\n",
            "\n",
            "== Conferences ==\n",
            "Conference on Neural Information Processing Systems\n",
            "International Conference on Machine Learning\n",
            "\n",
            "\n",
            "== See also ==\n",
            "\n",
            "\n",
            "== References ==\n",
            "\n",
            "\n",
            "== Further reading ==\n",
            "\n",
            "Artificial Intelligence: A Modern Approach (3rd Edition)\n",
            "\n",
            "\n",
            "== External links ==\n",
            "International Machine Learning Society\n",
            "mloss is an academic database of open-source machine learning software.\n",
            "Machine Learning Crash Course by Google. This is a free course on machine learning through the use of TensorFlow.\n"
          ],
          "name": "stdout"
        }
      ]
    },
    {
      "metadata": {
        "id": "Cxgj_2p3BbB0",
        "colab_type": "code",
        "colab": {}
      },
      "cell_type": "code",
      "source": [
        "import re, string\n",
        "\n",
        "def clean_str(string):\n",
        "  \"\"\"\n",
        "  String cleaning before vectorization\n",
        "  \"\"\"\n",
        "  try:    \n",
        "    string = re.sub(r'^https?:\\/\\/<>.*[\\r\\n]*', '', string, flags=re.MULTILINE)\n",
        "    string = re.sub(r\"[^A-Za-z]\", \" \", string)         \n",
        "    words = string.strip().lower().split()    \n",
        "    words = [w for w in words if len(w)>=1]\n",
        "    return \" \".join(words)\t\n",
        "  except:\n",
        "    return \"\""
      ],
      "execution_count": 0,
      "outputs": []
    },
    {
      "metadata": {
        "id": "C8ugHUzSRTFH",
        "colab_type": "text"
      },
      "cell_type": "markdown",
      "source": [
        "### Create a list with name `documents` and append all the words in the 10 pages' content using the above 10 titles."
      ]
    },
    {
      "metadata": {
        "id": "nBKXHtfCRTZw",
        "colab_type": "code",
        "colab": {}
      },
      "cell_type": "code",
      "source": [
        "documents=[]\n",
        "for x in range(0,len(titles)):\n",
        "  wikipage = page(titles[x])\n",
        "  wikipage_cleaned= clean_str(wikipage.content)\n",
        "  documents.append(wikipage_cleaned.split(' '))"
      ],
      "execution_count": 0,
      "outputs": []
    },
    {
      "metadata": {
        "id": "Nz7j6frtBo4N",
        "colab_type": "code",
        "colab": {
          "base_uri": "https://localhost:8080/",
          "height": 71
        },
        "outputId": "71b0fe6e-1dbc-4e39-8827-9b6841824b19"
      },
      "cell_type": "code",
      "source": [
        "print(len(documents))\n",
        "print(documents[0])"
      ],
      "execution_count": 26,
      "outputs": [
        {
          "output_type": "stream",
          "text": [
            "10\n",
            "['machine', 'learning', 'ml', 'is', 'the', 'scientific', 'study', 'of', 'algorithms', 'and', 'statistical', 'models', 'that', 'computer', 'systems', 'use', 'to', 'effectively', 'perform', 'a', 'specific', 'task', 'without', 'using', 'explicit', 'instructions', 'relying', 'on', 'patterns', 'and', 'inference', 'instead', 'it', 'is', 'seen', 'as', 'a', 'subset', 'of', 'artificial', 'intelligence', 'machine', 'learning', 'algorithms', 'build', 'a', 'mathematical', 'model', 'of', 'sample', 'data', 'known', 'as', 'training', 'data', 'in', 'order', 'to', 'make', 'predictions', 'or', 'decisions', 'without', 'being', 'explicitly', 'programmed', 'to', 'perform', 'the', 'task', 'machine', 'learning', 'algorithms', 'are', 'used', 'in', 'the', 'applications', 'of', 'email', 'filtering', 'detection', 'of', 'network', 'intruders', 'and', 'computer', 'vision', 'where', 'it', 'is', 'infeasible', 'to', 'develop', 'an', 'algorithm', 'of', 'specific', 'instructions', 'for', 'performing', 'the', 'task', 'machine', 'learning', 'is', 'closely', 'related', 'to', 'computational', 'statistics', 'which', 'focuses', 'on', 'making', 'predictions', 'using', 'computers', 'the', 'study', 'of', 'mathematical', 'optimization', 'delivers', 'methods', 'theory', 'and', 'application', 'domains', 'to', 'the', 'field', 'of', 'machine', 'learning', 'data', 'mining', 'is', 'a', 'field', 'of', 'study', 'within', 'machine', 'learning', 'and', 'focuses', 'on', 'exploratory', 'data', 'analysis', 'through', 'unsupervised', 'learning', 'in', 'its', 'application', 'across', 'business', 'problems', 'machine', 'learning', 'is', 'also', 'referred', 'to', 'as', 'predictive', 'analytics', 'overview', 'of', 'machine', 'learning', 'the', 'name', 'machine', 'learning', 'was', 'coined', 'in', 'by', 'arthur', 'samuel', 'tom', 'm', 'mitchell', 'provided', 'a', 'widely', 'quoted', 'more', 'formal', 'definition', 'of', 'the', 'algorithms', 'studied', 'in', 'the', 'machine', 'learning', 'field', 'a', 'computer', 'program', 'is', 'said', 'to', 'learn', 'from', 'experience', 'e', 'with', 'respect', 'to', 'some', 'class', 'of', 'tasks', 't', 'and', 'performance', 'measure', 'p', 'if', 'its', 'performance', 'at', 'tasks', 'in', 't', 'as', 'measured', 'by', 'p', 'improves', 'with', 'experience', 'e', 'this', 'definition', 'of', 'the', 'tasks', 'in', 'which', 'machine', 'learning', 'is', 'concerned', 'offers', 'a', 'fundamentally', 'operational', 'definition', 'rather', 'than', 'defining', 'the', 'field', 'in', 'cognitive', 'terms', 'this', 'follows', 'alan', 'turing', 's', 'proposal', 'in', 'his', 'paper', 'computing', 'machinery', 'and', 'intelligence', 'in', 'which', 'the', 'question', 'can', 'machines', 'think', 'is', 'replaced', 'with', 'the', 'question', 'can', 'machines', 'do', 'what', 'we', 'as', 'thinking', 'entities', 'can', 'do', 'in', 'turing', 's', 'proposal', 'the', 'various', 'characteristics', 'that', 'could', 'be', 'possessed', 'by', 'a', 'thinking', 'machine', 'and', 'the', 'various', 'implications', 'in', 'constructing', 'one', 'are', 'exposed', 'machine', 'learning', 'tasks', 'machine', 'learning', 'tasks', 'are', 'classified', 'into', 'several', 'broad', 'categories', 'in', 'supervised', 'learning', 'the', 'algorithm', 'builds', 'a', 'mathematical', 'model', 'from', 'a', 'set', 'of', 'data', 'that', 'contains', 'both', 'the', 'inputs', 'and', 'the', 'desired', 'outputs', 'for', 'example', 'if', 'the', 'task', 'were', 'determining', 'whether', 'an', 'image', 'contained', 'a', 'certain', 'object', 'the', 'training', 'data', 'for', 'a', 'supervised', 'learning', 'algorithm', 'would', 'include', 'images', 'with', 'and', 'without', 'that', 'object', 'the', 'input', 'and', 'each', 'image', 'would', 'have', 'a', 'label', 'the', 'output', 'designating', 'whether', 'it', 'contained', 'the', 'object', 'in', 'special', 'cases', 'the', 'input', 'may', 'be', 'only', 'partially', 'available', 'or', 'restricted', 'to', 'special', 'feedback', 'semi', 'supervised', 'learning', 'algorithms', 'develop', 'mathematical', 'models', 'from', 'incomplete', 'training', 'data', 'where', 'a', 'portion', 'of', 'the', 'sample', 'input', 'doesn', 't', 'have', 'labels', 'classification', 'algorithms', 'and', 'regression', 'algorithms', 'are', 'types', 'of', 'supervised', 'learning', 'classification', 'algorithms', 'are', 'used', 'when', 'the', 'outputs', 'are', 'restricted', 'to', 'a', 'limited', 'set', 'of', 'values', 'for', 'a', 'classification', 'algorithm', 'that', 'filters', 'emails', 'the', 'input', 'would', 'be', 'an', 'incoming', 'email', 'and', 'the', 'output', 'would', 'be', 'the', 'name', 'of', 'the', 'folder', 'in', 'which', 'to', 'file', 'the', 'email', 'for', 'an', 'algorithm', 'that', 'identifies', 'spam', 'emails', 'the', 'output', 'would', 'be', 'the', 'prediction', 'of', 'either', 'spam', 'or', 'not', 'spam', 'represented', 'by', 'the', 'boolean', 'values', 'true', 'and', 'false', 'regression', 'algorithms', 'are', 'named', 'for', 'their', 'continuous', 'outputs', 'meaning', 'they', 'may', 'have', 'any', 'value', 'within', 'a', 'range', 'examples', 'of', 'a', 'continuous', 'value', 'are', 'the', 'temperature', 'length', 'or', 'price', 'of', 'an', 'object', 'in', 'unsupervised', 'learning', 'the', 'algorithm', 'builds', 'a', 'mathematical', 'model', 'from', 'a', 'set', 'of', 'data', 'which', 'contains', 'only', 'inputs', 'and', 'no', 'desired', 'output', 'labels', 'unsupervised', 'learning', 'algorithms', 'are', 'used', 'to', 'find', 'structure', 'in', 'the', 'data', 'like', 'grouping', 'or', 'clustering', 'of', 'data', 'points', 'unsupervised', 'learning', 'can', 'discover', 'patterns', 'in', 'the', 'data', 'and', 'can', 'group', 'the', 'inputs', 'into', 'categories', 'as', 'in', 'feature', 'learning', 'dimensionality', 'reduction', 'is', 'the', 'process', 'of', 'reducing', 'the', 'number', 'of', 'features', 'or', 'inputs', 'in', 'a', 'set', 'of', 'data', 'active', 'learning', 'algorithms', 'access', 'the', 'desired', 'outputs', 'training', 'labels', 'for', 'a', 'limited', 'set', 'of', 'inputs', 'based', 'on', 'a', 'budget', 'and', 'optimize', 'the', 'choice', 'of', 'inputs', 'for', 'which', 'it', 'will', 'acquire', 'training', 'labels', 'when', 'used', 'interactively', 'these', 'can', 'be', 'presented', 'to', 'a', 'human', 'user', 'for', 'labeling', 'reinforcement', 'learning', 'algorithms', 'are', 'given', 'feedback', 'in', 'the', 'form', 'of', 'positive', 'or', 'negative', 'reinforcement', 'in', 'a', 'dynamic', 'environment', 'and', 'are', 'used', 'in', 'autonomous', 'vehicles', 'or', 'in', 'learning', 'to', 'play', 'a', 'game', 'against', 'a', 'human', 'opponent', 'other', 'specialized', 'algorithms', 'in', 'machine', 'learning', 'include', 'topic', 'modeling', 'where', 'the', 'computer', 'program', 'is', 'given', 'a', 'set', 'of', 'natural', 'language', 'documents', 'and', 'finds', 'other', 'documents', 'that', 'cover', 'similar', 'topics', 'machine', 'learning', 'algorithms', 'can', 'be', 'used', 'to', 'find', 'the', 'unobservable', 'probability', 'density', 'function', 'in', 'density', 'estimation', 'problems', 'meta', 'learning', 'algorithms', 'learn', 'their', 'own', 'inductive', 'bias', 'based', 'on', 'previous', 'experience', 'in', 'developmental', 'robotics', 'robot', 'learning', 'algorithms', 'generate', 'their', 'own', 'sequences', 'of', 'learning', 'experiences', 'also', 'known', 'as', 'a', 'curriculum', 'to', 'cumulatively', 'acquire', 'new', 'skills', 'through', 'self', 'guided', 'exploration', 'and', 'social', 'interaction', 'with', 'humans', 'these', 'robots', 'use', 'guidance', 'mechanisms', 'such', 'as', 'active', 'learning', 'maturation', 'motor', 'synergies', 'and', 'imitation', 'history', 'and', 'relationships', 'to', 'other', 'fields', 'arthur', 'samuel', 'an', 'american', 'pioneer', 'in', 'the', 'field', 'of', 'computer', 'gaming', 'and', 'artificial', 'intelligence', 'coined', 'the', 'term', 'machine', 'learning', 'in', 'while', 'at', 'ibm', 'as', 'a', 'scientific', 'endeavour', 'machine', 'learning', 'grew', 'out', 'of', 'the', 'quest', 'for', 'artificial', 'intelligence', 'already', 'in', 'the', 'early', 'days', 'of', 'ai', 'as', 'an', 'academic', 'discipline', 'some', 'researchers', 'were', 'interested', 'in', 'having', 'machines', 'learn', 'from', 'data', 'they', 'attempted', 'to', 'approach', 'the', 'problem', 'with', 'various', 'symbolic', 'methods', 'as', 'well', 'as', 'what', 'were', 'then', 'termed', 'neural', 'networks', 'these', 'were', 'mostly', 'perceptrons', 'and', 'other', 'models', 'that', 'were', 'later', 'found', 'to', 'be', 'reinventions', 'of', 'the', 'generalized', 'linear', 'models', 'of', 'statistics', 'probabilistic', 'reasoning', 'was', 'also', 'employed', 'especially', 'in', 'automated', 'medical', 'diagnosis', 'however', 'an', 'increasing', 'emphasis', 'on', 'the', 'logical', 'knowledge', 'based', 'approach', 'caused', 'a', 'rift', 'between', 'ai', 'and', 'machine', 'learning', 'probabilistic', 'systems', 'were', 'plagued', 'by', 'theoretical', 'and', 'practical', 'problems', 'of', 'data', 'acquisition', 'and', 'representation', 'by', 'expert', 'systems', 'had', 'come', 'to', 'dominate', 'ai', 'and', 'statistics', 'was', 'out', 'of', 'favor', 'work', 'on', 'symbolic', 'knowledge', 'based', 'learning', 'did', 'continue', 'within', 'ai', 'leading', 'to', 'inductive', 'logic', 'programming', 'but', 'the', 'more', 'statistical', 'line', 'of', 'research', 'was', 'now', 'outside', 'the', 'field', 'of', 'ai', 'proper', 'in', 'pattern', 'recognition', 'and', 'information', 'retrieval', 'neural', 'networks', 'research', 'had', 'been', 'abandoned', 'by', 'ai', 'and', 'computer', 'science', 'around', 'the', 'same', 'time', 'this', 'line', 'too', 'was', 'continued', 'outside', 'the', 'ai', 'cs', 'field', 'as', 'connectionism', 'by', 'researchers', 'from', 'other', 'disciplines', 'including', 'hopfield', 'rumelhart', 'and', 'hinton', 'their', 'main', 'success', 'came', 'in', 'the', 'mid', 's', 'with', 'the', 'reinvention', 'of', 'backpropagation', 'machine', 'learning', 'reorganized', 'as', 'a', 'separate', 'field', 'started', 'to', 'flourish', 'in', 'the', 's', 'the', 'field', 'changed', 'its', 'goal', 'from', 'achieving', 'artificial', 'intelligence', 'to', 'tackling', 'solvable', 'problems', 'of', 'a', 'practical', 'nature', 'it', 'shifted', 'focus', 'away', 'from', 'the', 'symbolic', 'approaches', 'it', 'had', 'inherited', 'from', 'ai', 'and', 'toward', 'methods', 'and', 'models', 'borrowed', 'from', 'statistics', 'and', 'probability', 'theory', 'it', 'also', 'benefited', 'from', 'the', 'increasing', 'availability', 'of', 'digitized', 'information', 'and', 'the', 'ability', 'to', 'distribute', 'it', 'via', 'the', 'internet', 'relation', 'to', 'data', 'mining', 'machine', 'learning', 'and', 'data', 'mining', 'often', 'employ', 'the', 'same', 'methods', 'and', 'overlap', 'significantly', 'but', 'while', 'machine', 'learning', 'focuses', 'on', 'prediction', 'based', 'on', 'known', 'properties', 'learned', 'from', 'the', 'training', 'data', 'data', 'mining', 'focuses', 'on', 'the', 'discovery', 'of', 'previously', 'unknown', 'properties', 'in', 'the', 'data', 'this', 'is', 'the', 'analysis', 'step', 'of', 'knowledge', 'discovery', 'in', 'databases', 'data', 'mining', 'uses', 'many', 'machine', 'learning', 'methods', 'but', 'with', 'different', 'goals', 'on', 'the', 'other', 'hand', 'machine', 'learning', 'also', 'employs', 'data', 'mining', 'methods', 'as', 'unsupervised', 'learning', 'or', 'as', 'a', 'preprocessing', 'step', 'to', 'improve', 'learner', 'accuracy', 'much', 'of', 'the', 'confusion', 'between', 'these', 'two', 'research', 'communities', 'which', 'do', 'often', 'have', 'separate', 'conferences', 'and', 'separate', 'journals', 'ecml', 'pkdd', 'being', 'a', 'major', 'exception', 'comes', 'from', 'the', 'basic', 'assumptions', 'they', 'work', 'with', 'in', 'machine', 'learning', 'performance', 'is', 'usually', 'evaluated', 'with', 'respect', 'to', 'the', 'ability', 'to', 'reproduce', 'known', 'knowledge', 'while', 'in', 'knowledge', 'discovery', 'and', 'data', 'mining', 'kdd', 'the', 'key', 'task', 'is', 'the', 'discovery', 'of', 'previously', 'unknown', 'knowledge', 'evaluated', 'with', 'respect', 'to', 'known', 'knowledge', 'an', 'uninformed', 'unsupervised', 'method', 'will', 'easily', 'be', 'outperformed', 'by', 'other', 'supervised', 'methods', 'while', 'in', 'a', 'typical', 'kdd', 'task', 'supervised', 'methods', 'cannot', 'be', 'used', 'due', 'to', 'the', 'unavailability', 'of', 'training', 'data', 'relation', 'to', 'optimization', 'machine', 'learning', 'also', 'has', 'intimate', 'ties', 'to', 'optimization', 'many', 'learning', 'problems', 'are', 'formulated', 'as', 'minimization', 'of', 'some', 'loss', 'function', 'on', 'a', 'training', 'set', 'of', 'examples', 'loss', 'functions', 'express', 'the', 'discrepancy', 'between', 'the', 'predictions', 'of', 'the', 'model', 'being', 'trained', 'and', 'the', 'actual', 'problem', 'instances', 'for', 'example', 'in', 'classification', 'one', 'wants', 'to', 'assign', 'a', 'label', 'to', 'instances', 'and', 'models', 'are', 'trained', 'to', 'correctly', 'predict', 'the', 'pre', 'assigned', 'labels', 'of', 'a', 'set', 'of', 'examples', 'the', 'difference', 'between', 'the', 'two', 'fields', 'arises', 'from', 'the', 'goal', 'of', 'generalization', 'while', 'optimization', 'algorithms', 'can', 'minimize', 'the', 'loss', 'on', 'a', 'training', 'set', 'machine', 'learning', 'is', 'concerned', 'with', 'minimizing', 'the', 'loss', 'on', 'unseen', 'samples', 'relation', 'to', 'statistics', 'machine', 'learning', 'and', 'statistics', 'are', 'closely', 'related', 'fields', 'according', 'to', 'michael', 'i', 'jordan', 'the', 'ideas', 'of', 'machine', 'learning', 'from', 'methodological', 'principles', 'to', 'theoretical', 'tools', 'have', 'had', 'a', 'long', 'pre', 'history', 'in', 'statistics', 'he', 'also', 'suggested', 'the', 'term', 'data', 'science', 'as', 'a', 'placeholder', 'to', 'call', 'the', 'overall', 'field', 'leo', 'breiman', 'distinguished', 'two', 'statistical', 'modelling', 'paradigms', 'data', 'model', 'and', 'algorithmic', 'model', 'wherein', 'algorithmic', 'model', 'means', 'more', 'or', 'less', 'the', 'machine', 'learning', 'algorithms', 'like', 'random', 'forest', 'some', 'statisticians', 'have', 'adopted', 'methods', 'from', 'machine', 'learning', 'leading', 'to', 'a', 'combined', 'field', 'that', 'they', 'call', 'statistical', 'learning', 'theory', 'a', 'core', 'objective', 'of', 'a', 'learner', 'is', 'to', 'generalize', 'from', 'its', 'experience', 'generalization', 'in', 'this', 'context', 'is', 'the', 'ability', 'of', 'a', 'learning', 'machine', 'to', 'perform', 'accurately', 'on', 'new', 'unseen', 'examples', 'tasks', 'after', 'having', 'experienced', 'a', 'learning', 'data', 'set', 'the', 'training', 'examples', 'come', 'from', 'some', 'generally', 'unknown', 'probability', 'distribution', 'considered', 'representative', 'of', 'the', 'space', 'of', 'occurrences', 'and', 'the', 'learner', 'has', 'to', 'build', 'a', 'general', 'model', 'about', 'this', 'space', 'that', 'enables', 'it', 'to', 'produce', 'sufficiently', 'accurate', 'predictions', 'in', 'new', 'cases', 'the', 'computational', 'analysis', 'of', 'machine', 'learning', 'algorithms', 'and', 'their', 'performance', 'is', 'a', 'branch', 'of', 'theoretical', 'computer', 'science', 'known', 'as', 'computational', 'learning', 'theory', 'because', 'training', 'sets', 'are', 'finite', 'and', 'the', 'future', 'is', 'uncertain', 'learning', 'theory', 'usually', 'does', 'not', 'yield', 'guarantees', 'of', 'the', 'performance', 'of', 'algorithms', 'instead', 'probabilistic', 'bounds', 'on', 'the', 'performance', 'are', 'quite', 'common', 'the', 'bias', 'variance', 'decomposition', 'is', 'one', 'way', 'to', 'quantify', 'generalization', 'error', 'for', 'the', 'best', 'performance', 'in', 'the', 'context', 'of', 'generalization', 'the', 'complexity', 'of', 'the', 'hypothesis', 'should', 'match', 'the', 'complexity', 'of', 'the', 'function', 'underlying', 'the', 'data', 'if', 'the', 'hypothesis', 'is', 'less', 'complex', 'than', 'the', 'function', 'then', 'the', 'model', 'has', 'underfit', 'the', 'data', 'if', 'the', 'complexity', 'of', 'the', 'model', 'is', 'increased', 'in', 'response', 'then', 'the', 'training', 'error', 'decreases', 'but', 'if', 'the', 'hypothesis', 'is', 'too', 'complex', 'then', 'the', 'model', 'is', 'subject', 'to', 'overfitting', 'and', 'generalization', 'will', 'be', 'poorer', 'in', 'addition', 'to', 'performance', 'bounds', 'computational', 'learning', 'theorists', 'study', 'the', 'time', 'complexity', 'and', 'feasibility', 'of', 'learning', 'in', 'computational', 'learning', 'theory', 'a', 'computation', 'is', 'considered', 'feasible', 'if', 'it', 'can', 'be', 'done', 'in', 'polynomial', 'time', 'there', 'are', 'two', 'kinds', 'of', 'time', 'complexity', 'results', 'positive', 'results', 'show', 'that', 'a', 'certain', 'class', 'of', 'functions', 'can', 'be', 'learned', 'in', 'polynomial', 'time', 'negative', 'results', 'show', 'that', 'certain', 'classes', 'cannot', 'be', 'learned', 'in', 'polynomial', 'time', 'approaches', 'types', 'of', 'learning', 'algorithms', 'the', 'types', 'of', 'machine', 'learning', 'algorithms', 'differ', 'in', 'their', 'approach', 'the', 'type', 'of', 'data', 'they', 'input', 'and', 'output', 'and', 'the', 'type', 'of', 'task', 'or', 'problem', 'that', 'they', 'are', 'intended', 'to', 'solve', 'supervised', 'and', 'semi', 'supervised', 'learning', 'supervised', 'learning', 'algorithms', 'build', 'a', 'mathematical', 'model', 'of', 'a', 'set', 'of', 'data', 'that', 'contains', 'both', 'the', 'inputs', 'and', 'the', 'desired', 'outputs', 'the', 'data', 'is', 'known', 'as', 'training', 'data', 'and', 'consists', 'of', 'a', 'set', 'of', 'training', 'examples', 'each', 'training', 'example', 'has', 'one', 'or', 'more', 'inputs', 'and', 'a', 'desired', 'output', 'also', 'known', 'as', 'a', 'supervisory', 'signal', 'in', 'the', 'case', 'of', 'semi', 'supervised', 'learning', 'algorithms', 'some', 'of', 'the', 'training', 'examples', 'are', 'missing', 'the', 'desired', 'output', 'in', 'the', 'mathematical', 'model', 'each', 'training', 'example', 'is', 'represented', 'by', 'an', 'array', 'or', 'vector', 'and', 'the', 'training', 'data', 'by', 'a', 'matrix', 'through', 'iterative', 'optimization', 'of', 'an', 'objective', 'function', 'supervised', 'learning', 'algorithms', 'learn', 'a', 'function', 'that', 'can', 'be', 'used', 'to', 'predict', 'the', 'output', 'associated', 'with', 'new', 'inputs', 'an', 'optimal', 'function', 'will', 'allow', 'the', 'algorithm', 'to', 'correctly', 'determine', 'the', 'output', 'for', 'inputs', 'that', 'were', 'not', 'a', 'part', 'of', 'the', 'training', 'data', 'an', 'algorithm', 'that', 'improves', 'the', 'accuracy', 'of', 'its', 'outputs', 'or', 'predictions', 'over', 'time', 'is', 'said', 'to', 'have', 'learned', 'to', 'perform', 'that', 'task', 'supervised', 'learning', 'algorithms', 'include', 'classification', 'and', 'regression', 'classification', 'algorithms', 'are', 'used', 'when', 'the', 'outputs', 'are', 'restricted', 'to', 'a', 'limited', 'set', 'of', 'values', 'and', 'regression', 'algorithms', 'are', 'used', 'when', 'the', 'outputs', 'may', 'have', 'any', 'numerical', 'value', 'within', 'a', 'range', 'similarity', 'learning', 'is', 'an', 'area', 'of', 'supervised', 'machine', 'learning', 'closely', 'related', 'to', 'regression', 'and', 'classification', 'but', 'the', 'goal', 'is', 'to', 'learn', 'from', 'examples', 'using', 'a', 'similarity', 'function', 'that', 'measures', 'how', 'similar', 'or', 'related', 'two', 'objects', 'are', 'it', 'has', 'applications', 'in', 'ranking', 'recommendation', 'systems', 'visual', 'identity', 'tracking', 'face', 'verification', 'and', 'speaker', 'verification', 'unsupervised', 'learning', 'unsupervised', 'learning', 'algorithms', 'take', 'a', 'set', 'of', 'data', 'that', 'contains', 'only', 'inputs', 'and', 'find', 'structure', 'in', 'the', 'data', 'like', 'grouping', 'or', 'clustering', 'of', 'data', 'points', 'the', 'algorithms', 'therefore', 'learn', 'from', 'test', 'data', 'that', 'has', 'not', 'been', 'labeled', 'classified', 'or', 'categorized', 'instead', 'of', 'responding', 'to', 'feedback', 'unsupervised', 'learning', 'algorithms', 'identify', 'commonalities', 'in', 'the', 'data', 'and', 'react', 'based', 'on', 'the', 'presence', 'or', 'absence', 'of', 'such', 'commonalities', 'in', 'each', 'new', 'piece', 'of', 'data', 'a', 'central', 'application', 'of', 'unsupervised', 'learning', 'is', 'in', 'the', 'field', 'of', 'density', 'estimation', 'in', 'statistics', 'though', 'unsupervised', 'learning', 'encompasses', 'other', 'domains', 'involving', 'summarizing', 'and', 'explaining', 'data', 'features', 'cluster', 'analysis', 'is', 'the', 'assignment', 'of', 'a', 'set', 'of', 'observations', 'into', 'subsets', 'called', 'clusters', 'so', 'that', 'observations', 'within', 'the', 'same', 'cluster', 'are', 'similar', 'according', 'to', 'one', 'or', 'more', 'predesignated', 'criteria', 'while', 'observations', 'drawn', 'from', 'different', 'clusters', 'are', 'dissimilar', 'different', 'clustering', 'techniques', 'make', 'different', 'assumptions', 'on', 'the', 'structure', 'of', 'the', 'data', 'often', 'defined', 'by', 'some', 'similarity', 'metric', 'and', 'evaluated', 'for', 'example', 'by', 'internal', 'compactness', 'or', 'the', 'similarity', 'between', 'members', 'of', 'the', 'same', 'cluster', 'and', 'separation', 'the', 'difference', 'between', 'clusters', 'other', 'methods', 'are', 'based', 'on', 'estimated', 'density', 'and', 'graph', 'connectivity', 'reinforcement', 'learning', 'reinforcement', 'learning', 'is', 'an', 'area', 'of', 'machine', 'learning', 'concerned', 'with', 'how', 'software', 'agents', 'ought', 'to', 'take', 'actions', 'in', 'an', 'environment', 'so', 'as', 'to', 'maximize', 'some', 'notion', 'of', 'cumulative', 'reward', 'due', 'to', 'its', 'generality', 'the', 'field', 'is', 'studied', 'in', 'many', 'other', 'disciplines', 'such', 'as', 'game', 'theory', 'control', 'theory', 'operations', 'research', 'information', 'theory', 'simulation', 'based', 'optimization', 'multi', 'agent', 'systems', 'swarm', 'intelligence', 'statistics', 'and', 'genetic', 'algorithms', 'in', 'machine', 'learning', 'the', 'environment', 'is', 'typically', 'represented', 'as', 'a', 'markov', 'decision', 'process', 'mdp', 'many', 'reinforcement', 'learning', 'algorithms', 'use', 'dynamic', 'programming', 'techniques', 'reinforcement', 'learning', 'algorithms', 'do', 'not', 'assume', 'knowledge', 'of', 'an', 'exact', 'mathematical', 'model', 'of', 'the', 'mdp', 'and', 'are', 'used', 'when', 'exact', 'models', 'are', 'infeasible', 'reinforcement', 'learning', 'algorithms', 'are', 'used', 'in', 'autonomous', 'vehicles', 'or', 'in', 'learning', 'to', 'play', 'a', 'game', 'against', 'a', 'human', 'opponent', 'processes', 'and', 'techniques', 'various', 'processes', 'techniques', 'and', 'methods', 'can', 'be', 'applied', 'to', 'one', 'or', 'more', 'types', 'of', 'machine', 'learning', 'algorithms', 'to', 'enhance', 'their', 'performance', 'feature', 'learning', 'several', 'learning', 'algorithms', 'aim', 'at', 'discovering', 'better', 'representations', 'of', 'the', 'inputs', 'provided', 'during', 'training', 'classic', 'examples', 'include', 'principal', 'components', 'analysis', 'and', 'cluster', 'analysis', 'feature', 'learning', 'algorithms', 'also', 'called', 'representation', 'learning', 'algorithms', 'often', 'attempt', 'to', 'preserve', 'the', 'information', 'in', 'their', 'input', 'but', 'also', 'transform', 'it', 'in', 'a', 'way', 'that', 'makes', 'it', 'useful', 'often', 'as', 'a', 'pre', 'processing', 'step', 'before', 'performing', 'classification', 'or', 'predictions', 'this', 'technique', 'allows', 'reconstruction', 'of', 'the', 'inputs', 'coming', 'from', 'the', 'unknown', 'data', 'generating', 'distribution', 'while', 'not', 'being', 'necessarily', 'faithful', 'to', 'configurations', 'that', 'are', 'implausible', 'under', 'that', 'distribution', 'this', 'replaces', 'manual', 'feature', 'engineering', 'and', 'allows', 'a', 'machine', 'to', 'both', 'learn', 'the', 'features', 'and', 'use', 'them', 'to', 'perform', 'a', 'specific', 'task', 'feature', 'learning', 'can', 'be', 'either', 'supervised', 'or', 'unsupervised', 'in', 'supervised', 'feature', 'learning', 'features', 'are', 'learned', 'using', 'labeled', 'input', 'data', 'examples', 'include', 'artificial', 'neural', 'networks', 'multilayer', 'perceptrons', 'and', 'supervised', 'dictionary', 'learning', 'in', 'unsupervised', 'feature', 'learning', 'features', 'are', 'learned', 'with', 'unlabeled', 'input', 'data', 'examples', 'include', 'dictionary', 'learning', 'independent', 'component', 'analysis', 'autoencoders', 'matrix', 'factorization', 'and', 'various', 'forms', 'of', 'clustering', 'manifold', 'learning', 'algorithms', 'attempt', 'to', 'do', 'so', 'under', 'the', 'constraint', 'that', 'the', 'learned', 'representation', 'is', 'low', 'dimensional', 'sparse', 'coding', 'algorithms', 'attempt', 'to', 'do', 'so', 'under', 'the', 'constraint', 'that', 'the', 'learned', 'representation', 'is', 'sparse', 'meaning', 'that', 'the', 'mathematical', 'model', 'has', 'many', 'zeros', 'multilinear', 'subspace', 'learning', 'algorithms', 'aim', 'to', 'learn', 'low', 'dimensional', 'representations', 'directly', 'from', 'tensor', 'representations', 'for', 'multidimensional', 'data', 'without', 'reshaping', 'them', 'into', 'higher', 'dimensional', 'vectors', 'deep', 'learning', 'algorithms', 'discover', 'multiple', 'levels', 'of', 'representation', 'or', 'a', 'hierarchy', 'of', 'features', 'with', 'higher', 'level', 'more', 'abstract', 'features', 'defined', 'in', 'terms', 'of', 'or', 'generating', 'lower', 'level', 'features', 'it', 'has', 'been', 'argued', 'that', 'an', 'intelligent', 'machine', 'is', 'one', 'that', 'learns', 'a', 'representation', 'that', 'disentangles', 'the', 'underlying', 'factors', 'of', 'variation', 'that', 'explain', 'the', 'observed', 'data', 'feature', 'learning', 'is', 'motivated', 'by', 'the', 'fact', 'that', 'machine', 'learning', 'tasks', 'such', 'as', 'classification', 'often', 'require', 'input', 'that', 'is', 'mathematically', 'and', 'computationally', 'convenient', 'to', 'process', 'however', 'real', 'world', 'data', 'such', 'as', 'images', 'video', 'and', 'sensory', 'data', 'has', 'not', 'yielded', 'to', 'attempts', 'to', 'algorithmically', 'define', 'specific', 'features', 'an', 'alternative', 'is', 'to', 'discover', 'such', 'features', 'or', 'representations', 'through', 'examination', 'without', 'relying', 'on', 'explicit', 'algorithms', 'sparse', 'dictionary', 'learning', 'sparse', 'dictionary', 'learning', 'is', 'a', 'feature', 'learning', 'method', 'where', 'a', 'training', 'example', 'is', 'represented', 'as', 'a', 'linear', 'combination', 'of', 'basis', 'functions', 'and', 'is', 'assumed', 'to', 'be', 'a', 'sparse', 'matrix', 'the', 'method', 'is', 'strongly', 'np', 'hard', 'and', 'difficult', 'to', 'solve', 'approximately', 'a', 'popular', 'heuristic', 'method', 'for', 'sparse', 'dictionary', 'learning', 'is', 'the', 'k', 'svd', 'algorithm', 'sparse', 'dictionary', 'learning', 'has', 'been', 'applied', 'in', 'several', 'contexts', 'in', 'classification', 'the', 'problem', 'is', 'to', 'determine', 'to', 'which', 'classes', 'a', 'previously', 'unseen', 'training', 'example', 'belongs', 'for', 'a', 'dictionary', 'where', 'each', 'class', 'has', 'already', 'been', 'built', 'a', 'new', 'training', 'example', 'is', 'associated', 'with', 'the', 'class', 'that', 'is', 'best', 'sparsely', 'represented', 'by', 'the', 'corresponding', 'dictionary', 'sparse', 'dictionary', 'learning', 'has', 'also', 'been', 'applied', 'in', 'image', 'de', 'noising', 'the', 'key', 'idea', 'is', 'that', 'a', 'clean', 'image', 'patch', 'can', 'be', 'sparsely', 'represented', 'by', 'an', 'image', 'dictionary', 'but', 'the', 'noise', 'cannot', 'anomaly', 'detection', 'in', 'data', 'mining', 'anomaly', 'detection', 'also', 'known', 'as', 'outlier', 'detection', 'is', 'the', 'identification', 'of', 'rare', 'items', 'events', 'or', 'observations', 'which', 'raise', 'suspicions', 'by', 'differing', 'significantly', 'from', 'the', 'majority', 'of', 'the', 'data', 'typically', 'the', 'anomalous', 'items', 'represent', 'an', 'issue', 'such', 'as', 'bank', 'fraud', 'a', 'structural', 'defect', 'medical', 'problems', 'or', 'errors', 'in', 'a', 'text', 'anomalies', 'are', 'referred', 'to', 'as', 'outliers', 'novelties', 'noise', 'deviations', 'and', 'exceptions', 'in', 'particular', 'in', 'the', 'context', 'of', 'abuse', 'and', 'network', 'intrusion', 'detection', 'the', 'interesting', 'objects', 'are', 'often', 'not', 'rare', 'objects', 'but', 'unexpected', 'bursts', 'in', 'activity', 'this', 'pattern', 'does', 'not', 'adhere', 'to', 'the', 'common', 'statistical', 'definition', 'of', 'an', 'outlier', 'as', 'a', 'rare', 'object', 'and', 'many', 'outlier', 'detection', 'methods', 'in', 'particular', 'unsupervised', 'algorithms', 'will', 'fail', 'on', 'such', 'data', 'unless', 'it', 'has', 'been', 'aggregated', 'appropriately', 'instead', 'a', 'cluster', 'analysis', 'algorithm', 'may', 'be', 'able', 'to', 'detect', 'the', 'micro', 'clusters', 'formed', 'by', 'these', 'patterns', 'three', 'broad', 'categories', 'of', 'anomaly', 'detection', 'techniques', 'exist', 'unsupervised', 'anomaly', 'detection', 'techniques', 'detect', 'anomalies', 'in', 'an', 'unlabeled', 'test', 'data', 'set', 'under', 'the', 'assumption', 'that', 'the', 'majority', 'of', 'the', 'instances', 'in', 'the', 'data', 'set', 'are', 'normal', 'by', 'looking', 'for', 'instances', 'that', 'seem', 'to', 'fit', 'least', 'to', 'the', 'remainder', 'of', 'the', 'data', 'set', 'supervised', 'anomaly', 'detection', 'techniques', 'require', 'a', 'data', 'set', 'that', 'has', 'been', 'labeled', 'as', 'normal', 'and', 'abnormal', 'and', 'involves', 'training', 'a', 'classifier', 'the', 'key', 'difference', 'to', 'many', 'other', 'statistical', 'classification', 'problems', 'is', 'the', 'inherent', 'unbalanced', 'nature', 'of', 'outlier', 'detection', 'semi', 'supervised', 'anomaly', 'detection', 'techniques', 'construct', 'a', 'model', 'representing', 'normal', 'behavior', 'from', 'a', 'given', 'normal', 'training', 'data', 'set', 'and', 'then', 'test', 'the', 'likelihood', 'of', 'a', 'test', 'instance', 'to', 'be', 'generated', 'by', 'the', 'model', 'decision', 'trees', 'decision', 'tree', 'learning', 'uses', 'a', 'decision', 'tree', 'as', 'a', 'predictive', 'model', 'to', 'go', 'from', 'observations', 'about', 'an', 'item', 'represented', 'in', 'the', 'branches', 'to', 'conclusions', 'about', 'the', 'item', 's', 'target', 'value', 'represented', 'in', 'the', 'leaves', 'it', 'is', 'one', 'of', 'the', 'predictive', 'modeling', 'approaches', 'used', 'in', 'statistics', 'data', 'mining', 'and', 'machine', 'learning', 'tree', 'models', 'where', 'the', 'target', 'variable', 'can', 'take', 'a', 'discrete', 'set', 'of', 'values', 'are', 'called', 'classification', 'trees', 'in', 'these', 'tree', 'structures', 'leaves', 'represent', 'class', 'labels', 'and', 'branches', 'represent', 'conjunctions', 'of', 'features', 'that', 'lead', 'to', 'those', 'class', 'labels', 'decision', 'trees', 'where', 'the', 'target', 'variable', 'can', 'take', 'continuous', 'values', 'typically', 'real', 'numbers', 'are', 'called', 'regression', 'trees', 'in', 'decision', 'analysis', 'a', 'decision', 'tree', 'can', 'be', 'used', 'to', 'visually', 'and', 'explicitly', 'represent', 'decisions', 'and', 'decision', 'making', 'in', 'data', 'mining', 'a', 'decision', 'tree', 'describes', 'data', 'but', 'the', 'resulting', 'classification', 'tree', 'can', 'be', 'an', 'input', 'for', 'decision', 'making', 'association', 'rules', 'association', 'rule', 'learning', 'is', 'a', 'rule', 'based', 'machine', 'learning', 'method', 'for', 'discovering', 'relationships', 'between', 'variables', 'in', 'large', 'databases', 'it', 'is', 'intended', 'to', 'identify', 'strong', 'rules', 'discovered', 'in', 'databases', 'using', 'some', 'measure', 'of', 'interestingness', 'this', 'rule', 'based', 'approach', 'generates', 'new', 'rules', 'as', 'it', 'analyzes', 'more', 'data', 'the', 'ultimate', 'goal', 'assuming', 'the', 'set', 'of', 'data', 'is', 'large', 'enough', 'is', 'to', 'help', 'a', 'machine', 'mimic', 'the', 'human', 'brain', 's', 'feature', 'extraction', 'and', 'abstract', 'association', 'capabilities', 'for', 'data', 'that', 'has', 'not', 'been', 'categorized', 'rule', 'based', 'machine', 'learning', 'is', 'a', 'general', 'term', 'for', 'any', 'machine', 'learning', 'method', 'that', 'identifies', 'learns', 'or', 'evolves', 'rules', 'to', 'store', 'manipulate', 'or', 'apply', 'knowledge', 'the', 'defining', 'characteristic', 'of', 'a', 'rule', 'based', 'machine', 'learning', 'algorithm', 'is', 'the', 'identification', 'and', 'utilization', 'of', 'a', 'set', 'of', 'relational', 'rules', 'that', 'collectively', 'represent', 'the', 'knowledge', 'captured', 'by', 'the', 'system', 'this', 'is', 'in', 'contrast', 'to', 'other', 'machine', 'learning', 'algorithms', 'that', 'commonly', 'identify', 'a', 'singular', 'model', 'that', 'can', 'be', 'universally', 'applied', 'to', 'any', 'instance', 'in', 'order', 'to', 'make', 'a', 'prediction', 'rule', 'based', 'machine', 'learning', 'approaches', 'include', 'learning', 'classifier', 'systems', 'association', 'rule', 'learning', 'and', 'artificial', 'immune', 'systems', 'based', 'on', 'the', 'concept', 'of', 'strong', 'rules', 'rakesh', 'agrawal', 'tomasz', 'imieli', 'ski', 'and', 'arun', 'swami', 'introduced', 'association', 'rules', 'for', 'discovering', 'regularities', 'between', 'products', 'in', 'large', 'scale', 'transaction', 'data', 'recorded', 'by', 'point', 'of', 'sale', 'pos', 'systems', 'in', 'supermarkets', 'for', 'example', 'the', 'rule', 'o', 'n', 'i', 'o', 'n', 's', 'p', 'o', 't', 'a', 't', 'o', 'e', 's', 'b', 'u', 'r', 'g', 'e', 'r', 'displaystyle', 'mathrm', 'onions', 'potatoes', 'rightarrow', 'mathrm', 'burger', 'found', 'in', 'the', 'sales', 'data', 'of', 'a', 'supermarket', 'would', 'indicate', 'that', 'if', 'a', 'customer', 'buys', 'onions', 'and', 'potatoes', 'together', 'they', 'are', 'likely', 'to', 'also', 'buy', 'hamburger', 'meat', 'such', 'information', 'can', 'be', 'used', 'as', 'the', 'basis', 'for', 'decisions', 'about', 'marketing', 'activities', 'such', 'as', 'promotional', 'pricing', 'or', 'product', 'placements', 'in', 'addition', 'to', 'market', 'basket', 'analysis', 'association', 'rules', 'are', 'employed', 'today', 'in', 'application', 'areas', 'including', 'web', 'usage', 'mining', 'intrusion', 'detection', 'continuous', 'production', 'and', 'bioinformatics', 'in', 'contrast', 'with', 'sequence', 'mining', 'association', 'rule', 'learning', 'typically', 'does', 'not', 'consider', 'the', 'order', 'of', 'items', 'either', 'within', 'a', 'transaction', 'or', 'across', 'transactions', 'learning', 'classifier', 'systems', 'lcs', 'are', 'a', 'family', 'of', 'rule', 'based', 'machine', 'learning', 'algorithms', 'that', 'combine', 'a', 'discovery', 'component', 'typically', 'a', 'genetic', 'algorithm', 'with', 'a', 'learning', 'component', 'performing', 'either', 'supervised', 'learning', 'reinforcement', 'learning', 'or', 'unsupervised', 'learning', 'they', 'seek', 'to', 'identify', 'a', 'set', 'of', 'context', 'dependent', 'rules', 'that', 'collectively', 'store', 'and', 'apply', 'knowledge', 'in', 'a', 'piecewise', 'manner', 'in', 'order', 'to', 'make', 'predictions', 'inductive', 'logic', 'programming', 'ilp', 'is', 'an', 'approach', 'to', 'rule', 'learning', 'using', 'logic', 'programming', 'as', 'a', 'uniform', 'representation', 'for', 'input', 'examples', 'background', 'knowledge', 'and', 'hypotheses', 'given', 'an', 'encoding', 'of', 'the', 'known', 'background', 'knowledge', 'and', 'a', 'set', 'of', 'examples', 'represented', 'as', 'a', 'logical', 'database', 'of', 'facts', 'an', 'ilp', 'system', 'will', 'derive', 'a', 'hypothesized', 'logic', 'program', 'that', 'entails', 'all', 'positive', 'and', 'no', 'negative', 'examples', 'inductive', 'programming', 'is', 'a', 'related', 'field', 'that', 'considers', 'any', 'kind', 'of', 'programming', 'languages', 'for', 'representing', 'hypotheses', 'and', 'not', 'only', 'logic', 'programming', 'such', 'as', 'functional', 'programs', 'inductive', 'logic', 'programming', 'is', 'particularly', 'useful', 'in', 'bioinformatics', 'and', 'natural', 'language', 'processing', 'gordon', 'plotkin', 'and', 'ehud', 'shapiro', 'laid', 'the', 'initial', 'theoretical', 'foundation', 'for', 'inductive', 'machine', 'learning', 'in', 'a', 'logical', 'setting', 'shapiro', 'built', 'their', 'first', 'implementation', 'model', 'inference', 'system', 'in', 'a', 'prolog', 'program', 'that', 'inductively', 'inferred', 'logic', 'programs', 'from', 'positive', 'and', 'negative', 'examples', 'the', 'term', 'inductive', 'here', 'refers', 'to', 'philosophical', 'induction', 'suggesting', 'a', 'theory', 'to', 'explain', 'observed', 'facts', 'rather', 'than', 'mathematical', 'induction', 'proving', 'a', 'property', 'for', 'all', 'members', 'of', 'a', 'well', 'ordered', 'set', 'models', 'artificial', 'neural', 'networks', 'artificial', 'neural', 'networks', 'anns', 'or', 'connectionist', 'systems', 'are', 'computing', 'systems', 'vaguely', 'inspired', 'by', 'the', 'biological', 'neural', 'networks', 'that', 'constitute', 'animal', 'brains', 'the', 'neural', 'network', 'itself', 'is', 'not', 'an', 'algorithm', 'but', 'rather', 'a', 'framework', 'for', 'many', 'different', 'machine', 'learning', 'algorithms', 'to', 'work', 'together', 'and', 'process', 'complex', 'data', 'inputs', 'such', 'systems', 'learn', 'to', 'perform', 'tasks', 'by', 'considering', 'examples', 'generally', 'without', 'being', 'programmed', 'with', 'any', 'task', 'specific', 'rules', 'an', 'ann', 'is', 'a', 'model', 'based', 'on', 'a', 'collection', 'of', 'connected', 'units', 'or', 'nodes', 'called', 'artificial', 'neurons', 'which', 'loosely', 'model', 'the', 'neurons', 'in', 'a', 'biological', 'brain', 'each', 'connection', 'like', 'the', 'synapses', 'in', 'a', 'biological', 'brain', 'can', 'transmit', 'information', 'a', 'signal', 'from', 'one', 'artificial', 'neuron', 'to', 'another', 'an', 'artificial', 'neuron', 'that', 'receives', 'a', 'signal', 'can', 'process', 'it', 'and', 'then', 'signal', 'additional', 'artificial', 'neurons', 'connected', 'to', 'it', 'in', 'common', 'ann', 'implementations', 'the', 'signal', 'at', 'a', 'connection', 'between', 'artificial', 'neurons', 'is', 'a', 'real', 'number', 'and', 'the', 'output', 'of', 'each', 'artificial', 'neuron', 'is', 'computed', 'by', 'some', 'non', 'linear', 'function', 'of', 'the', 'sum', 'of', 'its', 'inputs', 'the', 'connections', 'between', 'artificial', 'neurons', 'are', 'called', 'edges', 'artificial', 'neurons', 'and', 'edges', 'typically', 'have', 'a', 'weight', 'that', 'adjusts', 'as', 'learning', 'proceeds', 'the', 'weight', 'increases', 'or', 'decreases', 'the', 'strength', 'of', 'the', 'signal', 'at', 'a', 'connection', 'artificial', 'neurons', 'may', 'have', 'a', 'threshold', 'such', 'that', 'the', 'signal', 'is', 'only', 'sent', 'if', 'the', 'aggregate', 'signal', 'crosses', 'that', 'threshold', 'typically', 'artificial', 'neurons', 'are', 'aggregated', 'into', 'layers', 'different', 'layers', 'may', 'perform', 'different', 'kinds', 'of', 'transformations', 'on', 'their', 'inputs', 'signals', 'travel', 'from', 'the', 'first', 'layer', 'the', 'input', 'layer', 'to', 'the', 'last', 'layer', 'the', 'output', 'layer', 'possibly', 'after', 'traversing', 'the', 'layers', 'multiple', 'times', 'the', 'original', 'goal', 'of', 'the', 'ann', 'approach', 'was', 'to', 'solve', 'problems', 'in', 'the', 'same', 'way', 'that', 'a', 'human', 'brain', 'would', 'however', 'over', 'time', 'attention', 'moved', 'to', 'performing', 'specific', 'tasks', 'leading', 'to', 'deviations', 'from', 'biology', 'artificial', 'neural', 'networks', 'have', 'been', 'used', 'on', 'a', 'variety', 'of', 'tasks', 'including', 'computer', 'vision', 'speech', 'recognition', 'machine', 'translation', 'social', 'network', 'filtering', 'playing', 'board', 'and', 'video', 'games', 'and', 'medical', 'diagnosis', 'deep', 'learning', 'consists', 'of', 'multiple', 'hidden', 'layers', 'in', 'an', 'artificial', 'neural', 'network', 'this', 'approach', 'tries', 'to', 'model', 'the', 'way', 'the', 'human', 'brain', 'processes', 'light', 'and', 'sound', 'into', 'vision', 'and', 'hearing', 'some', 'successful', 'applications', 'of', 'deep', 'learning', 'are', 'computer', 'vision', 'and', 'speech', 'recognition', 'support', 'vector', 'machines', 'support', 'vector', 'machines', 'svms', 'also', 'known', 'as', 'support', 'vector', 'networks', 'are', 'a', 'set', 'of', 'related', 'supervised', 'learning', 'methods', 'used', 'for', 'classification', 'and', 'regression', 'given', 'a', 'set', 'of', 'training', 'examples', 'each', 'marked', 'as', 'belonging', 'to', 'one', 'of', 'two', 'categories', 'an', 'svm', 'training', 'algorithm', 'builds', 'a', 'model', 'that', 'predicts', 'whether', 'a', 'new', 'example', 'falls', 'into', 'one', 'category', 'or', 'the', 'other', 'an', 'svm', 'training', 'algorithm', 'is', 'a', 'non', 'probabilistic', 'binary', 'linear', 'classifier', 'although', 'methods', 'such', 'as', 'platt', 'scaling', 'exist', 'to', 'use', 'svm', 'in', 'a', 'probabilistic', 'classification', 'setting', 'in', 'addition', 'to', 'performing', 'linear', 'classification', 'svms', 'can', 'efficiently', 'perform', 'a', 'non', 'linear', 'classification', 'using', 'what', 'is', 'called', 'the', 'kernel', 'trick', 'implicitly', 'mapping', 'their', 'inputs', 'into', 'high', 'dimensional', 'feature', 'spaces', 'bayesian', 'networks', 'a', 'bayesian', 'network', 'belief', 'network', 'or', 'directed', 'acyclic', 'graphical', 'model', 'is', 'a', 'probabilistic', 'graphical', 'model', 'that', 'represents', 'a', 'set', 'of', 'random', 'variables', 'and', 'their', 'conditional', 'independence', 'with', 'a', 'directed', 'acyclic', 'graph', 'dag', 'for', 'example', 'a', 'bayesian', 'network', 'could', 'represent', 'the', 'probabilistic', 'relationships', 'between', 'diseases', 'and', 'symptoms', 'given', 'symptoms', 'the', 'network', 'can', 'be', 'used', 'to', 'compute', 'the', 'probabilities', 'of', 'the', 'presence', 'of', 'various', 'diseases', 'efficient', 'algorithms', 'exist', 'that', 'perform', 'inference', 'and', 'learning', 'bayesian', 'networks', 'that', 'model', 'sequences', 'of', 'variables', 'like', 'speech', 'signals', 'or', 'protein', 'sequences', 'are', 'called', 'dynamic', 'bayesian', 'networks', 'generalizations', 'of', 'bayesian', 'networks', 'that', 'can', 'represent', 'and', 'solve', 'decision', 'problems', 'under', 'uncertainty', 'are', 'called', 'influence', 'diagrams', 'genetic', 'algorithms', 'a', 'genetic', 'algorithm', 'ga', 'is', 'a', 'search', 'algorithm', 'and', 'heuristic', 'technique', 'that', 'mimics', 'the', 'process', 'of', 'natural', 'selection', 'using', 'methods', 'such', 'as', 'mutation', 'and', 'crossover', 'to', 'generate', 'new', 'genotypes', 'in', 'the', 'hope', 'of', 'finding', 'good', 'solutions', 'to', 'a', 'given', 'problem', 'in', 'machine', 'learning', 'genetic', 'algorithms', 'were', 'used', 'in', 'the', 's', 'and', 's', 'conversely', 'machine', 'learning', 'techniques', 'have', 'been', 'used', 'to', 'improve', 'the', 'performance', 'of', 'genetic', 'and', 'evolutionary', 'algorithms', 'applications', 'applications', 'for', 'machine', 'learning', 'include', 'in', 'the', 'online', 'movie', 'company', 'netflix', 'held', 'the', 'first', 'netflix', 'prize', 'competition', 'to', 'find', 'a', 'program', 'to', 'better', 'predict', 'user', 'preferences', 'and', 'improve', 'the', 'accuracy', 'on', 'its', 'existing', 'cinematch', 'movie', 'recommendation', 'algorithm', 'by', 'at', 'least', 'a', 'joint', 'team', 'made', 'up', 'of', 'researchers', 'from', 'at', 't', 'labs', 'research', 'in', 'collaboration', 'with', 'the', 'teams', 'big', 'chaos', 'and', 'pragmatic', 'theory', 'built', 'an', 'ensemble', 'model', 'to', 'win', 'the', 'grand', 'prize', 'in', 'for', 'million', 'shortly', 'after', 'the', 'prize', 'was', 'awarded', 'netflix', 'realized', 'that', 'viewers', 'ratings', 'were', 'not', 'the', 'best', 'indicators', 'of', 'their', 'viewing', 'patterns', 'everything', 'is', 'a', 'recommendation', 'and', 'they', 'changed', 'their', 'recommendation', 'engine', 'accordingly', 'in', 'the', 'wall', 'street', 'journal', 'wrote', 'about', 'the', 'firm', 'rebellion', 'research', 'and', 'their', 'use', 'of', 'machine', 'learning', 'to', 'predict', 'the', 'financial', 'crisis', 'in', 'co', 'founder', 'of', 'sun', 'microsystems', 'vinod', 'khosla', 'predicted', 'that', 'of', 'medical', 'doctors', 'jobs', 'would', 'be', 'lost', 'in', 'the', 'next', 'two', 'decades', 'to', 'automated', 'machine', 'learning', 'medical', 'diagnostic', 'software', 'in', 'it', 'was', 'reported', 'that', 'a', 'machine', 'learning', 'algorithm', 'had', 'been', 'applied', 'in', 'the', 'field', 'of', 'art', 'history', 'to', 'study', 'fine', 'art', 'paintings', 'and', 'that', 'it', 'may', 'have', 'revealed', 'previously', 'unrecognized', 'influences', 'between', 'artists', 'limitations', 'although', 'machine', 'learning', 'has', 'been', 'transformative', 'in', 'some', 'fields', 'machine', 'learning', 'programs', 'often', 'fail', 'to', 'deliver', 'expected', 'results', 'reasons', 'for', 'this', 'are', 'numerous', 'lack', 'of', 'suitable', 'data', 'lack', 'of', 'access', 'to', 'the', 'data', 'data', 'bias', 'privacy', 'problems', 'badly', 'chosen', 'tasks', 'and', 'algorithms', 'wrong', 'tools', 'and', 'people', 'lack', 'of', 'resources', 'and', 'evaluation', 'problems', 'in', 'a', 'self', 'driving', 'car', 'from', 'uber', 'failed', 'to', 'detect', 'a', 'pedestrian', 'who', 'was', 'killed', 'after', 'a', 'collision', 'attempts', 'to', 'use', 'machine', 'learning', 'in', 'healthcare', 'with', 'the', 'ibm', 'watson', 'system', 'failed', 'to', 'deliver', 'even', 'after', 'years', 'of', 'time', 'and', 'billions', 'of', 'investment', 'bias', 'machine', 'learning', 'approaches', 'in', 'particular', 'can', 'suffer', 'from', 'different', 'data', 'biases', 'a', 'machine', 'learning', 'system', 'trained', 'on', 'current', 'customers', 'only', 'may', 'not', 'be', 'able', 'to', 'predict', 'the', 'needs', 'of', 'new', 'customer', 'groups', 'that', 'are', 'not', 'represented', 'in', 'the', 'training', 'data', 'when', 'trained', 'on', 'man', 'made', 'data', 'machine', 'learning', 'is', 'likely', 'to', 'pick', 'up', 'the', 'same', 'constitutional', 'and', 'unconscious', 'biases', 'already', 'present', 'in', 'society', 'language', 'models', 'learned', 'from', 'data', 'have', 'been', 'shown', 'to', 'contain', 'human', 'like', 'biases', 'machine', 'learning', 'systems', 'used', 'for', 'criminal', 'risk', 'assessment', 'have', 'been', 'found', 'to', 'be', 'biased', 'against', 'black', 'people', 'in', 'google', 'photos', 'would', 'often', 'tag', 'black', 'people', 'as', 'gorillas', 'and', 'in', 'this', 'still', 'was', 'not', 'well', 'resolved', 'but', 'google', 'reportedly', 'was', 'still', 'using', 'the', 'workaround', 'to', 'remove', 'all', 'gorilla', 'from', 'the', 'training', 'data', 'and', 'thus', 'was', 'not', 'able', 'to', 'recognize', 'real', 'gorillas', 'at', 'all', 'similar', 'issues', 'with', 'recognizing', 'non', 'white', 'people', 'have', 'been', 'found', 'in', 'many', 'other', 'systems', 'in', 'microsoft', 'tested', 'a', 'chatbot', 'that', 'learned', 'from', 'twitter', 'and', 'it', 'quickly', 'picked', 'up', 'racist', 'and', 'sexist', 'language', 'because', 'of', 'such', 'challenges', 'the', 'effective', 'use', 'of', 'machine', 'learning', 'may', 'take', 'longer', 'to', 'be', 'adopted', 'in', 'other', 'domains', 'concern', 'for', 'reducing', 'bias', 'in', 'machine', 'learning', 'and', 'propelling', 'its', 'use', 'for', 'human', 'good', 'is', 'increasingly', 'expressed', 'by', 'artificial', 'intelligence', 'scientists', 'including', 'fei', 'fei', 'li', 'who', 'reminds', 'engineers', 'that', 'there', 's', 'nothing', 'artificial', 'about', 'ai', 'it', 's', 'inspired', 'by', 'people', 'it', 's', 'created', 'by', 'people', 'and', 'most', 'importantly', 'it', 'impacts', 'people', 'it', 'is', 'a', 'powerful', 'tool', 'we', 'are', 'only', 'just', 'beginning', 'to', 'understand', 'and', 'that', 'is', 'a', 'profound', 'responsibility', 'model', 'assessments', 'classification', 'machine', 'learning', 'models', 'can', 'be', 'validated', 'by', 'accuracy', 'estimation', 'techniques', 'like', 'the', 'holdout', 'method', 'which', 'splits', 'the', 'data', 'in', 'a', 'training', 'and', 'test', 'set', 'conventionally', 'training', 'set', 'and', 'test', 'set', 'designation', 'and', 'evaluates', 'the', 'performance', 'of', 'the', 'training', 'model', 'on', 'the', 'test', 'set', 'in', 'comparison', 'the', 'n', 'fold', 'cross', 'validation', 'method', 'randomly', 'splits', 'the', 'data', 'in', 'k', 'subsets', 'where', 'the', 'k', 'instances', 'of', 'the', 'data', 'are', 'used', 'to', 'train', 'the', 'model', 'while', 'the', 'kth', 'instance', 'is', 'used', 'to', 'test', 'the', 'predictive', 'ability', 'of', 'the', 'training', 'model', 'in', 'addition', 'to', 'the', 'holdout', 'and', 'cross', 'validation', 'methods', 'bootstrap', 'which', 'samples', 'n', 'instances', 'with', 'replacement', 'from', 'the', 'dataset', 'can', 'be', 'used', 'to', 'assess', 'model', 'accuracy', 'in', 'addition', 'to', 'overall', 'accuracy', 'investigators', 'frequently', 'report', 'sensitivity', 'and', 'specificity', 'meaning', 'true', 'positive', 'rate', 'tpr', 'and', 'true', 'negative', 'rate', 'tnr', 'respectively', 'similarly', 'investigators', 'sometimes', 'report', 'the', 'false', 'positive', 'rate', 'fpr', 'as', 'well', 'as', 'the', 'false', 'negative', 'rate', 'fnr', 'however', 'these', 'rates', 'are', 'ratios', 'that', 'fail', 'to', 'reveal', 'their', 'numerators', 'and', 'denominators', 'the', 'total', 'operating', 'characteristic', 'toc', 'is', 'an', 'effective', 'method', 'to', 'express', 'a', 'model', 's', 'diagnostic', 'ability', 'toc', 'shows', 'the', 'numerators', 'and', 'denominators', 'of', 'the', 'previously', 'mentioned', 'rates', 'thus', 'toc', 'provides', 'more', 'information', 'than', 'the', 'commonly', 'used', 'receiver', 'operating', 'characteristic', 'roc', 'and', 'roc', 's', 'associated', 'area', 'under', 'the', 'curve', 'auc', 'ethics', 'machine', 'learning', 'poses', 'a', 'host', 'of', 'ethical', 'questions', 'systems', 'which', 'are', 'trained', 'on', 'datasets', 'collected', 'with', 'biases', 'may', 'exhibit', 'these', 'biases', 'upon', 'use', 'algorithmic', 'bias', 'thus', 'digitizing', 'cultural', 'prejudices', 'for', 'example', 'using', 'job', 'hiring', 'data', 'from', 'a', 'firm', 'with', 'racist', 'hiring', 'policies', 'may', 'lead', 'to', 'a', 'machine', 'learning', 'system', 'duplicating', 'the', 'bias', 'by', 'scoring', 'job', 'applicants', 'against', 'similarity', 'to', 'previous', 'successful', 'applicants', 'responsible', 'collection', 'of', 'data', 'and', 'documentation', 'of', 'algorithmic', 'rules', 'used', 'by', 'a', 'system', 'thus', 'is', 'a', 'critical', 'part', 'of', 'machine', 'learning', 'because', 'language', 'contains', 'biases', 'machines', 'trained', 'on', 'language', 'corpora', 'will', 'necessarily', 'also', 'learn', 'bias', 'other', 'forms', 'of', 'ethical', 'challenges', 'not', 'related', 'to', 'personal', 'biases', 'are', 'more', 'seen', 'in', 'health', 'care', 'there', 'are', 'concerns', 'among', 'health', 'care', 'professionals', 'that', 'these', 'systems', 'might', 'not', 'be', 'designed', 'in', 'the', 'public', 's', 'interest', 'but', 'as', 'income', 'generating', 'machines', 'this', 'is', 'especially', 'true', 'in', 'the', 'united', 'states', 'where', 'there', 'is', 'a', 'perpetual', 'ethical', 'dilemma', 'of', 'improving', 'health', 'care', 'but', 'also', 'increasing', 'profits', 'for', 'example', 'the', 'algorithms', 'could', 'be', 'designed', 'to', 'provide', 'patients', 'with', 'unnecessary', 'tests', 'or', 'medication', 'in', 'which', 'the', 'algorithm', 's', 'proprietary', 'owners', 'hold', 'stakes', 'in', 'there', 'is', 'huge', 'potential', 'for', 'machine', 'learning', 'in', 'health', 'care', 'to', 'provide', 'professionals', 'a', 'great', 'tool', 'to', 'diagnose', 'medicate', 'and', 'even', 'plan', 'recovery', 'paths', 'for', 'patients', 'but', 'this', 'will', 'not', 'happen', 'until', 'the', 'personal', 'biases', 'mentioned', 'previously', 'and', 'these', 'greed', 'biases', 'are', 'addressed', 'software', 'software', 'suites', 'containing', 'a', 'variety', 'of', 'machine', 'learning', 'algorithms', 'include', 'the', 'following', 'free', 'and', 'open', 'source', 'software', 'proprietary', 'software', 'with', 'free', 'and', 'open', 'source', 'editions', 'proprietary', 'software', 'journals', 'journal', 'of', 'machine', 'learning', 'research', 'machine', 'learning', 'neural', 'computation', 'nature', 'machine', 'intelligence', 'conferences', 'conference', 'on', 'neural', 'information', 'processing', 'systems', 'international', 'conference', 'on', 'machine', 'learning', 'see', 'also', 'references', 'further', 'reading', 'artificial', 'intelligence', 'a', 'modern', 'approach', 'rd', 'edition', 'external', 'links', 'international', 'machine', 'learning', 'society', 'mloss', 'is', 'an', 'academic', 'database', 'of', 'open', 'source', 'machine', 'learning', 'software', 'machine', 'learning', 'crash', 'course', 'by', 'google', 'this', 'is', 'a', 'free', 'course', 'on', 'machine', 'learning', 'through', 'the', 'use', 'of', 'tensorflow']\n"
          ],
          "name": "stdout"
        }
      ]
    },
    {
      "metadata": {
        "id": "eyo1zvzERVgG",
        "colab_type": "text"
      },
      "cell_type": "markdown",
      "source": [
        "### Build the gensim model for word2vec with by considering all the words with frequency >=1 with embedding size=50"
      ]
    },
    {
      "metadata": {
        "id": "hMkxm5eHRVts",
        "colab_type": "code",
        "colab": {}
      },
      "cell_type": "code",
      "source": [
        "#Build the model\n",
        "model = gensim.models.Word2Vec(documents, #Word list\n",
        "                               min_count=1, #Ignore all words with total frequency lower than this                           \n",
        "                               workers=4, #Number of CPUs\n",
        "                               size=50,  #Embedding size\n",
        "                               window=5, #Maximum Distance between current and predicted word\n",
        "                               iter=10   #Number of iterations over the text corpus\n",
        "                              ) "
      ],
      "execution_count": 0,
      "outputs": []
    },
    {
      "metadata": {
        "id": "FyLV4F6uRYZx",
        "colab_type": "text"
      },
      "cell_type": "markdown",
      "source": [
        "### Exploring the model"
      ]
    },
    {
      "metadata": {
        "id": "6iuSUoJERYhc",
        "colab_type": "code",
        "colab": {
          "base_uri": "https://localhost:8080/",
          "height": 17034
        },
        "outputId": "e48e5765-34d8-48be-e638-6e0180a5ebbb"
      },
      "cell_type": "code",
      "source": [
        "# Vocablury of the model\n",
        "model.wv.vocab"
      ],
      "execution_count": 35,
      "outputs": [
        {
          "output_type": "execute_result",
          "data": {
            "text/plain": [
              "{'machine': <gensim.models.keyedvectors.Vocab at 0x7f20eee2eef0>,\n",
              " 'learning': <gensim.models.keyedvectors.Vocab at 0x7f20eee2eb00>,\n",
              " 'ml': <gensim.models.keyedvectors.Vocab at 0x7f20ed5ff080>,\n",
              " 'is': <gensim.models.keyedvectors.Vocab at 0x7f20ed5ff0f0>,\n",
              " 'the': <gensim.models.keyedvectors.Vocab at 0x7f20ed5ff160>,\n",
              " 'scientific': <gensim.models.keyedvectors.Vocab at 0x7f20ed5ff198>,\n",
              " 'study': <gensim.models.keyedvectors.Vocab at 0x7f20ed5ff208>,\n",
              " 'of': <gensim.models.keyedvectors.Vocab at 0x7f20ed5ff278>,\n",
              " 'algorithms': <gensim.models.keyedvectors.Vocab at 0x7f20ed5ff2b0>,\n",
              " 'and': <gensim.models.keyedvectors.Vocab at 0x7f20ed5ff320>,\n",
              " 'statistical': <gensim.models.keyedvectors.Vocab at 0x7f20ed5ff358>,\n",
              " 'models': <gensim.models.keyedvectors.Vocab at 0x7f20ed5ff3c8>,\n",
              " 'that': <gensim.models.keyedvectors.Vocab at 0x7f20ed5ff438>,\n",
              " 'computer': <gensim.models.keyedvectors.Vocab at 0x7f20ed5ff470>,\n",
              " 'systems': <gensim.models.keyedvectors.Vocab at 0x7f20ed5ff4e0>,\n",
              " 'use': <gensim.models.keyedvectors.Vocab at 0x7f20ed5ff550>,\n",
              " 'to': <gensim.models.keyedvectors.Vocab at 0x7f20ed5ff5c0>,\n",
              " 'effectively': <gensim.models.keyedvectors.Vocab at 0x7f20ed5ff5f8>,\n",
              " 'perform': <gensim.models.keyedvectors.Vocab at 0x7f20ed5ff668>,\n",
              " 'a': <gensim.models.keyedvectors.Vocab at 0x7f20ed5ff6a0>,\n",
              " 'specific': <gensim.models.keyedvectors.Vocab at 0x7f20ed5ff6d8>,\n",
              " 'task': <gensim.models.keyedvectors.Vocab at 0x7f20ed5ff748>,\n",
              " 'without': <gensim.models.keyedvectors.Vocab at 0x7f20ed5ff7b8>,\n",
              " 'using': <gensim.models.keyedvectors.Vocab at 0x7f20ed5ff828>,\n",
              " 'explicit': <gensim.models.keyedvectors.Vocab at 0x7f20ed5ff860>,\n",
              " 'instructions': <gensim.models.keyedvectors.Vocab at 0x7f20ed5ff898>,\n",
              " 'relying': <gensim.models.keyedvectors.Vocab at 0x7f20ed5ff908>,\n",
              " 'on': <gensim.models.keyedvectors.Vocab at 0x7f20ed5ff978>,\n",
              " 'patterns': <gensim.models.keyedvectors.Vocab at 0x7f20ed5ff9b0>,\n",
              " 'inference': <gensim.models.keyedvectors.Vocab at 0x7f20ed5ff9e8>,\n",
              " 'instead': <gensim.models.keyedvectors.Vocab at 0x7f20ed5ffa58>,\n",
              " 'it': <gensim.models.keyedvectors.Vocab at 0x7f20ed5ffac8>,\n",
              " 'seen': <gensim.models.keyedvectors.Vocab at 0x7f20ed5ffb38>,\n",
              " 'as': <gensim.models.keyedvectors.Vocab at 0x7f20ed5ffba8>,\n",
              " 'subset': <gensim.models.keyedvectors.Vocab at 0x7f20ed5ffc18>,\n",
              " 'artificial': <gensim.models.keyedvectors.Vocab at 0x7f20ed5ffc50>,\n",
              " 'intelligence': <gensim.models.keyedvectors.Vocab at 0x7f20ed5ffc88>,\n",
              " 'build': <gensim.models.keyedvectors.Vocab at 0x7f20ed5ffcf8>,\n",
              " 'mathematical': <gensim.models.keyedvectors.Vocab at 0x7f20ed5ffd30>,\n",
              " 'model': <gensim.models.keyedvectors.Vocab at 0x7f20ed5ffda0>,\n",
              " 'sample': <gensim.models.keyedvectors.Vocab at 0x7f20ed5ffe10>,\n",
              " 'data': <gensim.models.keyedvectors.Vocab at 0x7f20ed5ffe80>,\n",
              " 'known': <gensim.models.keyedvectors.Vocab at 0x7f20ed5ffef0>,\n",
              " 'training': <gensim.models.keyedvectors.Vocab at 0x7f20ed5fff28>,\n",
              " 'in': <gensim.models.keyedvectors.Vocab at 0x7f20ed5fff98>,\n",
              " 'order': <gensim.models.keyedvectors.Vocab at 0x7f20ed604048>,\n",
              " 'make': <gensim.models.keyedvectors.Vocab at 0x7f20ed6040b8>,\n",
              " 'predictions': <gensim.models.keyedvectors.Vocab at 0x7f20ed6040f0>,\n",
              " 'or': <gensim.models.keyedvectors.Vocab at 0x7f20ed604160>,\n",
              " 'decisions': <gensim.models.keyedvectors.Vocab at 0x7f20ed604198>,\n",
              " 'being': <gensim.models.keyedvectors.Vocab at 0x7f20ed604208>,\n",
              " 'explicitly': <gensim.models.keyedvectors.Vocab at 0x7f20ed604240>,\n",
              " 'programmed': <gensim.models.keyedvectors.Vocab at 0x7f20ed604278>,\n",
              " 'are': <gensim.models.keyedvectors.Vocab at 0x7f20ed6042e8>,\n",
              " 'used': <gensim.models.keyedvectors.Vocab at 0x7f20ed604358>,\n",
              " 'applications': <gensim.models.keyedvectors.Vocab at 0x7f20ed604390>,\n",
              " 'email': <gensim.models.keyedvectors.Vocab at 0x7f20ed604400>,\n",
              " 'filtering': <gensim.models.keyedvectors.Vocab at 0x7f20ed604438>,\n",
              " 'detection': <gensim.models.keyedvectors.Vocab at 0x7f20ed604470>,\n",
              " 'network': <gensim.models.keyedvectors.Vocab at 0x7f20ed6044e0>,\n",
              " 'intruders': <gensim.models.keyedvectors.Vocab at 0x7f20ed604518>,\n",
              " 'vision': <gensim.models.keyedvectors.Vocab at 0x7f20ed604588>,\n",
              " 'where': <gensim.models.keyedvectors.Vocab at 0x7f20ed6045f8>,\n",
              " 'infeasible': <gensim.models.keyedvectors.Vocab at 0x7f20ed604630>,\n",
              " 'develop': <gensim.models.keyedvectors.Vocab at 0x7f20ed6046a0>,\n",
              " 'an': <gensim.models.keyedvectors.Vocab at 0x7f20ed604710>,\n",
              " 'algorithm': <gensim.models.keyedvectors.Vocab at 0x7f20ed604748>,\n",
              " 'for': <gensim.models.keyedvectors.Vocab at 0x7f20ed6047b8>,\n",
              " 'performing': <gensim.models.keyedvectors.Vocab at 0x7f20ed6047f0>,\n",
              " 'closely': <gensim.models.keyedvectors.Vocab at 0x7f20ed604860>,\n",
              " 'related': <gensim.models.keyedvectors.Vocab at 0x7f20ed6048d0>,\n",
              " 'computational': <gensim.models.keyedvectors.Vocab at 0x7f20ed604908>,\n",
              " 'statistics': <gensim.models.keyedvectors.Vocab at 0x7f20ed604940>,\n",
              " 'which': <gensim.models.keyedvectors.Vocab at 0x7f20ed6049b0>,\n",
              " 'focuses': <gensim.models.keyedvectors.Vocab at 0x7f20ed604a20>,\n",
              " 'making': <gensim.models.keyedvectors.Vocab at 0x7f20ed604a90>,\n",
              " 'computers': <gensim.models.keyedvectors.Vocab at 0x7f20ed604ac8>,\n",
              " 'optimization': <gensim.models.keyedvectors.Vocab at 0x7f20ed604b00>,\n",
              " 'delivers': <gensim.models.keyedvectors.Vocab at 0x7f20ed604b38>,\n",
              " 'methods': <gensim.models.keyedvectors.Vocab at 0x7f20ed604ba8>,\n",
              " 'theory': <gensim.models.keyedvectors.Vocab at 0x7f20ed604c18>,\n",
              " 'application': <gensim.models.keyedvectors.Vocab at 0x7f20ed604c50>,\n",
              " 'domains': <gensim.models.keyedvectors.Vocab at 0x7f20ed604cc0>,\n",
              " 'field': <gensim.models.keyedvectors.Vocab at 0x7f20ed604d30>,\n",
              " 'mining': <gensim.models.keyedvectors.Vocab at 0x7f20ed604da0>,\n",
              " 'within': <gensim.models.keyedvectors.Vocab at 0x7f20ed604e10>,\n",
              " 'exploratory': <gensim.models.keyedvectors.Vocab at 0x7f20ed604e48>,\n",
              " 'analysis': <gensim.models.keyedvectors.Vocab at 0x7f20ed604e80>,\n",
              " 'through': <gensim.models.keyedvectors.Vocab at 0x7f20ed604ef0>,\n",
              " 'unsupervised': <gensim.models.keyedvectors.Vocab at 0x7f20ed604f28>,\n",
              " 'its': <gensim.models.keyedvectors.Vocab at 0x7f20ed604f98>,\n",
              " 'across': <gensim.models.keyedvectors.Vocab at 0x7f20ed60a048>,\n",
              " 'business': <gensim.models.keyedvectors.Vocab at 0x7f20ed60a080>,\n",
              " 'problems': <gensim.models.keyedvectors.Vocab at 0x7f20ed60a0b8>,\n",
              " 'also': <gensim.models.keyedvectors.Vocab at 0x7f20ed60a128>,\n",
              " 'referred': <gensim.models.keyedvectors.Vocab at 0x7f20ed60a160>,\n",
              " 'predictive': <gensim.models.keyedvectors.Vocab at 0x7f20ed60a198>,\n",
              " 'analytics': <gensim.models.keyedvectors.Vocab at 0x7f20ed60a1d0>,\n",
              " 'overview': <gensim.models.keyedvectors.Vocab at 0x7f20ed60a208>,\n",
              " 'name': <gensim.models.keyedvectors.Vocab at 0x7f20ed60a278>,\n",
              " 'was': <gensim.models.keyedvectors.Vocab at 0x7f20ed60a2e8>,\n",
              " 'coined': <gensim.models.keyedvectors.Vocab at 0x7f20ed60a358>,\n",
              " 'by': <gensim.models.keyedvectors.Vocab at 0x7f20ed60a3c8>,\n",
              " 'arthur': <gensim.models.keyedvectors.Vocab at 0x7f20ed60a438>,\n",
              " 'samuel': <gensim.models.keyedvectors.Vocab at 0x7f20ed60a4a8>,\n",
              " 'tom': <gensim.models.keyedvectors.Vocab at 0x7f20ed60a518>,\n",
              " 'm': <gensim.models.keyedvectors.Vocab at 0x7f20ed60a550>,\n",
              " 'mitchell': <gensim.models.keyedvectors.Vocab at 0x7f20ed60a588>,\n",
              " 'provided': <gensim.models.keyedvectors.Vocab at 0x7f20ed60a5c0>,\n",
              " 'widely': <gensim.models.keyedvectors.Vocab at 0x7f20ed60a630>,\n",
              " 'quoted': <gensim.models.keyedvectors.Vocab at 0x7f20ed60a6a0>,\n",
              " 'more': <gensim.models.keyedvectors.Vocab at 0x7f20ed60a710>,\n",
              " 'formal': <gensim.models.keyedvectors.Vocab at 0x7f20ed60a780>,\n",
              " 'definition': <gensim.models.keyedvectors.Vocab at 0x7f20ed60a7b8>,\n",
              " 'studied': <gensim.models.keyedvectors.Vocab at 0x7f20ed60a828>,\n",
              " 'program': <gensim.models.keyedvectors.Vocab at 0x7f20ed60a898>,\n",
              " 'said': <gensim.models.keyedvectors.Vocab at 0x7f20ed60a908>,\n",
              " 'learn': <gensim.models.keyedvectors.Vocab at 0x7f20ed60a978>,\n",
              " 'from': <gensim.models.keyedvectors.Vocab at 0x7f20ed60a9e8>,\n",
              " 'experience': <gensim.models.keyedvectors.Vocab at 0x7f20ed60aa20>,\n",
              " 'e': <gensim.models.keyedvectors.Vocab at 0x7f20ed60aa58>,\n",
              " 'with': <gensim.models.keyedvectors.Vocab at 0x7f20ed60aac8>,\n",
              " 'respect': <gensim.models.keyedvectors.Vocab at 0x7f20ed60ab38>,\n",
              " 'some': <gensim.models.keyedvectors.Vocab at 0x7f20ed60aba8>,\n",
              " 'class': <gensim.models.keyedvectors.Vocab at 0x7f20ed60ac18>,\n",
              " 'tasks': <gensim.models.keyedvectors.Vocab at 0x7f20ed60ac88>,\n",
              " 't': <gensim.models.keyedvectors.Vocab at 0x7f20ed60acc0>,\n",
              " 'performance': <gensim.models.keyedvectors.Vocab at 0x7f20ed60acf8>,\n",
              " 'measure': <gensim.models.keyedvectors.Vocab at 0x7f20ed60ad68>,\n",
              " 'p': <gensim.models.keyedvectors.Vocab at 0x7f20ed60ada0>,\n",
              " 'if': <gensim.models.keyedvectors.Vocab at 0x7f20ed60ae10>,\n",
              " 'at': <gensim.models.keyedvectors.Vocab at 0x7f20ed60ae80>,\n",
              " 'measured': <gensim.models.keyedvectors.Vocab at 0x7f20ed60aeb8>,\n",
              " 'improves': <gensim.models.keyedvectors.Vocab at 0x7f20ed60aef0>,\n",
              " 'this': <gensim.models.keyedvectors.Vocab at 0x7f20ed60af60>,\n",
              " 'concerned': <gensim.models.keyedvectors.Vocab at 0x7f20ed60af98>,\n",
              " 'offers': <gensim.models.keyedvectors.Vocab at 0x7f20ed60e048>,\n",
              " 'fundamentally': <gensim.models.keyedvectors.Vocab at 0x7f20ed60e080>,\n",
              " 'operational': <gensim.models.keyedvectors.Vocab at 0x7f20ed60e0b8>,\n",
              " 'rather': <gensim.models.keyedvectors.Vocab at 0x7f20ed60e128>,\n",
              " 'than': <gensim.models.keyedvectors.Vocab at 0x7f20ed60e198>,\n",
              " 'defining': <gensim.models.keyedvectors.Vocab at 0x7f20ed60e1d0>,\n",
              " 'cognitive': <gensim.models.keyedvectors.Vocab at 0x7f20ed60e208>,\n",
              " 'terms': <gensim.models.keyedvectors.Vocab at 0x7f20ed60e278>,\n",
              " 'follows': <gensim.models.keyedvectors.Vocab at 0x7f20ed60e2e8>,\n",
              " 'alan': <gensim.models.keyedvectors.Vocab at 0x7f20ed60e358>,\n",
              " 'turing': <gensim.models.keyedvectors.Vocab at 0x7f20ed60e3c8>,\n",
              " 's': <gensim.models.keyedvectors.Vocab at 0x7f20ed60e400>,\n",
              " 'proposal': <gensim.models.keyedvectors.Vocab at 0x7f20ed60e438>,\n",
              " 'his': <gensim.models.keyedvectors.Vocab at 0x7f20ed60e4a8>,\n",
              " 'paper': <gensim.models.keyedvectors.Vocab at 0x7f20ed60e518>,\n",
              " 'computing': <gensim.models.keyedvectors.Vocab at 0x7f20ed60e550>,\n",
              " 'machinery': <gensim.models.keyedvectors.Vocab at 0x7f20ed60e588>,\n",
              " 'question': <gensim.models.keyedvectors.Vocab at 0x7f20ed60e5c0>,\n",
              " 'can': <gensim.models.keyedvectors.Vocab at 0x7f20ed60e630>,\n",
              " 'machines': <gensim.models.keyedvectors.Vocab at 0x7f20ed60e668>,\n",
              " 'think': <gensim.models.keyedvectors.Vocab at 0x7f20ed60e6d8>,\n",
              " 'replaced': <gensim.models.keyedvectors.Vocab at 0x7f20ed60e710>,\n",
              " 'do': <gensim.models.keyedvectors.Vocab at 0x7f20ed60e780>,\n",
              " 'what': <gensim.models.keyedvectors.Vocab at 0x7f20ed60e7f0>,\n",
              " 'we': <gensim.models.keyedvectors.Vocab at 0x7f20ed60e860>,\n",
              " 'thinking': <gensim.models.keyedvectors.Vocab at 0x7f20ed60e898>,\n",
              " 'entities': <gensim.models.keyedvectors.Vocab at 0x7f20ed60e8d0>,\n",
              " 'various': <gensim.models.keyedvectors.Vocab at 0x7f20ed60e940>,\n",
              " 'characteristics': <gensim.models.keyedvectors.Vocab at 0x7f20ed60e978>,\n",
              " 'could': <gensim.models.keyedvectors.Vocab at 0x7f20ed60e9e8>,\n",
              " 'be': <gensim.models.keyedvectors.Vocab at 0x7f20ed60ea58>,\n",
              " 'possessed': <gensim.models.keyedvectors.Vocab at 0x7f20ed60ea90>,\n",
              " 'implications': <gensim.models.keyedvectors.Vocab at 0x7f20ed60eac8>,\n",
              " 'constructing': <gensim.models.keyedvectors.Vocab at 0x7f20ed60eb00>,\n",
              " 'one': <gensim.models.keyedvectors.Vocab at 0x7f20ed60eb70>,\n",
              " 'exposed': <gensim.models.keyedvectors.Vocab at 0x7f20ed60ebe0>,\n",
              " 'classified': <gensim.models.keyedvectors.Vocab at 0x7f20ed60ec18>,\n",
              " 'into': <gensim.models.keyedvectors.Vocab at 0x7f20ed60ec88>,\n",
              " 'several': <gensim.models.keyedvectors.Vocab at 0x7f20ed60ecf8>,\n",
              " 'broad': <gensim.models.keyedvectors.Vocab at 0x7f20ed60ed68>,\n",
              " 'categories': <gensim.models.keyedvectors.Vocab at 0x7f20ed60eda0>,\n",
              " 'supervised': <gensim.models.keyedvectors.Vocab at 0x7f20ed60edd8>,\n",
              " 'builds': <gensim.models.keyedvectors.Vocab at 0x7f20ed60ee48>,\n",
              " 'set': <gensim.models.keyedvectors.Vocab at 0x7f20ed60eeb8>,\n",
              " 'contains': <gensim.models.keyedvectors.Vocab at 0x7f20ed60eef0>,\n",
              " 'both': <gensim.models.keyedvectors.Vocab at 0x7f20ed60ef60>,\n",
              " 'inputs': <gensim.models.keyedvectors.Vocab at 0x7f20ed60efd0>,\n",
              " 'desired': <gensim.models.keyedvectors.Vocab at 0x7f20ed614080>,\n",
              " 'outputs': <gensim.models.keyedvectors.Vocab at 0x7f20ed6140f0>,\n",
              " 'example': <gensim.models.keyedvectors.Vocab at 0x7f20ed614160>,\n",
              " 'were': <gensim.models.keyedvectors.Vocab at 0x7f20ed6141d0>,\n",
              " 'determining': <gensim.models.keyedvectors.Vocab at 0x7f20ed614208>,\n",
              " 'whether': <gensim.models.keyedvectors.Vocab at 0x7f20ed614278>,\n",
              " 'image': <gensim.models.keyedvectors.Vocab at 0x7f20ed6142e8>,\n",
              " 'contained': <gensim.models.keyedvectors.Vocab at 0x7f20ed614320>,\n",
              " 'certain': <gensim.models.keyedvectors.Vocab at 0x7f20ed614390>,\n",
              " 'object': <gensim.models.keyedvectors.Vocab at 0x7f20ed614400>,\n",
              " 'would': <gensim.models.keyedvectors.Vocab at 0x7f20ed614470>,\n",
              " 'include': <gensim.models.keyedvectors.Vocab at 0x7f20ed6144e0>,\n",
              " 'images': <gensim.models.keyedvectors.Vocab at 0x7f20ed614550>,\n",
              " 'input': <gensim.models.keyedvectors.Vocab at 0x7f20ed6145c0>,\n",
              " 'each': <gensim.models.keyedvectors.Vocab at 0x7f20ed614630>,\n",
              " 'have': <gensim.models.keyedvectors.Vocab at 0x7f20ed6146a0>,\n",
              " 'label': <gensim.models.keyedvectors.Vocab at 0x7f20ed614710>,\n",
              " 'output': <gensim.models.keyedvectors.Vocab at 0x7f20ed614780>,\n",
              " 'designating': <gensim.models.keyedvectors.Vocab at 0x7f20ed6147b8>,\n",
              " 'special': <gensim.models.keyedvectors.Vocab at 0x7f20ed614828>,\n",
              " 'cases': <gensim.models.keyedvectors.Vocab at 0x7f20ed614898>,\n",
              " 'may': <gensim.models.keyedvectors.Vocab at 0x7f20ed614908>,\n",
              " 'only': <gensim.models.keyedvectors.Vocab at 0x7f20ed614978>,\n",
              " 'partially': <gensim.models.keyedvectors.Vocab at 0x7f20ed6149b0>,\n",
              " 'available': <gensim.models.keyedvectors.Vocab at 0x7f20ed6149e8>,\n",
              " 'restricted': <gensim.models.keyedvectors.Vocab at 0x7f20ed614a20>,\n",
              " 'feedback': <gensim.models.keyedvectors.Vocab at 0x7f20ed614a58>,\n",
              " 'semi': <gensim.models.keyedvectors.Vocab at 0x7f20ed614ac8>,\n",
              " 'incomplete': <gensim.models.keyedvectors.Vocab at 0x7f20ed614b00>,\n",
              " 'portion': <gensim.models.keyedvectors.Vocab at 0x7f20ed614b70>,\n",
              " 'doesn': <gensim.models.keyedvectors.Vocab at 0x7f20ed614be0>,\n",
              " 'labels': <gensim.models.keyedvectors.Vocab at 0x7f20ed614c50>,\n",
              " 'classification': <gensim.models.keyedvectors.Vocab at 0x7f20ed614c88>,\n",
              " 'regression': <gensim.models.keyedvectors.Vocab at 0x7f20ed614cc0>,\n",
              " 'types': <gensim.models.keyedvectors.Vocab at 0x7f20ed614d30>,\n",
              " 'when': <gensim.models.keyedvectors.Vocab at 0x7f20ed614da0>,\n",
              " 'limited': <gensim.models.keyedvectors.Vocab at 0x7f20ed614e10>,\n",
              " 'values': <gensim.models.keyedvectors.Vocab at 0x7f20ed614e80>,\n",
              " 'filters': <gensim.models.keyedvectors.Vocab at 0x7f20ed614ef0>,\n",
              " 'emails': <gensim.models.keyedvectors.Vocab at 0x7f20ed614f60>,\n",
              " 'incoming': <gensim.models.keyedvectors.Vocab at 0x7f20ed614f98>,\n",
              " 'folder': <gensim.models.keyedvectors.Vocab at 0x7f20ed619048>,\n",
              " 'file': <gensim.models.keyedvectors.Vocab at 0x7f20ed6190b8>,\n",
              " 'identifies': <gensim.models.keyedvectors.Vocab at 0x7f20ed6190f0>,\n",
              " 'spam': <gensim.models.keyedvectors.Vocab at 0x7f20ed619160>,\n",
              " 'prediction': <gensim.models.keyedvectors.Vocab at 0x7f20ed619198>,\n",
              " 'either': <gensim.models.keyedvectors.Vocab at 0x7f20ed619208>,\n",
              " 'not': <gensim.models.keyedvectors.Vocab at 0x7f20ed619278>,\n",
              " 'represented': <gensim.models.keyedvectors.Vocab at 0x7f20ed6192b0>,\n",
              " 'boolean': <gensim.models.keyedvectors.Vocab at 0x7f20ed619320>,\n",
              " 'true': <gensim.models.keyedvectors.Vocab at 0x7f20ed619390>,\n",
              " 'false': <gensim.models.keyedvectors.Vocab at 0x7f20ed619400>,\n",
              " 'named': <gensim.models.keyedvectors.Vocab at 0x7f20ed619470>,\n",
              " 'their': <gensim.models.keyedvectors.Vocab at 0x7f20ed6194e0>,\n",
              " 'continuous': <gensim.models.keyedvectors.Vocab at 0x7f20ed619518>,\n",
              " 'meaning': <gensim.models.keyedvectors.Vocab at 0x7f20ed619588>,\n",
              " 'they': <gensim.models.keyedvectors.Vocab at 0x7f20ed6195f8>,\n",
              " 'any': <gensim.models.keyedvectors.Vocab at 0x7f20ed619668>,\n",
              " 'value': <gensim.models.keyedvectors.Vocab at 0x7f20ed6196d8>,\n",
              " 'range': <gensim.models.keyedvectors.Vocab at 0x7f20ed619748>,\n",
              " 'examples': <gensim.models.keyedvectors.Vocab at 0x7f20ed619780>,\n",
              " 'temperature': <gensim.models.keyedvectors.Vocab at 0x7f20ed6197b8>,\n",
              " 'length': <gensim.models.keyedvectors.Vocab at 0x7f20ed619828>,\n",
              " 'price': <gensim.models.keyedvectors.Vocab at 0x7f20ed619898>,\n",
              " 'no': <gensim.models.keyedvectors.Vocab at 0x7f20ed619908>,\n",
              " 'find': <gensim.models.keyedvectors.Vocab at 0x7f20ed619978>,\n",
              " 'structure': <gensim.models.keyedvectors.Vocab at 0x7f20ed6199b0>,\n",
              " 'like': <gensim.models.keyedvectors.Vocab at 0x7f20ed619a20>,\n",
              " 'grouping': <gensim.models.keyedvectors.Vocab at 0x7f20ed619a58>,\n",
              " 'clustering': <gensim.models.keyedvectors.Vocab at 0x7f20ed619a90>,\n",
              " 'points': <gensim.models.keyedvectors.Vocab at 0x7f20ed619b00>,\n",
              " 'discover': <gensim.models.keyedvectors.Vocab at 0x7f20ed619b38>,\n",
              " 'group': <gensim.models.keyedvectors.Vocab at 0x7f20ed619ba8>,\n",
              " 'feature': <gensim.models.keyedvectors.Vocab at 0x7f20ed619c18>,\n",
              " 'dimensionality': <gensim.models.keyedvectors.Vocab at 0x7f20ed619c50>,\n",
              " 'reduction': <gensim.models.keyedvectors.Vocab at 0x7f20ed619c88>,\n",
              " 'process': <gensim.models.keyedvectors.Vocab at 0x7f20ed619cf8>,\n",
              " 'reducing': <gensim.models.keyedvectors.Vocab at 0x7f20ed619d30>,\n",
              " 'number': <gensim.models.keyedvectors.Vocab at 0x7f20ed619da0>,\n",
              " 'features': <gensim.models.keyedvectors.Vocab at 0x7f20ed619dd8>,\n",
              " 'active': <gensim.models.keyedvectors.Vocab at 0x7f20ed619e48>,\n",
              " 'access': <gensim.models.keyedvectors.Vocab at 0x7f20ed619eb8>,\n",
              " 'based': <gensim.models.keyedvectors.Vocab at 0x7f20ed619f28>,\n",
              " 'budget': <gensim.models.keyedvectors.Vocab at 0x7f20ed619f98>,\n",
              " 'optimize': <gensim.models.keyedvectors.Vocab at 0x7f20ed619fd0>,\n",
              " 'choice': <gensim.models.keyedvectors.Vocab at 0x7f20ed61f080>,\n",
              " 'will': <gensim.models.keyedvectors.Vocab at 0x7f20ed61f0f0>,\n",
              " 'acquire': <gensim.models.keyedvectors.Vocab at 0x7f20ed61f160>,\n",
              " 'interactively': <gensim.models.keyedvectors.Vocab at 0x7f20ed61f198>,\n",
              " 'these': <gensim.models.keyedvectors.Vocab at 0x7f20ed61f208>,\n",
              " 'presented': <gensim.models.keyedvectors.Vocab at 0x7f20ed61f240>,\n",
              " 'human': <gensim.models.keyedvectors.Vocab at 0x7f20ed61f2b0>,\n",
              " 'user': <gensim.models.keyedvectors.Vocab at 0x7f20ed61f320>,\n",
              " 'labeling': <gensim.models.keyedvectors.Vocab at 0x7f20ed61f358>,\n",
              " 'reinforcement': <gensim.models.keyedvectors.Vocab at 0x7f20ed61f390>,\n",
              " 'given': <gensim.models.keyedvectors.Vocab at 0x7f20ed61f400>,\n",
              " 'form': <gensim.models.keyedvectors.Vocab at 0x7f20ed61f470>,\n",
              " 'positive': <gensim.models.keyedvectors.Vocab at 0x7f20ed61f4a8>,\n",
              " 'negative': <gensim.models.keyedvectors.Vocab at 0x7f20ed61f4e0>,\n",
              " 'dynamic': <gensim.models.keyedvectors.Vocab at 0x7f20ed61f550>,\n",
              " 'environment': <gensim.models.keyedvectors.Vocab at 0x7f20ed61f588>,\n",
              " 'autonomous': <gensim.models.keyedvectors.Vocab at 0x7f20ed61f5c0>,\n",
              " 'vehicles': <gensim.models.keyedvectors.Vocab at 0x7f20ed61f5f8>,\n",
              " 'play': <gensim.models.keyedvectors.Vocab at 0x7f20ed61f668>,\n",
              " 'game': <gensim.models.keyedvectors.Vocab at 0x7f20ed61f6d8>,\n",
              " 'against': <gensim.models.keyedvectors.Vocab at 0x7f20ed61f748>,\n",
              " 'opponent': <gensim.models.keyedvectors.Vocab at 0x7f20ed61f780>,\n",
              " 'other': <gensim.models.keyedvectors.Vocab at 0x7f20ed61f7f0>,\n",
              " 'specialized': <gensim.models.keyedvectors.Vocab at 0x7f20ed61f828>,\n",
              " 'topic': <gensim.models.keyedvectors.Vocab at 0x7f20ed61f898>,\n",
              " 'modeling': <gensim.models.keyedvectors.Vocab at 0x7f20ed61f8d0>,\n",
              " 'natural': <gensim.models.keyedvectors.Vocab at 0x7f20ed61f940>,\n",
              " 'language': <gensim.models.keyedvectors.Vocab at 0x7f20ed61f978>,\n",
              " 'documents': <gensim.models.keyedvectors.Vocab at 0x7f20ed61f9b0>,\n",
              " 'finds': <gensim.models.keyedvectors.Vocab at 0x7f20ed61fa20>,\n",
              " 'cover': <gensim.models.keyedvectors.Vocab at 0x7f20ed61fa90>,\n",
              " 'similar': <gensim.models.keyedvectors.Vocab at 0x7f20ed61fb00>,\n",
              " 'topics': <gensim.models.keyedvectors.Vocab at 0x7f20ed61fb70>,\n",
              " 'unobservable': <gensim.models.keyedvectors.Vocab at 0x7f20ed61fba8>,\n",
              " 'probability': <gensim.models.keyedvectors.Vocab at 0x7f20ed61fbe0>,\n",
              " 'density': <gensim.models.keyedvectors.Vocab at 0x7f20ed61fc50>,\n",
              " 'function': <gensim.models.keyedvectors.Vocab at 0x7f20ed61fc88>,\n",
              " 'estimation': <gensim.models.keyedvectors.Vocab at 0x7f20ed61fcc0>,\n",
              " 'meta': <gensim.models.keyedvectors.Vocab at 0x7f20ed61fd30>,\n",
              " 'own': <gensim.models.keyedvectors.Vocab at 0x7f20ed61fda0>,\n",
              " 'inductive': <gensim.models.keyedvectors.Vocab at 0x7f20ed61fdd8>,\n",
              " 'bias': <gensim.models.keyedvectors.Vocab at 0x7f20ed61fe48>,\n",
              " 'previous': <gensim.models.keyedvectors.Vocab at 0x7f20ed61fe80>,\n",
              " 'developmental': <gensim.models.keyedvectors.Vocab at 0x7f20ed61feb8>,\n",
              " 'robotics': <gensim.models.keyedvectors.Vocab at 0x7f20ed61fef0>,\n",
              " 'robot': <gensim.models.keyedvectors.Vocab at 0x7f20ed61ff60>,\n",
              " 'generate': <gensim.models.keyedvectors.Vocab at 0x7f20ed61ff98>,\n",
              " 'sequences': <gensim.models.keyedvectors.Vocab at 0x7f20ed61ffd0>,\n",
              " 'experiences': <gensim.models.keyedvectors.Vocab at 0x7f20eb5a6048>,\n",
              " 'curriculum': <gensim.models.keyedvectors.Vocab at 0x7f20eb5a6080>,\n",
              " 'cumulatively': <gensim.models.keyedvectors.Vocab at 0x7f20eb5a60b8>,\n",
              " 'new': <gensim.models.keyedvectors.Vocab at 0x7f20eb5a6128>,\n",
              " 'skills': <gensim.models.keyedvectors.Vocab at 0x7f20eb5a6198>,\n",
              " 'self': <gensim.models.keyedvectors.Vocab at 0x7f20eb5a6208>,\n",
              " 'guided': <gensim.models.keyedvectors.Vocab at 0x7f20eb5a6278>,\n",
              " 'exploration': <gensim.models.keyedvectors.Vocab at 0x7f20eb5a62b0>,\n",
              " 'social': <gensim.models.keyedvectors.Vocab at 0x7f20eb5a6320>,\n",
              " 'interaction': <gensim.models.keyedvectors.Vocab at 0x7f20eb5a6358>,\n",
              " 'humans': <gensim.models.keyedvectors.Vocab at 0x7f20eb5a63c8>,\n",
              " 'robots': <gensim.models.keyedvectors.Vocab at 0x7f20eb5a6438>,\n",
              " 'guidance': <gensim.models.keyedvectors.Vocab at 0x7f20eb5a6470>,\n",
              " 'mechanisms': <gensim.models.keyedvectors.Vocab at 0x7f20eb5a64a8>,\n",
              " 'such': <gensim.models.keyedvectors.Vocab at 0x7f20eb5a6518>,\n",
              " 'maturation': <gensim.models.keyedvectors.Vocab at 0x7f20eb5a6550>,\n",
              " 'motor': <gensim.models.keyedvectors.Vocab at 0x7f20eb5a65c0>,\n",
              " 'synergies': <gensim.models.keyedvectors.Vocab at 0x7f20eb5a65f8>,\n",
              " 'imitation': <gensim.models.keyedvectors.Vocab at 0x7f20eb5a6630>,\n",
              " 'history': <gensim.models.keyedvectors.Vocab at 0x7f20eb5a66a0>,\n",
              " 'relationships': <gensim.models.keyedvectors.Vocab at 0x7f20eb5a66d8>,\n",
              " 'fields': <gensim.models.keyedvectors.Vocab at 0x7f20eb5a6748>,\n",
              " 'american': <gensim.models.keyedvectors.Vocab at 0x7f20eb5a6780>,\n",
              " 'pioneer': <gensim.models.keyedvectors.Vocab at 0x7f20eb5a67f0>,\n",
              " 'gaming': <gensim.models.keyedvectors.Vocab at 0x7f20eb5a6860>,\n",
              " 'term': <gensim.models.keyedvectors.Vocab at 0x7f20eb5a68d0>,\n",
              " 'while': <gensim.models.keyedvectors.Vocab at 0x7f20eb5a6940>,\n",
              " 'ibm': <gensim.models.keyedvectors.Vocab at 0x7f20eb5a69b0>,\n",
              " 'endeavour': <gensim.models.keyedvectors.Vocab at 0x7f20eb5a69e8>,\n",
              " 'grew': <gensim.models.keyedvectors.Vocab at 0x7f20eb5a6a58>,\n",
              " 'out': <gensim.models.keyedvectors.Vocab at 0x7f20eb5a6ac8>,\n",
              " 'quest': <gensim.models.keyedvectors.Vocab at 0x7f20eb5a6b38>,\n",
              " 'already': <gensim.models.keyedvectors.Vocab at 0x7f20eb5a6ba8>,\n",
              " 'early': <gensim.models.keyedvectors.Vocab at 0x7f20eb5a6c18>,\n",
              " 'days': <gensim.models.keyedvectors.Vocab at 0x7f20eb5a6c88>,\n",
              " 'ai': <gensim.models.keyedvectors.Vocab at 0x7f20eb5a6cf8>,\n",
              " 'academic': <gensim.models.keyedvectors.Vocab at 0x7f20eb5a6d30>,\n",
              " 'discipline': <gensim.models.keyedvectors.Vocab at 0x7f20eb5a6d68>,\n",
              " 'researchers': <gensim.models.keyedvectors.Vocab at 0x7f20eb5a6da0>,\n",
              " 'interested': <gensim.models.keyedvectors.Vocab at 0x7f20eb5a6dd8>,\n",
              " 'having': <gensim.models.keyedvectors.Vocab at 0x7f20eb5a6e48>,\n",
              " 'attempted': <gensim.models.keyedvectors.Vocab at 0x7f20eb5a6e80>,\n",
              " 'approach': <gensim.models.keyedvectors.Vocab at 0x7f20eb5a6eb8>,\n",
              " 'problem': <gensim.models.keyedvectors.Vocab at 0x7f20eb5a6f28>,\n",
              " 'symbolic': <gensim.models.keyedvectors.Vocab at 0x7f20eb5a6f60>,\n",
              " 'well': <gensim.models.keyedvectors.Vocab at 0x7f20eb5a6fd0>,\n",
              " 'then': <gensim.models.keyedvectors.Vocab at 0x7f20eb5aa080>,\n",
              " 'termed': <gensim.models.keyedvectors.Vocab at 0x7f20eb5aa0f0>,\n",
              " 'neural': <gensim.models.keyedvectors.Vocab at 0x7f20eb5aa160>,\n",
              " 'networks': <gensim.models.keyedvectors.Vocab at 0x7f20eb5aa198>,\n",
              " 'mostly': <gensim.models.keyedvectors.Vocab at 0x7f20eb5aa208>,\n",
              " 'perceptrons': <gensim.models.keyedvectors.Vocab at 0x7f20eb5aa240>,\n",
              " 'later': <gensim.models.keyedvectors.Vocab at 0x7f20eb5aa2b0>,\n",
              " 'found': <gensim.models.keyedvectors.Vocab at 0x7f20eb5aa320>,\n",
              " 'reinventions': <gensim.models.keyedvectors.Vocab at 0x7f20eb5aa358>,\n",
              " 'generalized': <gensim.models.keyedvectors.Vocab at 0x7f20eb5aa390>,\n",
              " 'linear': <gensim.models.keyedvectors.Vocab at 0x7f20eb5aa400>,\n",
              " 'probabilistic': <gensim.models.keyedvectors.Vocab at 0x7f20eb5aa438>,\n",
              " 'reasoning': <gensim.models.keyedvectors.Vocab at 0x7f20eb5aa470>,\n",
              " 'employed': <gensim.models.keyedvectors.Vocab at 0x7f20eb5aa4a8>,\n",
              " 'especially': <gensim.models.keyedvectors.Vocab at 0x7f20eb5aa4e0>,\n",
              " 'automated': <gensim.models.keyedvectors.Vocab at 0x7f20eb5aa518>,\n",
              " 'medical': <gensim.models.keyedvectors.Vocab at 0x7f20eb5aa588>,\n",
              " 'diagnosis': <gensim.models.keyedvectors.Vocab at 0x7f20eb5aa5c0>,\n",
              " 'however': <gensim.models.keyedvectors.Vocab at 0x7f20eb5aa630>,\n",
              " 'increasing': <gensim.models.keyedvectors.Vocab at 0x7f20eb5aa668>,\n",
              " 'emphasis': <gensim.models.keyedvectors.Vocab at 0x7f20eb5aa6a0>,\n",
              " 'logical': <gensim.models.keyedvectors.Vocab at 0x7f20eb5aa710>,\n",
              " 'knowledge': <gensim.models.keyedvectors.Vocab at 0x7f20eb5aa748>,\n",
              " 'caused': <gensim.models.keyedvectors.Vocab at 0x7f20eb5aa7b8>,\n",
              " 'rift': <gensim.models.keyedvectors.Vocab at 0x7f20eb5aa828>,\n",
              " 'between': <gensim.models.keyedvectors.Vocab at 0x7f20eb5aa898>,\n",
              " 'plagued': <gensim.models.keyedvectors.Vocab at 0x7f20eb5aa908>,\n",
              " 'theoretical': <gensim.models.keyedvectors.Vocab at 0x7f20eb5aa940>,\n",
              " 'practical': <gensim.models.keyedvectors.Vocab at 0x7f20eb5aa978>,\n",
              " 'acquisition': <gensim.models.keyedvectors.Vocab at 0x7f20eb5aa9b0>,\n",
              " 'representation': <gensim.models.keyedvectors.Vocab at 0x7f20eb5aa9e8>,\n",
              " 'expert': <gensim.models.keyedvectors.Vocab at 0x7f20eb5aaa58>,\n",
              " 'had': <gensim.models.keyedvectors.Vocab at 0x7f20eb5aaac8>,\n",
              " 'come': <gensim.models.keyedvectors.Vocab at 0x7f20eb5aab38>,\n",
              " 'dominate': <gensim.models.keyedvectors.Vocab at 0x7f20eb5aab70>,\n",
              " 'favor': <gensim.models.keyedvectors.Vocab at 0x7f20eb5aabe0>,\n",
              " 'work': <gensim.models.keyedvectors.Vocab at 0x7f20eb5aac50>,\n",
              " 'did': <gensim.models.keyedvectors.Vocab at 0x7f20eb5aacc0>,\n",
              " 'continue': <gensim.models.keyedvectors.Vocab at 0x7f20eb5aacf8>,\n",
              " 'leading': <gensim.models.keyedvectors.Vocab at 0x7f20eb5aad68>,\n",
              " 'logic': <gensim.models.keyedvectors.Vocab at 0x7f20eb5aadd8>,\n",
              " 'programming': <gensim.models.keyedvectors.Vocab at 0x7f20eb5aae10>,\n",
              " 'but': <gensim.models.keyedvectors.Vocab at 0x7f20eb5aae80>,\n",
              " 'line': <gensim.models.keyedvectors.Vocab at 0x7f20eb5aaef0>,\n",
              " 'research': <gensim.models.keyedvectors.Vocab at 0x7f20eb5aaf28>,\n",
              " 'now': <gensim.models.keyedvectors.Vocab at 0x7f20eb5aaf98>,\n",
              " 'outside': <gensim.models.keyedvectors.Vocab at 0x7f20eb5b0048>,\n",
              " 'proper': <gensim.models.keyedvectors.Vocab at 0x7f20eb5b00b8>,\n",
              " 'pattern': <gensim.models.keyedvectors.Vocab at 0x7f20eb5b0128>,\n",
              " 'recognition': <gensim.models.keyedvectors.Vocab at 0x7f20eb5b0160>,\n",
              " 'information': <gensim.models.keyedvectors.Vocab at 0x7f20eb5b0198>,\n",
              " 'retrieval': <gensim.models.keyedvectors.Vocab at 0x7f20eb5b01d0>,\n",
              " 'been': <gensim.models.keyedvectors.Vocab at 0x7f20eb5b0240>,\n",
              " 'abandoned': <gensim.models.keyedvectors.Vocab at 0x7f20eb5b0278>,\n",
              " 'science': <gensim.models.keyedvectors.Vocab at 0x7f20eb5b02e8>,\n",
              " 'around': <gensim.models.keyedvectors.Vocab at 0x7f20eb5b0358>,\n",
              " 'same': <gensim.models.keyedvectors.Vocab at 0x7f20eb5b03c8>,\n",
              " 'time': <gensim.models.keyedvectors.Vocab at 0x7f20eb5b0438>,\n",
              " 'too': <gensim.models.keyedvectors.Vocab at 0x7f20eb5b04a8>,\n",
              " 'continued': <gensim.models.keyedvectors.Vocab at 0x7f20eb5b04e0>,\n",
              " 'cs': <gensim.models.keyedvectors.Vocab at 0x7f20eb5b0550>,\n",
              " 'connectionism': <gensim.models.keyedvectors.Vocab at 0x7f20eb5b0588>,\n",
              " 'disciplines': <gensim.models.keyedvectors.Vocab at 0x7f20eb5b05c0>,\n",
              " 'including': <gensim.models.keyedvectors.Vocab at 0x7f20eb5b05f8>,\n",
              " 'hopfield': <gensim.models.keyedvectors.Vocab at 0x7f20eb5b0630>,\n",
              " 'rumelhart': <gensim.models.keyedvectors.Vocab at 0x7f20eb5b0668>,\n",
              " 'hinton': <gensim.models.keyedvectors.Vocab at 0x7f20eb5b06d8>,\n",
              " 'main': <gensim.models.keyedvectors.Vocab at 0x7f20eb5b0748>,\n",
              " 'success': <gensim.models.keyedvectors.Vocab at 0x7f20eb5b07b8>,\n",
              " 'came': <gensim.models.keyedvectors.Vocab at 0x7f20eb5b0828>,\n",
              " 'mid': <gensim.models.keyedvectors.Vocab at 0x7f20eb5b0898>,\n",
              " 'reinvention': <gensim.models.keyedvectors.Vocab at 0x7f20eb5b08d0>,\n",
              " 'backpropagation': <gensim.models.keyedvectors.Vocab at 0x7f20eb5b0908>,\n",
              " 'reorganized': <gensim.models.keyedvectors.Vocab at 0x7f20eb5b0940>,\n",
              " 'separate': <gensim.models.keyedvectors.Vocab at 0x7f20eb5b0978>,\n",
              " 'started': <gensim.models.keyedvectors.Vocab at 0x7f20eb5b09e8>,\n",
              " 'flourish': <gensim.models.keyedvectors.Vocab at 0x7f20eb5b0a20>,\n",
              " 'changed': <gensim.models.keyedvectors.Vocab at 0x7f20eb5b0a90>,\n",
              " 'goal': <gensim.models.keyedvectors.Vocab at 0x7f20eb5b0b00>,\n",
              " 'achieving': <gensim.models.keyedvectors.Vocab at 0x7f20eb5b0b38>,\n",
              " 'tackling': <gensim.models.keyedvectors.Vocab at 0x7f20eb5b0b70>,\n",
              " 'solvable': <gensim.models.keyedvectors.Vocab at 0x7f20eb5b0ba8>,\n",
              " 'nature': <gensim.models.keyedvectors.Vocab at 0x7f20eb5b0c18>,\n",
              " 'shifted': <gensim.models.keyedvectors.Vocab at 0x7f20eb5b0c88>,\n",
              " 'focus': <gensim.models.keyedvectors.Vocab at 0x7f20eb5b0cf8>,\n",
              " 'away': <gensim.models.keyedvectors.Vocab at 0x7f20eb5b0d68>,\n",
              " 'approaches': <gensim.models.keyedvectors.Vocab at 0x7f20eb5b0da0>,\n",
              " 'inherited': <gensim.models.keyedvectors.Vocab at 0x7f20eb5b0dd8>,\n",
              " 'toward': <gensim.models.keyedvectors.Vocab at 0x7f20eb5b0e48>,\n",
              " 'borrowed': <gensim.models.keyedvectors.Vocab at 0x7f20eb5b0e80>,\n",
              " 'benefited': <gensim.models.keyedvectors.Vocab at 0x7f20eb5b0eb8>,\n",
              " 'availability': <gensim.models.keyedvectors.Vocab at 0x7f20eb5b0ef0>,\n",
              " 'digitized': <gensim.models.keyedvectors.Vocab at 0x7f20eb5b0f28>,\n",
              " 'ability': <gensim.models.keyedvectors.Vocab at 0x7f20eb5b0f98>,\n",
              " 'distribute': <gensim.models.keyedvectors.Vocab at 0x7f20eb5b0fd0>,\n",
              " 'via': <gensim.models.keyedvectors.Vocab at 0x7f20eb5b7080>,\n",
              " 'internet': <gensim.models.keyedvectors.Vocab at 0x7f20eb5b70b8>,\n",
              " 'relation': <gensim.models.keyedvectors.Vocab at 0x7f20eb5b70f0>,\n",
              " 'often': <gensim.models.keyedvectors.Vocab at 0x7f20eb5b7160>,\n",
              " 'employ': <gensim.models.keyedvectors.Vocab at 0x7f20eb5b71d0>,\n",
              " 'overlap': <gensim.models.keyedvectors.Vocab at 0x7f20eb5b7240>,\n",
              " 'significantly': <gensim.models.keyedvectors.Vocab at 0x7f20eb5b7278>,\n",
              " 'properties': <gensim.models.keyedvectors.Vocab at 0x7f20eb5b72b0>,\n",
              " 'learned': <gensim.models.keyedvectors.Vocab at 0x7f20eb5b7320>,\n",
              " 'discovery': <gensim.models.keyedvectors.Vocab at 0x7f20eb5b7358>,\n",
              " 'previously': <gensim.models.keyedvectors.Vocab at 0x7f20eb5b7390>,\n",
              " 'unknown': <gensim.models.keyedvectors.Vocab at 0x7f20eb5b7400>,\n",
              " 'step': <gensim.models.keyedvectors.Vocab at 0x7f20eb5b7470>,\n",
              " 'databases': <gensim.models.keyedvectors.Vocab at 0x7f20eb5b74a8>,\n",
              " 'uses': <gensim.models.keyedvectors.Vocab at 0x7f20eb5b7518>,\n",
              " 'many': <gensim.models.keyedvectors.Vocab at 0x7f20eb5b7588>,\n",
              " 'different': <gensim.models.keyedvectors.Vocab at 0x7f20eb5b75c0>,\n",
              " 'goals': <gensim.models.keyedvectors.Vocab at 0x7f20eb5b7630>,\n",
              " 'hand': <gensim.models.keyedvectors.Vocab at 0x7f20eb5b76a0>,\n",
              " 'employs': <gensim.models.keyedvectors.Vocab at 0x7f20eb5b7710>,\n",
              " 'preprocessing': <gensim.models.keyedvectors.Vocab at 0x7f20eb5b7748>,\n",
              " 'improve': <gensim.models.keyedvectors.Vocab at 0x7f20eb5b77b8>,\n",
              " 'learner': <gensim.models.keyedvectors.Vocab at 0x7f20eb5b7828>,\n",
              " 'accuracy': <gensim.models.keyedvectors.Vocab at 0x7f20eb5b7860>,\n",
              " 'much': <gensim.models.keyedvectors.Vocab at 0x7f20eb5b78d0>,\n",
              " 'confusion': <gensim.models.keyedvectors.Vocab at 0x7f20eb5b7908>,\n",
              " 'two': <gensim.models.keyedvectors.Vocab at 0x7f20eb5b7978>,\n",
              " 'communities': <gensim.models.keyedvectors.Vocab at 0x7f20eb5b79b0>,\n",
              " 'conferences': <gensim.models.keyedvectors.Vocab at 0x7f20eb5b79e8>,\n",
              " 'journals': <gensim.models.keyedvectors.Vocab at 0x7f20eb5b7a20>,\n",
              " 'ecml': <gensim.models.keyedvectors.Vocab at 0x7f20eb5b7a90>,\n",
              " 'pkdd': <gensim.models.keyedvectors.Vocab at 0x7f20eb5b7b00>,\n",
              " 'major': <gensim.models.keyedvectors.Vocab at 0x7f20eb5b7b70>,\n",
              " 'exception': <gensim.models.keyedvectors.Vocab at 0x7f20eb5b7ba8>,\n",
              " 'comes': <gensim.models.keyedvectors.Vocab at 0x7f20eb5b7c18>,\n",
              " 'basic': <gensim.models.keyedvectors.Vocab at 0x7f20eb5b7c88>,\n",
              " 'assumptions': <gensim.models.keyedvectors.Vocab at 0x7f20eb5b7cc0>,\n",
              " 'usually': <gensim.models.keyedvectors.Vocab at 0x7f20eb5b7d30>,\n",
              " 'evaluated': <gensim.models.keyedvectors.Vocab at 0x7f20eb5b7d68>,\n",
              " 'reproduce': <gensim.models.keyedvectors.Vocab at 0x7f20eb5b7da0>,\n",
              " 'kdd': <gensim.models.keyedvectors.Vocab at 0x7f20eb5b7e10>,\n",
              " 'key': <gensim.models.keyedvectors.Vocab at 0x7f20eb5b7e80>,\n",
              " 'uninformed': <gensim.models.keyedvectors.Vocab at 0x7f20eb5b7eb8>,\n",
              " 'method': <gensim.models.keyedvectors.Vocab at 0x7f20eb5b7f28>,\n",
              " 'easily': <gensim.models.keyedvectors.Vocab at 0x7f20eb5b7f98>,\n",
              " 'outperformed': <gensim.models.keyedvectors.Vocab at 0x7f20eb5b7fd0>,\n",
              " 'typical': <gensim.models.keyedvectors.Vocab at 0x7f20eb5bc080>,\n",
              " 'cannot': <gensim.models.keyedvectors.Vocab at 0x7f20eb5bc0f0>,\n",
              " 'due': <gensim.models.keyedvectors.Vocab at 0x7f20eb5bc160>,\n",
              " 'unavailability': <gensim.models.keyedvectors.Vocab at 0x7f20eb5bc198>,\n",
              " 'has': <gensim.models.keyedvectors.Vocab at 0x7f20eb5bc208>,\n",
              " 'intimate': <gensim.models.keyedvectors.Vocab at 0x7f20eb5bc240>,\n",
              " 'ties': <gensim.models.keyedvectors.Vocab at 0x7f20eb5bc2b0>,\n",
              " 'formulated': <gensim.models.keyedvectors.Vocab at 0x7f20eb5bc2e8>,\n",
              " 'minimization': <gensim.models.keyedvectors.Vocab at 0x7f20eb5bc320>,\n",
              " 'loss': <gensim.models.keyedvectors.Vocab at 0x7f20eb5bc390>,\n",
              " 'functions': <gensim.models.keyedvectors.Vocab at 0x7f20eb5bc3c8>,\n",
              " 'express': <gensim.models.keyedvectors.Vocab at 0x7f20eb5bc438>,\n",
              " 'discrepancy': <gensim.models.keyedvectors.Vocab at 0x7f20eb5bc470>,\n",
              " 'trained': <gensim.models.keyedvectors.Vocab at 0x7f20eb5bc4e0>,\n",
              " 'actual': <gensim.models.keyedvectors.Vocab at 0x7f20eb5bc550>,\n",
              " 'instances': <gensim.models.keyedvectors.Vocab at 0x7f20eb5bc588>,\n",
              " 'wants': <gensim.models.keyedvectors.Vocab at 0x7f20eb5bc5f8>,\n",
              " 'assign': <gensim.models.keyedvectors.Vocab at 0x7f20eb5bc668>,\n",
              " 'correctly': <gensim.models.keyedvectors.Vocab at 0x7f20eb5bc6a0>,\n",
              " 'predict': <gensim.models.keyedvectors.Vocab at 0x7f20eb5bc710>,\n",
              " 'pre': <gensim.models.keyedvectors.Vocab at 0x7f20eb5bc780>,\n",
              " 'assigned': <gensim.models.keyedvectors.Vocab at 0x7f20eb5bc7b8>,\n",
              " 'difference': <gensim.models.keyedvectors.Vocab at 0x7f20eb5bc7f0>,\n",
              " 'arises': <gensim.models.keyedvectors.Vocab at 0x7f20eb5bc860>,\n",
              " 'generalization': <gensim.models.keyedvectors.Vocab at 0x7f20eb5bc898>,\n",
              " 'minimize': <gensim.models.keyedvectors.Vocab at 0x7f20eb5bc8d0>,\n",
              " 'minimizing': <gensim.models.keyedvectors.Vocab at 0x7f20eb5bc908>,\n",
              " 'unseen': <gensim.models.keyedvectors.Vocab at 0x7f20eb5bc978>,\n",
              " 'samples': <gensim.models.keyedvectors.Vocab at 0x7f20eb5bc9e8>,\n",
              " 'according': <gensim.models.keyedvectors.Vocab at 0x7f20eb5bca20>,\n",
              " 'michael': <gensim.models.keyedvectors.Vocab at 0x7f20eb5bca90>,\n",
              " 'i': <gensim.models.keyedvectors.Vocab at 0x7f20eb5bcac8>,\n",
              " 'jordan': <gensim.models.keyedvectors.Vocab at 0x7f20eb5bcb38>,\n",
              " 'ideas': <gensim.models.keyedvectors.Vocab at 0x7f20eb5bcba8>,\n",
              " 'methodological': <gensim.models.keyedvectors.Vocab at 0x7f20eb5bcbe0>,\n",
              " 'principles': <gensim.models.keyedvectors.Vocab at 0x7f20eb5bcc18>,\n",
              " 'tools': <gensim.models.keyedvectors.Vocab at 0x7f20eb5bcc88>,\n",
              " 'long': <gensim.models.keyedvectors.Vocab at 0x7f20eb5bccf8>,\n",
              " 'he': <gensim.models.keyedvectors.Vocab at 0x7f20eb5bcd68>,\n",
              " 'suggested': <gensim.models.keyedvectors.Vocab at 0x7f20eb5bcda0>,\n",
              " 'placeholder': <gensim.models.keyedvectors.Vocab at 0x7f20eb5bcdd8>,\n",
              " 'call': <gensim.models.keyedvectors.Vocab at 0x7f20eb5bce48>,\n",
              " 'overall': <gensim.models.keyedvectors.Vocab at 0x7f20eb5bceb8>,\n",
              " 'leo': <gensim.models.keyedvectors.Vocab at 0x7f20eb5bcf28>,\n",
              " 'breiman': <gensim.models.keyedvectors.Vocab at 0x7f20eb5bcf98>,\n",
              " 'distinguished': <gensim.models.keyedvectors.Vocab at 0x7f20eb5bcfd0>,\n",
              " 'modelling': <gensim.models.keyedvectors.Vocab at 0x7f20eb5c3048>,\n",
              " 'paradigms': <gensim.models.keyedvectors.Vocab at 0x7f20eb5c3080>,\n",
              " 'algorithmic': <gensim.models.keyedvectors.Vocab at 0x7f20eb5c30b8>,\n",
              " 'wherein': <gensim.models.keyedvectors.Vocab at 0x7f20eb5c3128>,\n",
              " 'means': <gensim.models.keyedvectors.Vocab at 0x7f20eb5c3198>,\n",
              " 'less': <gensim.models.keyedvectors.Vocab at 0x7f20eb5c3208>,\n",
              " 'random': <gensim.models.keyedvectors.Vocab at 0x7f20eb5c3278>,\n",
              " 'forest': <gensim.models.keyedvectors.Vocab at 0x7f20eb5c32e8>,\n",
              " 'statisticians': <gensim.models.keyedvectors.Vocab at 0x7f20eb5c3320>,\n",
              " 'adopted': <gensim.models.keyedvectors.Vocab at 0x7f20eb5c3390>,\n",
              " 'combined': <gensim.models.keyedvectors.Vocab at 0x7f20eb5c33c8>,\n",
              " 'core': <gensim.models.keyedvectors.Vocab at 0x7f20eb5c3438>,\n",
              " 'objective': <gensim.models.keyedvectors.Vocab at 0x7f20eb5c3470>,\n",
              " 'generalize': <gensim.models.keyedvectors.Vocab at 0x7f20eb5c34a8>,\n",
              " 'context': <gensim.models.keyedvectors.Vocab at 0x7f20eb5c3518>,\n",
              " 'accurately': <gensim.models.keyedvectors.Vocab at 0x7f20eb5c3550>,\n",
              " 'after': <gensim.models.keyedvectors.Vocab at 0x7f20eb5c35c0>,\n",
              " 'experienced': <gensim.models.keyedvectors.Vocab at 0x7f20eb5c35f8>,\n",
              " 'generally': <gensim.models.keyedvectors.Vocab at 0x7f20eb5c3630>,\n",
              " 'distribution': <gensim.models.keyedvectors.Vocab at 0x7f20eb5c3668>,\n",
              " 'considered': <gensim.models.keyedvectors.Vocab at 0x7f20eb5c36a0>,\n",
              " 'representative': <gensim.models.keyedvectors.Vocab at 0x7f20eb5c36d8>,\n",
              " 'space': <gensim.models.keyedvectors.Vocab at 0x7f20eb5c3748>,\n",
              " 'occurrences': <gensim.models.keyedvectors.Vocab at 0x7f20eb5c3780>,\n",
              " 'general': <gensim.models.keyedvectors.Vocab at 0x7f20eb5c37f0>,\n",
              " 'about': <gensim.models.keyedvectors.Vocab at 0x7f20eb5c3860>,\n",
              " 'enables': <gensim.models.keyedvectors.Vocab at 0x7f20eb5c38d0>,\n",
              " 'produce': <gensim.models.keyedvectors.Vocab at 0x7f20eb5c3940>,\n",
              " 'sufficiently': <gensim.models.keyedvectors.Vocab at 0x7f20eb5c3978>,\n",
              " 'accurate': <gensim.models.keyedvectors.Vocab at 0x7f20eb5c39b0>,\n",
              " 'branch': <gensim.models.keyedvectors.Vocab at 0x7f20eb5c3a20>,\n",
              " 'because': <gensim.models.keyedvectors.Vocab at 0x7f20eb5c3a90>,\n",
              " 'sets': <gensim.models.keyedvectors.Vocab at 0x7f20eb5c3b00>,\n",
              " 'finite': <gensim.models.keyedvectors.Vocab at 0x7f20eb5c3b70>,\n",
              " 'future': <gensim.models.keyedvectors.Vocab at 0x7f20eb5c3be0>,\n",
              " 'uncertain': <gensim.models.keyedvectors.Vocab at 0x7f20eb5c3c18>,\n",
              " 'does': <gensim.models.keyedvectors.Vocab at 0x7f20eb5c3c88>,\n",
              " 'yield': <gensim.models.keyedvectors.Vocab at 0x7f20eb5c3cf8>,\n",
              " 'guarantees': <gensim.models.keyedvectors.Vocab at 0x7f20eb5c3d30>,\n",
              " 'bounds': <gensim.models.keyedvectors.Vocab at 0x7f20eb5c3da0>,\n",
              " 'quite': <gensim.models.keyedvectors.Vocab at 0x7f20eb5c3e10>,\n",
              " 'common': <gensim.models.keyedvectors.Vocab at 0x7f20eb5c3e80>,\n",
              " 'variance': <gensim.models.keyedvectors.Vocab at 0x7f20eb5c3eb8>,\n",
              " 'decomposition': <gensim.models.keyedvectors.Vocab at 0x7f20eb5c3ef0>,\n",
              " 'way': <gensim.models.keyedvectors.Vocab at 0x7f20eb5c3f60>,\n",
              " 'quantify': <gensim.models.keyedvectors.Vocab at 0x7f20eb5c3f98>,\n",
              " 'error': <gensim.models.keyedvectors.Vocab at 0x7f20eb5c9048>,\n",
              " 'best': <gensim.models.keyedvectors.Vocab at 0x7f20eb5c90b8>,\n",
              " 'complexity': <gensim.models.keyedvectors.Vocab at 0x7f20eb5c90f0>,\n",
              " 'hypothesis': <gensim.models.keyedvectors.Vocab at 0x7f20eb5c9128>,\n",
              " 'should': <gensim.models.keyedvectors.Vocab at 0x7f20eb5c9198>,\n",
              " 'match': <gensim.models.keyedvectors.Vocab at 0x7f20eb5c9208>,\n",
              " 'underlying': <gensim.models.keyedvectors.Vocab at 0x7f20eb5c9240>,\n",
              " 'complex': <gensim.models.keyedvectors.Vocab at 0x7f20eb5c92b0>,\n",
              " 'underfit': <gensim.models.keyedvectors.Vocab at 0x7f20eb5c92e8>,\n",
              " 'increased': <gensim.models.keyedvectors.Vocab at 0x7f20eb5c9320>,\n",
              " 'response': <gensim.models.keyedvectors.Vocab at 0x7f20eb5c9358>,\n",
              " 'decreases': <gensim.models.keyedvectors.Vocab at 0x7f20eb5c9390>,\n",
              " 'subject': <gensim.models.keyedvectors.Vocab at 0x7f20eb5c9400>,\n",
              " 'overfitting': <gensim.models.keyedvectors.Vocab at 0x7f20eb5c9438>,\n",
              " 'poorer': <gensim.models.keyedvectors.Vocab at 0x7f20eb5c94a8>,\n",
              " 'addition': <gensim.models.keyedvectors.Vocab at 0x7f20eb5c94e0>,\n",
              " 'theorists': <gensim.models.keyedvectors.Vocab at 0x7f20eb5c9518>,\n",
              " 'feasibility': <gensim.models.keyedvectors.Vocab at 0x7f20eb5c9550>,\n",
              " 'computation': <gensim.models.keyedvectors.Vocab at 0x7f20eb5c9588>,\n",
              " 'feasible': <gensim.models.keyedvectors.Vocab at 0x7f20eb5c95c0>,\n",
              " 'done': <gensim.models.keyedvectors.Vocab at 0x7f20eb5c9630>,\n",
              " 'polynomial': <gensim.models.keyedvectors.Vocab at 0x7f20eb5c9668>,\n",
              " 'there': <gensim.models.keyedvectors.Vocab at 0x7f20eb5c96d8>,\n",
              " 'kinds': <gensim.models.keyedvectors.Vocab at 0x7f20eb5c9748>,\n",
              " 'results': <gensim.models.keyedvectors.Vocab at 0x7f20eb5c97b8>,\n",
              " 'show': <gensim.models.keyedvectors.Vocab at 0x7f20eb5c9828>,\n",
              " 'classes': <gensim.models.keyedvectors.Vocab at 0x7f20eb5c9898>,\n",
              " 'differ': <gensim.models.keyedvectors.Vocab at 0x7f20eb5c9908>,\n",
              " 'type': <gensim.models.keyedvectors.Vocab at 0x7f20eb5c9978>,\n",
              " 'intended': <gensim.models.keyedvectors.Vocab at 0x7f20eb5c99b0>,\n",
              " 'solve': <gensim.models.keyedvectors.Vocab at 0x7f20eb5c9a20>,\n",
              " 'consists': <gensim.models.keyedvectors.Vocab at 0x7f20eb5c9a58>,\n",
              " 'supervisory': <gensim.models.keyedvectors.Vocab at 0x7f20eb5c9a90>,\n",
              " 'signal': <gensim.models.keyedvectors.Vocab at 0x7f20eb5c9b00>,\n",
              " 'case': <gensim.models.keyedvectors.Vocab at 0x7f20eb5c9b70>,\n",
              " 'missing': <gensim.models.keyedvectors.Vocab at 0x7f20eb5c9be0>,\n",
              " 'array': <gensim.models.keyedvectors.Vocab at 0x7f20eb5c9c50>,\n",
              " 'vector': <gensim.models.keyedvectors.Vocab at 0x7f20eb5c9cc0>,\n",
              " 'matrix': <gensim.models.keyedvectors.Vocab at 0x7f20eb5c9d30>,\n",
              " 'iterative': <gensim.models.keyedvectors.Vocab at 0x7f20eb5c9d68>,\n",
              " 'associated': <gensim.models.keyedvectors.Vocab at 0x7f20eb5c9da0>,\n",
              " 'optimal': <gensim.models.keyedvectors.Vocab at 0x7f20eb5c9e10>,\n",
              " 'allow': <gensim.models.keyedvectors.Vocab at 0x7f20eb5c9e80>,\n",
              " 'determine': <gensim.models.keyedvectors.Vocab at 0x7f20eb5c9eb8>,\n",
              " 'part': <gensim.models.keyedvectors.Vocab at 0x7f20eb5c9f28>,\n",
              " 'over': <gensim.models.keyedvectors.Vocab at 0x7f20eb5c9f98>,\n",
              " 'numerical': <gensim.models.keyedvectors.Vocab at 0x7f20eb5c9fd0>,\n",
              " 'similarity': <gensim.models.keyedvectors.Vocab at 0x7f20eb5cf048>,\n",
              " 'area': <gensim.models.keyedvectors.Vocab at 0x7f20eb5cf0b8>,\n",
              " 'measures': <gensim.models.keyedvectors.Vocab at 0x7f20eb5cf0f0>,\n",
              " 'how': <gensim.models.keyedvectors.Vocab at 0x7f20eb5cf160>,\n",
              " 'objects': <gensim.models.keyedvectors.Vocab at 0x7f20eb5cf1d0>,\n",
              " 'ranking': <gensim.models.keyedvectors.Vocab at 0x7f20eb5cf240>,\n",
              " 'recommendation': <gensim.models.keyedvectors.Vocab at 0x7f20eb5cf278>,\n",
              " 'visual': <gensim.models.keyedvectors.Vocab at 0x7f20eb5cf2e8>,\n",
              " 'identity': <gensim.models.keyedvectors.Vocab at 0x7f20eb5cf320>,\n",
              " 'tracking': <gensim.models.keyedvectors.Vocab at 0x7f20eb5cf358>,\n",
              " 'face': <gensim.models.keyedvectors.Vocab at 0x7f20eb5cf3c8>,\n",
              " 'verification': <gensim.models.keyedvectors.Vocab at 0x7f20eb5cf400>,\n",
              " 'speaker': <gensim.models.keyedvectors.Vocab at 0x7f20eb5cf470>,\n",
              " 'take': <gensim.models.keyedvectors.Vocab at 0x7f20eb5cf4e0>,\n",
              " 'therefore': <gensim.models.keyedvectors.Vocab at 0x7f20eb5cf518>,\n",
              " 'test': <gensim.models.keyedvectors.Vocab at 0x7f20eb5cf588>,\n",
              " 'labeled': <gensim.models.keyedvectors.Vocab at 0x7f20eb5cf5f8>,\n",
              " 'categorized': <gensim.models.keyedvectors.Vocab at 0x7f20eb5cf630>,\n",
              " 'responding': <gensim.models.keyedvectors.Vocab at 0x7f20eb5cf668>,\n",
              " 'identify': <gensim.models.keyedvectors.Vocab at 0x7f20eb5cf6a0>,\n",
              " 'commonalities': <gensim.models.keyedvectors.Vocab at 0x7f20eb5cf6d8>,\n",
              " 'react': <gensim.models.keyedvectors.Vocab at 0x7f20eb5cf748>,\n",
              " 'presence': <gensim.models.keyedvectors.Vocab at 0x7f20eb5cf780>,\n",
              " 'absence': <gensim.models.keyedvectors.Vocab at 0x7f20eb5cf7f0>,\n",
              " 'piece': <gensim.models.keyedvectors.Vocab at 0x7f20eb5cf860>,\n",
              " 'central': <gensim.models.keyedvectors.Vocab at 0x7f20eb5cf8d0>,\n",
              " 'though': <gensim.models.keyedvectors.Vocab at 0x7f20eb5cf940>,\n",
              " 'encompasses': <gensim.models.keyedvectors.Vocab at 0x7f20eb5cf978>,\n",
              " 'involving': <gensim.models.keyedvectors.Vocab at 0x7f20eb5cf9b0>,\n",
              " 'summarizing': <gensim.models.keyedvectors.Vocab at 0x7f20eb5cf9e8>,\n",
              " 'explaining': <gensim.models.keyedvectors.Vocab at 0x7f20eb5cfa20>,\n",
              " 'cluster': <gensim.models.keyedvectors.Vocab at 0x7f20eb5cfa90>,\n",
              " 'assignment': <gensim.models.keyedvectors.Vocab at 0x7f20eb5cfac8>,\n",
              " 'observations': <gensim.models.keyedvectors.Vocab at 0x7f20eb5cfb00>,\n",
              " 'subsets': <gensim.models.keyedvectors.Vocab at 0x7f20eb5cfb70>,\n",
              " 'called': <gensim.models.keyedvectors.Vocab at 0x7f20eb5cfbe0>,\n",
              " 'clusters': <gensim.models.keyedvectors.Vocab at 0x7f20eb5cfc18>,\n",
              " 'so': <gensim.models.keyedvectors.Vocab at 0x7f20eb5cfc88>,\n",
              " 'predesignated': <gensim.models.keyedvectors.Vocab at 0x7f20eb5cfcc0>,\n",
              " 'criteria': <gensim.models.keyedvectors.Vocab at 0x7f20eb5cfcf8>,\n",
              " 'drawn': <gensim.models.keyedvectors.Vocab at 0x7f20eb5cfd68>,\n",
              " 'dissimilar': <gensim.models.keyedvectors.Vocab at 0x7f20eb5cfda0>,\n",
              " 'techniques': <gensim.models.keyedvectors.Vocab at 0x7f20eb5cfdd8>,\n",
              " 'defined': <gensim.models.keyedvectors.Vocab at 0x7f20eb5cfe48>,\n",
              " 'metric': <gensim.models.keyedvectors.Vocab at 0x7f20eb5cfeb8>,\n",
              " 'internal': <gensim.models.keyedvectors.Vocab at 0x7f20eb5cfef0>,\n",
              " 'compactness': <gensim.models.keyedvectors.Vocab at 0x7f20eb5cff28>,\n",
              " 'members': <gensim.models.keyedvectors.Vocab at 0x7f20eb5cff98>,\n",
              " 'separation': <gensim.models.keyedvectors.Vocab at 0x7f20eb5cffd0>,\n",
              " 'estimated': <gensim.models.keyedvectors.Vocab at 0x7f20eb5d5048>,\n",
              " 'graph': <gensim.models.keyedvectors.Vocab at 0x7f20eb5d50b8>,\n",
              " 'connectivity': <gensim.models.keyedvectors.Vocab at 0x7f20eb5d50f0>,\n",
              " 'software': <gensim.models.keyedvectors.Vocab at 0x7f20eb5d5128>,\n",
              " 'agents': <gensim.models.keyedvectors.Vocab at 0x7f20eb5d5198>,\n",
              " 'ought': <gensim.models.keyedvectors.Vocab at 0x7f20eb5d5208>,\n",
              " 'actions': <gensim.models.keyedvectors.Vocab at 0x7f20eb5d5278>,\n",
              " 'maximize': <gensim.models.keyedvectors.Vocab at 0x7f20eb5d52b0>,\n",
              " 'notion': <gensim.models.keyedvectors.Vocab at 0x7f20eb5d5320>,\n",
              " 'cumulative': <gensim.models.keyedvectors.Vocab at 0x7f20eb5d5358>,\n",
              " 'reward': <gensim.models.keyedvectors.Vocab at 0x7f20eb5d53c8>,\n",
              " 'generality': <gensim.models.keyedvectors.Vocab at 0x7f20eb5d5400>,\n",
              " 'control': <gensim.models.keyedvectors.Vocab at 0x7f20eb5d5470>,\n",
              " 'operations': <gensim.models.keyedvectors.Vocab at 0x7f20eb5d54a8>,\n",
              " 'simulation': <gensim.models.keyedvectors.Vocab at 0x7f20eb5d54e0>,\n",
              " 'multi': <gensim.models.keyedvectors.Vocab at 0x7f20eb5d5550>,\n",
              " 'agent': <gensim.models.keyedvectors.Vocab at 0x7f20eb5d55c0>,\n",
              " 'swarm': <gensim.models.keyedvectors.Vocab at 0x7f20eb5d5630>,\n",
              " 'genetic': <gensim.models.keyedvectors.Vocab at 0x7f20eb5d56a0>,\n",
              " 'typically': <gensim.models.keyedvectors.Vocab at 0x7f20eb5d56d8>,\n",
              " 'markov': <gensim.models.keyedvectors.Vocab at 0x7f20eb5d5748>,\n",
              " 'decision': <gensim.models.keyedvectors.Vocab at 0x7f20eb5d5780>,\n",
              " 'mdp': <gensim.models.keyedvectors.Vocab at 0x7f20eb5d57f0>,\n",
              " 'assume': <gensim.models.keyedvectors.Vocab at 0x7f20eb5d5860>,\n",
              " 'exact': <gensim.models.keyedvectors.Vocab at 0x7f20eb5d58d0>,\n",
              " 'processes': <gensim.models.keyedvectors.Vocab at 0x7f20eb5d5908>,\n",
              " 'applied': <gensim.models.keyedvectors.Vocab at 0x7f20eb5d5978>,\n",
              " 'enhance': <gensim.models.keyedvectors.Vocab at 0x7f20eb5d59e8>,\n",
              " 'aim': <gensim.models.keyedvectors.Vocab at 0x7f20eb5d5a58>,\n",
              " 'discovering': <gensim.models.keyedvectors.Vocab at 0x7f20eb5d5a90>,\n",
              " 'better': <gensim.models.keyedvectors.Vocab at 0x7f20eb5d5b00>,\n",
              " 'representations': <gensim.models.keyedvectors.Vocab at 0x7f20eb5d5b38>,\n",
              " 'during': <gensim.models.keyedvectors.Vocab at 0x7f20eb5d5ba8>,\n",
              " 'classic': <gensim.models.keyedvectors.Vocab at 0x7f20eb5d5c18>,\n",
              " 'principal': <gensim.models.keyedvectors.Vocab at 0x7f20eb5d5c50>,\n",
              " 'components': <gensim.models.keyedvectors.Vocab at 0x7f20eb5d5c88>,\n",
              " 'attempt': <gensim.models.keyedvectors.Vocab at 0x7f20eb5d5cf8>,\n",
              " 'preserve': <gensim.models.keyedvectors.Vocab at 0x7f20eb5d5d30>,\n",
              " 'transform': <gensim.models.keyedvectors.Vocab at 0x7f20eb5d5d68>,\n",
              " 'makes': <gensim.models.keyedvectors.Vocab at 0x7f20eb5d5dd8>,\n",
              " 'useful': <gensim.models.keyedvectors.Vocab at 0x7f20eb5d5e48>,\n",
              " 'processing': <gensim.models.keyedvectors.Vocab at 0x7f20eb5d5e80>,\n",
              " 'before': <gensim.models.keyedvectors.Vocab at 0x7f20eb5d5ef0>,\n",
              " 'technique': <gensim.models.keyedvectors.Vocab at 0x7f20eb5d5f28>,\n",
              " 'allows': <gensim.models.keyedvectors.Vocab at 0x7f20eb5d5f98>,\n",
              " 'reconstruction': <gensim.models.keyedvectors.Vocab at 0x7f20eb5d5fd0>,\n",
              " 'coming': <gensim.models.keyedvectors.Vocab at 0x7f20eb5db080>,\n",
              " 'generating': <gensim.models.keyedvectors.Vocab at 0x7f20eb5db0b8>,\n",
              " 'necessarily': <gensim.models.keyedvectors.Vocab at 0x7f20eb5db0f0>,\n",
              " 'faithful': <gensim.models.keyedvectors.Vocab at 0x7f20eb5db128>,\n",
              " 'configurations': <gensim.models.keyedvectors.Vocab at 0x7f20eb5db160>,\n",
              " 'implausible': <gensim.models.keyedvectors.Vocab at 0x7f20eb5db198>,\n",
              " 'under': <gensim.models.keyedvectors.Vocab at 0x7f20eb5db208>,\n",
              " 'replaces': <gensim.models.keyedvectors.Vocab at 0x7f20eb5db240>,\n",
              " 'manual': <gensim.models.keyedvectors.Vocab at 0x7f20eb5db2b0>,\n",
              " 'engineering': <gensim.models.keyedvectors.Vocab at 0x7f20eb5db2e8>,\n",
              " 'them': <gensim.models.keyedvectors.Vocab at 0x7f20eb5db358>,\n",
              " 'multilayer': <gensim.models.keyedvectors.Vocab at 0x7f20eb5db390>,\n",
              " 'dictionary': <gensim.models.keyedvectors.Vocab at 0x7f20eb5db3c8>,\n",
              " 'unlabeled': <gensim.models.keyedvectors.Vocab at 0x7f20eb5db400>,\n",
              " 'independent': <gensim.models.keyedvectors.Vocab at 0x7f20eb5db438>,\n",
              " 'component': <gensim.models.keyedvectors.Vocab at 0x7f20eb5db470>,\n",
              " 'autoencoders': <gensim.models.keyedvectors.Vocab at 0x7f20eb5db4a8>,\n",
              " 'factorization': <gensim.models.keyedvectors.Vocab at 0x7f20eb5db4e0>,\n",
              " 'forms': <gensim.models.keyedvectors.Vocab at 0x7f20eb5db550>,\n",
              " 'manifold': <gensim.models.keyedvectors.Vocab at 0x7f20eb5db588>,\n",
              " 'constraint': <gensim.models.keyedvectors.Vocab at 0x7f20eb5db5c0>,\n",
              " 'low': <gensim.models.keyedvectors.Vocab at 0x7f20eb5db630>,\n",
              " 'dimensional': <gensim.models.keyedvectors.Vocab at 0x7f20eb5db668>,\n",
              " 'sparse': <gensim.models.keyedvectors.Vocab at 0x7f20eb5db6d8>,\n",
              " 'coding': <gensim.models.keyedvectors.Vocab at 0x7f20eb5db748>,\n",
              " 'zeros': <gensim.models.keyedvectors.Vocab at 0x7f20eb5db7b8>,\n",
              " 'multilinear': <gensim.models.keyedvectors.Vocab at 0x7f20eb5db7f0>,\n",
              " 'subspace': <gensim.models.keyedvectors.Vocab at 0x7f20eb5db828>,\n",
              " 'directly': <gensim.models.keyedvectors.Vocab at 0x7f20eb5db860>,\n",
              " 'tensor': <gensim.models.keyedvectors.Vocab at 0x7f20eb5db8d0>,\n",
              " 'multidimensional': <gensim.models.keyedvectors.Vocab at 0x7f20eb5db908>,\n",
              " 'reshaping': <gensim.models.keyedvectors.Vocab at 0x7f20eb5db940>,\n",
              " 'higher': <gensim.models.keyedvectors.Vocab at 0x7f20eb5db9b0>,\n",
              " 'vectors': <gensim.models.keyedvectors.Vocab at 0x7f20eb5dba20>,\n",
              " 'deep': <gensim.models.keyedvectors.Vocab at 0x7f20eb5dba90>,\n",
              " 'multiple': <gensim.models.keyedvectors.Vocab at 0x7f20eb5dbac8>,\n",
              " 'levels': <gensim.models.keyedvectors.Vocab at 0x7f20eb5dbb38>,\n",
              " 'hierarchy': <gensim.models.keyedvectors.Vocab at 0x7f20eb5dbb70>,\n",
              " 'level': <gensim.models.keyedvectors.Vocab at 0x7f20eb5dbbe0>,\n",
              " 'abstract': <gensim.models.keyedvectors.Vocab at 0x7f20eb5dbc18>,\n",
              " 'lower': <gensim.models.keyedvectors.Vocab at 0x7f20eb5dbc88>,\n",
              " 'argued': <gensim.models.keyedvectors.Vocab at 0x7f20eb5dbcf8>,\n",
              " 'intelligent': <gensim.models.keyedvectors.Vocab at 0x7f20eb5dbd30>,\n",
              " 'learns': <gensim.models.keyedvectors.Vocab at 0x7f20eb5dbda0>,\n",
              " 'disentangles': <gensim.models.keyedvectors.Vocab at 0x7f20eb5dbdd8>,\n",
              " 'factors': <gensim.models.keyedvectors.Vocab at 0x7f20eb5dbe48>,\n",
              " 'variation': <gensim.models.keyedvectors.Vocab at 0x7f20eb5dbe80>,\n",
              " 'explain': <gensim.models.keyedvectors.Vocab at 0x7f20eb5dbef0>,\n",
              " 'observed': <gensim.models.keyedvectors.Vocab at 0x7f20eb5dbf28>,\n",
              " 'motivated': <gensim.models.keyedvectors.Vocab at 0x7f20eb5dbf60>,\n",
              " 'fact': <gensim.models.keyedvectors.Vocab at 0x7f20eb5dbfd0>,\n",
              " 'require': <gensim.models.keyedvectors.Vocab at 0x7f20eb5e3080>,\n",
              " 'mathematically': <gensim.models.keyedvectors.Vocab at 0x7f20eb5e30b8>,\n",
              " 'computationally': <gensim.models.keyedvectors.Vocab at 0x7f20eb5e30f0>,\n",
              " 'convenient': <gensim.models.keyedvectors.Vocab at 0x7f20eb5e3128>,\n",
              " 'real': <gensim.models.keyedvectors.Vocab at 0x7f20eb5e3198>,\n",
              " 'world': <gensim.models.keyedvectors.Vocab at 0x7f20eb5e3208>,\n",
              " 'video': <gensim.models.keyedvectors.Vocab at 0x7f20eb5e3278>,\n",
              " 'sensory': <gensim.models.keyedvectors.Vocab at 0x7f20eb5e32e8>,\n",
              " 'yielded': <gensim.models.keyedvectors.Vocab at 0x7f20eb5e3358>,\n",
              " 'attempts': <gensim.models.keyedvectors.Vocab at 0x7f20eb5e3390>,\n",
              " 'algorithmically': <gensim.models.keyedvectors.Vocab at 0x7f20eb5e33c8>,\n",
              " 'define': <gensim.models.keyedvectors.Vocab at 0x7f20eb5e3438>,\n",
              " 'alternative': <gensim.models.keyedvectors.Vocab at 0x7f20eb5e3470>,\n",
              " 'examination': <gensim.models.keyedvectors.Vocab at 0x7f20eb5e34a8>,\n",
              " 'combination': <gensim.models.keyedvectors.Vocab at 0x7f20eb5e34e0>,\n",
              " 'basis': <gensim.models.keyedvectors.Vocab at 0x7f20eb5e3550>,\n",
              " 'assumed': <gensim.models.keyedvectors.Vocab at 0x7f20eb5e35c0>,\n",
              " 'strongly': <gensim.models.keyedvectors.Vocab at 0x7f20eb5e35f8>,\n",
              " 'np': <gensim.models.keyedvectors.Vocab at 0x7f20eb5e3668>,\n",
              " 'hard': <gensim.models.keyedvectors.Vocab at 0x7f20eb5e36d8>,\n",
              " 'difficult': <gensim.models.keyedvectors.Vocab at 0x7f20eb5e3710>,\n",
              " 'approximately': <gensim.models.keyedvectors.Vocab at 0x7f20eb5e3748>,\n",
              " 'popular': <gensim.models.keyedvectors.Vocab at 0x7f20eb5e37b8>,\n",
              " 'heuristic': <gensim.models.keyedvectors.Vocab at 0x7f20eb5e37f0>,\n",
              " 'k': <gensim.models.keyedvectors.Vocab at 0x7f20eb5e3828>,\n",
              " 'svd': <gensim.models.keyedvectors.Vocab at 0x7f20eb5e3898>,\n",
              " 'contexts': <gensim.models.keyedvectors.Vocab at 0x7f20eb5e38d0>,\n",
              " 'belongs': <gensim.models.keyedvectors.Vocab at 0x7f20eb5e3940>,\n",
              " 'built': <gensim.models.keyedvectors.Vocab at 0x7f20eb5e39b0>,\n",
              " 'sparsely': <gensim.models.keyedvectors.Vocab at 0x7f20eb5e39e8>,\n",
              " 'corresponding': <gensim.models.keyedvectors.Vocab at 0x7f20eb5e3a20>,\n",
              " 'de': <gensim.models.keyedvectors.Vocab at 0x7f20eb5e3a90>,\n",
              " 'noising': <gensim.models.keyedvectors.Vocab at 0x7f20eb5e3b00>,\n",
              " 'idea': <gensim.models.keyedvectors.Vocab at 0x7f20eb5e3b70>,\n",
              " 'clean': <gensim.models.keyedvectors.Vocab at 0x7f20eb5e3be0>,\n",
              " 'patch': <gensim.models.keyedvectors.Vocab at 0x7f20eb5e3c50>,\n",
              " 'noise': <gensim.models.keyedvectors.Vocab at 0x7f20eb5e3cc0>,\n",
              " 'anomaly': <gensim.models.keyedvectors.Vocab at 0x7f20eb5e3d30>,\n",
              " 'outlier': <gensim.models.keyedvectors.Vocab at 0x7f20eb5e3da0>,\n",
              " 'identification': <gensim.models.keyedvectors.Vocab at 0x7f20eb5e3dd8>,\n",
              " 'rare': <gensim.models.keyedvectors.Vocab at 0x7f20eb5e3e48>,\n",
              " 'items': <gensim.models.keyedvectors.Vocab at 0x7f20eb5e3eb8>,\n",
              " 'events': <gensim.models.keyedvectors.Vocab at 0x7f20eb5e3f28>,\n",
              " 'raise': <gensim.models.keyedvectors.Vocab at 0x7f20eb5e3f98>,\n",
              " 'suspicions': <gensim.models.keyedvectors.Vocab at 0x7f20eb5e3fd0>,\n",
              " 'differing': <gensim.models.keyedvectors.Vocab at 0x7f20eb567048>,\n",
              " 'majority': <gensim.models.keyedvectors.Vocab at 0x7f20eb567080>,\n",
              " 'anomalous': <gensim.models.keyedvectors.Vocab at 0x7f20eb5670b8>,\n",
              " 'represent': <gensim.models.keyedvectors.Vocab at 0x7f20eb5670f0>,\n",
              " 'issue': <gensim.models.keyedvectors.Vocab at 0x7f20eb567160>,\n",
              " 'bank': <gensim.models.keyedvectors.Vocab at 0x7f20eb5671d0>,\n",
              " 'fraud': <gensim.models.keyedvectors.Vocab at 0x7f20eb567240>,\n",
              " 'structural': <gensim.models.keyedvectors.Vocab at 0x7f20eb567278>,\n",
              " 'defect': <gensim.models.keyedvectors.Vocab at 0x7f20eb5672e8>,\n",
              " 'errors': <gensim.models.keyedvectors.Vocab at 0x7f20eb567358>,\n",
              " 'text': <gensim.models.keyedvectors.Vocab at 0x7f20eb5673c8>,\n",
              " 'anomalies': <gensim.models.keyedvectors.Vocab at 0x7f20eb567400>,\n",
              " 'outliers': <gensim.models.keyedvectors.Vocab at 0x7f20eb567438>,\n",
              " 'novelties': <gensim.models.keyedvectors.Vocab at 0x7f20eb567470>,\n",
              " 'deviations': <gensim.models.keyedvectors.Vocab at 0x7f20eb5674a8>,\n",
              " 'exceptions': <gensim.models.keyedvectors.Vocab at 0x7f20eb5674e0>,\n",
              " 'particular': <gensim.models.keyedvectors.Vocab at 0x7f20eb567518>,\n",
              " 'abuse': <gensim.models.keyedvectors.Vocab at 0x7f20eb567588>,\n",
              " 'intrusion': <gensim.models.keyedvectors.Vocab at 0x7f20eb5675c0>,\n",
              " 'interesting': <gensim.models.keyedvectors.Vocab at 0x7f20eb5675f8>,\n",
              " 'unexpected': <gensim.models.keyedvectors.Vocab at 0x7f20eb567630>,\n",
              " 'bursts': <gensim.models.keyedvectors.Vocab at 0x7f20eb5676a0>,\n",
              " 'activity': <gensim.models.keyedvectors.Vocab at 0x7f20eb5676d8>,\n",
              " 'adhere': <gensim.models.keyedvectors.Vocab at 0x7f20eb567748>,\n",
              " 'fail': <gensim.models.keyedvectors.Vocab at 0x7f20eb5677b8>,\n",
              " 'unless': <gensim.models.keyedvectors.Vocab at 0x7f20eb567828>,\n",
              " 'aggregated': <gensim.models.keyedvectors.Vocab at 0x7f20eb567860>,\n",
              " 'appropriately': <gensim.models.keyedvectors.Vocab at 0x7f20eb567898>,\n",
              " 'able': <gensim.models.keyedvectors.Vocab at 0x7f20eb567908>,\n",
              " 'detect': <gensim.models.keyedvectors.Vocab at 0x7f20eb567978>,\n",
              " 'micro': <gensim.models.keyedvectors.Vocab at 0x7f20eb5679e8>,\n",
              " 'formed': <gensim.models.keyedvectors.Vocab at 0x7f20eb567a58>,\n",
              " 'three': <gensim.models.keyedvectors.Vocab at 0x7f20eb567ac8>,\n",
              " 'exist': <gensim.models.keyedvectors.Vocab at 0x7f20eb567b38>,\n",
              " 'assumption': <gensim.models.keyedvectors.Vocab at 0x7f20eb567b70>,\n",
              " 'normal': <gensim.models.keyedvectors.Vocab at 0x7f20eb567be0>,\n",
              " 'looking': <gensim.models.keyedvectors.Vocab at 0x7f20eb567c50>,\n",
              " 'seem': <gensim.models.keyedvectors.Vocab at 0x7f20eb567cc0>,\n",
              " 'fit': <gensim.models.keyedvectors.Vocab at 0x7f20eb567d30>,\n",
              " 'least': <gensim.models.keyedvectors.Vocab at 0x7f20eb567da0>,\n",
              " 'remainder': <gensim.models.keyedvectors.Vocab at 0x7f20eb567dd8>,\n",
              " 'abnormal': <gensim.models.keyedvectors.Vocab at 0x7f20eb567e10>,\n",
              " 'involves': <gensim.models.keyedvectors.Vocab at 0x7f20eb567e48>,\n",
              " 'classifier': <gensim.models.keyedvectors.Vocab at 0x7f20eb567e80>,\n",
              " 'inherent': <gensim.models.keyedvectors.Vocab at 0x7f20eb567eb8>,\n",
              " 'unbalanced': <gensim.models.keyedvectors.Vocab at 0x7f20eb567ef0>,\n",
              " 'construct': <gensim.models.keyedvectors.Vocab at 0x7f20eb567f28>,\n",
              " 'representing': <gensim.models.keyedvectors.Vocab at 0x7f20eb567f60>,\n",
              " 'behavior': <gensim.models.keyedvectors.Vocab at 0x7f20eb567f98>,\n",
              " 'likelihood': <gensim.models.keyedvectors.Vocab at 0x7f20eb567fd0>,\n",
              " 'instance': <gensim.models.keyedvectors.Vocab at 0x7f20eb56f048>,\n",
              " 'generated': <gensim.models.keyedvectors.Vocab at 0x7f20eb56f080>,\n",
              " 'trees': <gensim.models.keyedvectors.Vocab at 0x7f20eb56f0f0>,\n",
              " 'tree': <gensim.models.keyedvectors.Vocab at 0x7f20eb56f160>,\n",
              " 'go': <gensim.models.keyedvectors.Vocab at 0x7f20eb56f1d0>,\n",
              " 'item': <gensim.models.keyedvectors.Vocab at 0x7f20eb56f240>,\n",
              " 'branches': <gensim.models.keyedvectors.Vocab at 0x7f20eb56f278>,\n",
              " 'conclusions': <gensim.models.keyedvectors.Vocab at 0x7f20eb56f2b0>,\n",
              " 'target': <gensim.models.keyedvectors.Vocab at 0x7f20eb56f320>,\n",
              " 'leaves': <gensim.models.keyedvectors.Vocab at 0x7f20eb56f390>,\n",
              " 'variable': <gensim.models.keyedvectors.Vocab at 0x7f20eb56f3c8>,\n",
              " 'discrete': <gensim.models.keyedvectors.Vocab at 0x7f20eb56f400>,\n",
              " 'structures': <gensim.models.keyedvectors.Vocab at 0x7f20eb56f438>,\n",
              " 'conjunctions': <gensim.models.keyedvectors.Vocab at 0x7f20eb56f470>,\n",
              " 'lead': <gensim.models.keyedvectors.Vocab at 0x7f20eb56f4e0>,\n",
              " 'those': <gensim.models.keyedvectors.Vocab at 0x7f20eb56f550>,\n",
              " 'numbers': <gensim.models.keyedvectors.Vocab at 0x7f20eb56f5c0>,\n",
              " 'visually': <gensim.models.keyedvectors.Vocab at 0x7f20eb56f5f8>,\n",
              " 'describes': <gensim.models.keyedvectors.Vocab at 0x7f20eb56f630>,\n",
              " 'resulting': <gensim.models.keyedvectors.Vocab at 0x7f20eb56f668>,\n",
              " 'association': <gensim.models.keyedvectors.Vocab at 0x7f20eb56f6a0>,\n",
              " 'rules': <gensim.models.keyedvectors.Vocab at 0x7f20eb56f710>,\n",
              " 'rule': <gensim.models.keyedvectors.Vocab at 0x7f20eb56f780>,\n",
              " 'variables': <gensim.models.keyedvectors.Vocab at 0x7f20eb56f7b8>,\n",
              " 'large': <gensim.models.keyedvectors.Vocab at 0x7f20eb56f828>,\n",
              " 'strong': <gensim.models.keyedvectors.Vocab at 0x7f20eb56f898>,\n",
              " 'discovered': <gensim.models.keyedvectors.Vocab at 0x7f20eb56f8d0>,\n",
              " 'interestingness': <gensim.models.keyedvectors.Vocab at 0x7f20eb56f908>,\n",
              " 'generates': <gensim.models.keyedvectors.Vocab at 0x7f20eb56f940>,\n",
              " 'analyzes': <gensim.models.keyedvectors.Vocab at 0x7f20eb56f978>,\n",
              " 'ultimate': <gensim.models.keyedvectors.Vocab at 0x7f20eb56f9b0>,\n",
              " 'assuming': <gensim.models.keyedvectors.Vocab at 0x7f20eb56f9e8>,\n",
              " 'enough': <gensim.models.keyedvectors.Vocab at 0x7f20eb56fa58>,\n",
              " 'help': <gensim.models.keyedvectors.Vocab at 0x7f20eb56fac8>,\n",
              " 'mimic': <gensim.models.keyedvectors.Vocab at 0x7f20eb56fb38>,\n",
              " 'brain': <gensim.models.keyedvectors.Vocab at 0x7f20eb56fba8>,\n",
              " 'extraction': <gensim.models.keyedvectors.Vocab at 0x7f20eb56fbe0>,\n",
              " 'capabilities': <gensim.models.keyedvectors.Vocab at 0x7f20eb56fc18>,\n",
              " 'evolves': <gensim.models.keyedvectors.Vocab at 0x7f20eb56fc88>,\n",
              " 'store': <gensim.models.keyedvectors.Vocab at 0x7f20eb56fcf8>,\n",
              " 'manipulate': <gensim.models.keyedvectors.Vocab at 0x7f20eb56fd30>,\n",
              " 'apply': <gensim.models.keyedvectors.Vocab at 0x7f20eb56fda0>,\n",
              " 'characteristic': <gensim.models.keyedvectors.Vocab at 0x7f20eb56fdd8>,\n",
              " 'utilization': <gensim.models.keyedvectors.Vocab at 0x7f20eb56fe10>,\n",
              " 'relational': <gensim.models.keyedvectors.Vocab at 0x7f20eb56fe48>,\n",
              " 'collectively': <gensim.models.keyedvectors.Vocab at 0x7f20eb56fe80>,\n",
              " 'captured': <gensim.models.keyedvectors.Vocab at 0x7f20eb56feb8>,\n",
              " 'system': <gensim.models.keyedvectors.Vocab at 0x7f20eb56ff28>,\n",
              " 'contrast': <gensim.models.keyedvectors.Vocab at 0x7f20eb56ff60>,\n",
              " 'commonly': <gensim.models.keyedvectors.Vocab at 0x7f20eb56ff98>,\n",
              " 'singular': <gensim.models.keyedvectors.Vocab at 0x7f20eb56ffd0>,\n",
              " 'universally': <gensim.models.keyedvectors.Vocab at 0x7f20eb576048>,\n",
              " 'immune': <gensim.models.keyedvectors.Vocab at 0x7f20eb5760b8>,\n",
              " 'concept': <gensim.models.keyedvectors.Vocab at 0x7f20eb576128>,\n",
              " 'rakesh': <gensim.models.keyedvectors.Vocab at 0x7f20eb576198>,\n",
              " 'agrawal': <gensim.models.keyedvectors.Vocab at 0x7f20eb576208>,\n",
              " 'tomasz': <gensim.models.keyedvectors.Vocab at 0x7f20eb576278>,\n",
              " 'imieli': <gensim.models.keyedvectors.Vocab at 0x7f20eb5762e8>,\n",
              " 'ski': <gensim.models.keyedvectors.Vocab at 0x7f20eb576358>,\n",
              " 'arun': <gensim.models.keyedvectors.Vocab at 0x7f20eb5763c8>,\n",
              " 'swami': <gensim.models.keyedvectors.Vocab at 0x7f20eb576438>,\n",
              " 'introduced': <gensim.models.keyedvectors.Vocab at 0x7f20eb576470>,\n",
              " 'regularities': <gensim.models.keyedvectors.Vocab at 0x7f20eb5764a8>,\n",
              " 'products': <gensim.models.keyedvectors.Vocab at 0x7f20eb5764e0>,\n",
              " 'scale': <gensim.models.keyedvectors.Vocab at 0x7f20eb576550>,\n",
              " 'transaction': <gensim.models.keyedvectors.Vocab at 0x7f20eb576588>,\n",
              " 'recorded': <gensim.models.keyedvectors.Vocab at 0x7f20eb5765c0>,\n",
              " 'point': <gensim.models.keyedvectors.Vocab at 0x7f20eb576630>,\n",
              " 'sale': <gensim.models.keyedvectors.Vocab at 0x7f20eb5766a0>,\n",
              " 'pos': <gensim.models.keyedvectors.Vocab at 0x7f20eb576710>,\n",
              " 'supermarkets': <gensim.models.keyedvectors.Vocab at 0x7f20eb576748>,\n",
              " 'o': <gensim.models.keyedvectors.Vocab at 0x7f20eb576780>,\n",
              " 'n': <gensim.models.keyedvectors.Vocab at 0x7f20eb5767b8>,\n",
              " 'b': <gensim.models.keyedvectors.Vocab at 0x7f20eb5767f0>,\n",
              " 'u': <gensim.models.keyedvectors.Vocab at 0x7f20eb576828>,\n",
              " 'r': <gensim.models.keyedvectors.Vocab at 0x7f20eb576860>,\n",
              " 'g': <gensim.models.keyedvectors.Vocab at 0x7f20eb576898>,\n",
              " 'displaystyle': <gensim.models.keyedvectors.Vocab at 0x7f20eb5768d0>,\n",
              " 'mathrm': <gensim.models.keyedvectors.Vocab at 0x7f20eb576940>,\n",
              " 'onions': <gensim.models.keyedvectors.Vocab at 0x7f20eb5769b0>,\n",
              " 'potatoes': <gensim.models.keyedvectors.Vocab at 0x7f20eb5769e8>,\n",
              " 'rightarrow': <gensim.models.keyedvectors.Vocab at 0x7f20eb576a20>,\n",
              " 'burger': <gensim.models.keyedvectors.Vocab at 0x7f20eb576a90>,\n",
              " 'sales': <gensim.models.keyedvectors.Vocab at 0x7f20eb576b00>,\n",
              " 'supermarket': <gensim.models.keyedvectors.Vocab at 0x7f20eb576b38>,\n",
              " 'indicate': <gensim.models.keyedvectors.Vocab at 0x7f20eb576b70>,\n",
              " 'customer': <gensim.models.keyedvectors.Vocab at 0x7f20eb576ba8>,\n",
              " 'buys': <gensim.models.keyedvectors.Vocab at 0x7f20eb576c18>,\n",
              " 'together': <gensim.models.keyedvectors.Vocab at 0x7f20eb576c50>,\n",
              " 'likely': <gensim.models.keyedvectors.Vocab at 0x7f20eb576cc0>,\n",
              " 'buy': <gensim.models.keyedvectors.Vocab at 0x7f20eb576d30>,\n",
              " 'hamburger': <gensim.models.keyedvectors.Vocab at 0x7f20eb576d68>,\n",
              " 'meat': <gensim.models.keyedvectors.Vocab at 0x7f20eb576dd8>,\n",
              " 'marketing': <gensim.models.keyedvectors.Vocab at 0x7f20eb576e10>,\n",
              " 'activities': <gensim.models.keyedvectors.Vocab at 0x7f20eb576e48>,\n",
              " 'promotional': <gensim.models.keyedvectors.Vocab at 0x7f20eb576e80>,\n",
              " 'pricing': <gensim.models.keyedvectors.Vocab at 0x7f20eb576ef0>,\n",
              " 'product': <gensim.models.keyedvectors.Vocab at 0x7f20eb576f60>,\n",
              " 'placements': <gensim.models.keyedvectors.Vocab at 0x7f20eb576f98>,\n",
              " 'market': <gensim.models.keyedvectors.Vocab at 0x7f20eb57c048>,\n",
              " 'basket': <gensim.models.keyedvectors.Vocab at 0x7f20eb57c0b8>,\n",
              " 'today': <gensim.models.keyedvectors.Vocab at 0x7f20eb57c128>,\n",
              " 'areas': <gensim.models.keyedvectors.Vocab at 0x7f20eb57c198>,\n",
              " 'web': <gensim.models.keyedvectors.Vocab at 0x7f20eb57c208>,\n",
              " 'usage': <gensim.models.keyedvectors.Vocab at 0x7f20eb57c278>,\n",
              " 'production': <gensim.models.keyedvectors.Vocab at 0x7f20eb57c2b0>,\n",
              " 'bioinformatics': <gensim.models.keyedvectors.Vocab at 0x7f20eb57c2e8>,\n",
              " 'sequence': <gensim.models.keyedvectors.Vocab at 0x7f20eb57c320>,\n",
              " 'consider': <gensim.models.keyedvectors.Vocab at 0x7f20eb57c358>,\n",
              " 'transactions': <gensim.models.keyedvectors.Vocab at 0x7f20eb57c390>,\n",
              " 'lcs': <gensim.models.keyedvectors.Vocab at 0x7f20eb57c400>,\n",
              " 'family': <gensim.models.keyedvectors.Vocab at 0x7f20eb57c470>,\n",
              " 'combine': <gensim.models.keyedvectors.Vocab at 0x7f20eb57c4e0>,\n",
              " 'seek': <gensim.models.keyedvectors.Vocab at 0x7f20eb57c550>,\n",
              " 'dependent': <gensim.models.keyedvectors.Vocab at 0x7f20eb57c588>,\n",
              " 'piecewise': <gensim.models.keyedvectors.Vocab at 0x7f20eb57c5c0>,\n",
              " 'manner': <gensim.models.keyedvectors.Vocab at 0x7f20eb57c630>,\n",
              " ...}"
            ]
          },
          "metadata": {
            "tags": []
          },
          "execution_count": 35
        }
      ]
    },
    {
      "metadata": {
        "id": "XxUuShBTRaYH",
        "colab_type": "text"
      },
      "cell_type": "markdown",
      "source": [
        "#### Check how many words in the model"
      ]
    },
    {
      "metadata": {
        "id": "S4lMhzWlRamw",
        "colab_type": "code",
        "colab": {
          "base_uri": "https://localhost:8080/",
          "height": 88
        },
        "outputId": "9af555de-ec55-4b02-b617-5e8d7adba4a0"
      },
      "cell_type": "code",
      "source": [
        "#Model size\n",
        "model.wv.syn0.shape"
      ],
      "execution_count": 28,
      "outputs": [
        {
          "output_type": "stream",
          "text": [
            "/usr/local/lib/python3.6/dist-packages/ipykernel_launcher.py:1: DeprecationWarning: Call to deprecated `syn0` (Attribute will be removed in 4.0.0, use self.vectors instead).\n",
            "  \"\"\"Entry point for launching an IPython kernel.\n"
          ],
          "name": "stderr"
        },
        {
          "output_type": "execute_result",
          "data": {
            "text/plain": [
              "(4996, 50)"
            ]
          },
          "metadata": {
            "tags": []
          },
          "execution_count": 28
        }
      ]
    },
    {
      "metadata": {
        "id": "KshrfDklReIl",
        "colab_type": "text"
      },
      "cell_type": "markdown",
      "source": [
        "### Get an embedding for word `SVM`"
      ]
    },
    {
      "metadata": {
        "id": "YiwT1OjARg6e",
        "colab_type": "code",
        "colab": {
          "base_uri": "https://localhost:8080/",
          "height": 204
        },
        "outputId": "4f966d67-d40b-4a40-b09d-f2ffe1065f5d"
      },
      "cell_type": "code",
      "source": [
        "model.wv['svm']"
      ],
      "execution_count": 30,
      "outputs": [
        {
          "output_type": "execute_result",
          "data": {
            "text/plain": [
              "array([ 0.2800623 ,  0.20127156, -0.3407859 , -0.705355  , -0.85151213,\n",
              "       -1.6257099 ,  0.6738639 , -2.5321972 ,  0.34806255, -0.16326872,\n",
              "       -0.6398866 , -0.452846  ,  0.8248211 ,  0.00729437,  1.0059702 ,\n",
              "       -1.7285237 , -1.262107  ,  0.3972981 ,  0.58309597,  0.40862173,\n",
              "       -0.84035695,  0.18561108,  0.5871449 ,  0.29424575,  0.13546965,\n",
              "        0.8263362 ,  0.2117377 , -0.59563345, -0.49988022,  0.17131609,\n",
              "        0.02265598,  0.24998614, -0.8251799 , -1.168657  , -0.719578  ,\n",
              "       -0.0276122 , -0.08623041,  0.03686927,  0.54312724, -0.0164139 ,\n",
              "       -0.68762356,  0.18960284,  0.03494981,  0.36757442,  0.55951416,\n",
              "       -0.17088094, -0.3889628 , -0.5338555 , -0.24106371, -0.15365475],\n",
              "      dtype=float32)"
            ]
          },
          "metadata": {
            "tags": []
          },
          "execution_count": 30
        }
      ]
    },
    {
      "metadata": {
        "id": "7COLA1LzRhTj",
        "colab_type": "text"
      },
      "cell_type": "markdown",
      "source": [
        "### Finding most similar words for word `learning`"
      ]
    },
    {
      "metadata": {
        "id": "tEsMKWY6Ri3n",
        "colab_type": "code",
        "colab": {
          "base_uri": "https://localhost:8080/",
          "height": 187
        },
        "outputId": "2437e371-608b-4848-9aa8-e5d855b34fce"
      },
      "cell_type": "code",
      "source": [
        "model.wv.most_similar('learning')"
      ],
      "execution_count": 31,
      "outputs": [
        {
          "output_type": "execute_result",
          "data": {
            "text/plain": [
              "[('machine', 0.9994152188301086),\n",
              " ('deep', 0.9952560663223267),\n",
              " ('algorithms', 0.9936792254447937),\n",
              " ('supervised', 0.9935314655303955),\n",
              " ('neural', 0.9932076930999756),\n",
              " ('networks', 0.9918355345726013),\n",
              " ('belief', 0.9900069236755371),\n",
              " ('projects', 0.9893432259559631),\n",
              " ('build', 0.9881439805030823),\n",
              " ('convolutional', 0.9876442551612854)]"
            ]
          },
          "metadata": {
            "tags": []
          },
          "execution_count": 31
        }
      ]
    },
    {
      "metadata": {
        "id": "K8QjNuDKRlvt",
        "colab_type": "text"
      },
      "cell_type": "markdown",
      "source": [
        "### Find the word which is not like others from `machine, svm, ball, learning`"
      ]
    },
    {
      "metadata": {
        "id": "oBudwDHtRl3u",
        "colab_type": "code",
        "colab": {
          "base_uri": "https://localhost:8080/",
          "height": 88
        },
        "outputId": "3dac4ff3-8857-4473-a0c7-9c1760374b60"
      },
      "cell_type": "code",
      "source": [
        "words=['machine', 'svm', 'ball', 'learning']\n",
        "model.doesnt_match(words)"
      ],
      "execution_count": 32,
      "outputs": [
        {
          "output_type": "stream",
          "text": [
            "/usr/local/lib/python3.6/dist-packages/ipykernel_launcher.py:2: DeprecationWarning: Call to deprecated `doesnt_match` (Method will be removed in 4.0.0, use self.wv.doesnt_match() instead).\n",
            "  \n"
          ],
          "name": "stderr"
        },
        {
          "output_type": "execute_result",
          "data": {
            "text/plain": [
              "'ball'"
            ]
          },
          "metadata": {
            "tags": []
          },
          "execution_count": 32
        }
      ]
    },
    {
      "metadata": {
        "id": "cjNQ0yMNRn6D",
        "colab_type": "text"
      },
      "cell_type": "markdown",
      "source": [
        "### Save the model with name `word2vec-wiki-10`"
      ]
    },
    {
      "metadata": {
        "id": "bynMebY5RoLn",
        "colab_type": "code",
        "colab": {}
      },
      "cell_type": "code",
      "source": [
        "model.save('word2vec-wiki-10')"
      ],
      "execution_count": 0,
      "outputs": []
    },
    {
      "metadata": {
        "id": "cDeem0T5RqTn",
        "colab_type": "text"
      },
      "cell_type": "markdown",
      "source": [
        "### Load the model `word2vec-wiki-10`"
      ]
    },
    {
      "metadata": {
        "id": "VJJk04KfRqen",
        "colab_type": "code",
        "colab": {}
      },
      "cell_type": "code",
      "source": [
        "#Load model from memory\n",
        "model = gensim.models.Word2Vec.load('word2vec-wiki-10')"
      ],
      "execution_count": 0,
      "outputs": []
    },
    {
      "metadata": {
        "id": "rbjJdFaIEqhn",
        "colab_type": "code",
        "colab": {}
      },
      "cell_type": "code",
      "source": [
        ""
      ],
      "execution_count": 0,
      "outputs": []
    }
  ]
}